{
 "cells": [
  {
   "cell_type": "code",
   "execution_count": 13,
   "metadata": {},
   "outputs": [
    {
     "name": "stdout",
     "output_type": "stream",
     "text": [
      "Requirement already satisfied: geoplot in c:\\users\\nisleida morales\\anaconda3\\envs\\ox\\lib\\site-packages (0.5.1)\n",
      "Requirement already satisfied: mapclassify>=2.1 in c:\\users\\nisleida morales\\anaconda3\\envs\\ox\\lib\\site-packages (from geoplot) (2.4.3)\n",
      "Requirement already satisfied: pandas in c:\\users\\nisleida morales\\anaconda3\\envs\\ox\\lib\\site-packages (from geoplot) (1.4.4)\n",
      "Requirement already satisfied: geopandas>=0.9.0 in c:\\users\\nisleida morales\\anaconda3\\envs\\ox\\lib\\site-packages (from geoplot) (0.11.1)\n",
      "Requirement already satisfied: matplotlib>=3.1.2 in c:\\users\\nisleida morales\\anaconda3\\envs\\ox\\lib\\site-packages (from geoplot) (3.5.3)\n",
      "Requirement already satisfied: cartopy in c:\\users\\nisleida morales\\anaconda3\\envs\\ox\\lib\\site-packages (from geoplot) (0.22.0)\n",
      "Requirement already satisfied: contextily>=1.0.0 in c:\\users\\nisleida morales\\anaconda3\\envs\\ox\\lib\\site-packages (from geoplot) (1.5.0)\n",
      "Requirement already satisfied: seaborn in c:\\users\\nisleida morales\\anaconda3\\envs\\ox\\lib\\site-packages (from geoplot) (0.13.0)\n",
      "Requirement already satisfied: geopy in c:\\users\\nisleida morales\\anaconda3\\envs\\ox\\lib\\site-packages (from contextily>=1.0.0->geoplot) (2.4.1)\n",
      "Requirement already satisfied: requests in c:\\users\\nisleida morales\\anaconda3\\envs\\ox\\lib\\site-packages (from contextily>=1.0.0->geoplot) (2.28.1)\n",
      "Requirement already satisfied: mercantile in c:\\users\\nisleida morales\\anaconda3\\envs\\ox\\lib\\site-packages (from contextily>=1.0.0->geoplot) (1.2.1)\n",
      "Requirement already satisfied: joblib in c:\\users\\nisleida morales\\anaconda3\\envs\\ox\\lib\\site-packages (from contextily>=1.0.0->geoplot) (1.1.0)\n",
      "Requirement already satisfied: pillow in c:\\users\\nisleida morales\\anaconda3\\envs\\ox\\lib\\site-packages (from contextily>=1.0.0->geoplot) (9.2.0)\n",
      "Requirement already satisfied: rasterio in c:\\users\\nisleida morales\\anaconda3\\envs\\ox\\lib\\site-packages (from contextily>=1.0.0->geoplot) (1.3.2)\n",
      "Requirement already satisfied: xyzservices in c:\\users\\nisleida morales\\anaconda3\\envs\\ox\\lib\\site-packages (from contextily>=1.0.0->geoplot) (2022.6.0)\n",
      "Requirement already satisfied: pyproj>=2.6.1.post1 in c:\\users\\nisleida morales\\anaconda3\\envs\\ox\\lib\\site-packages (from geopandas>=0.9.0->geoplot) (3.4.0)\n",
      "Requirement already satisfied: packaging in c:\\users\\nisleida morales\\anaconda3\\envs\\ox\\lib\\site-packages (from geopandas>=0.9.0->geoplot) (21.3)\n",
      "Requirement already satisfied: shapely<2,>=1.7 in c:\\users\\nisleida morales\\anaconda3\\envs\\ox\\lib\\site-packages (from geopandas>=0.9.0->geoplot) (1.8.4)\n",
      "Requirement already satisfied: fiona>=1.8 in c:\\users\\nisleida morales\\anaconda3\\envs\\ox\\lib\\site-packages (from geopandas>=0.9.0->geoplot) (1.8.21)\n",
      "Requirement already satisfied: scikit-learn in c:\\users\\nisleida morales\\anaconda3\\envs\\ox\\lib\\site-packages (from mapclassify>=2.1->geoplot) (1.1.2)\n",
      "Requirement already satisfied: numpy>=1.3 in c:\\users\\nisleida morales\\anaconda3\\envs\\ox\\lib\\site-packages (from mapclassify>=2.1->geoplot) (1.23.2)\n",
      "Requirement already satisfied: scipy>=1.0 in c:\\users\\nisleida morales\\anaconda3\\envs\\ox\\lib\\site-packages (from mapclassify>=2.1->geoplot) (1.9.1)\n",
      "Requirement already satisfied: networkx in c:\\users\\nisleida morales\\anaconda3\\envs\\ox\\lib\\site-packages (from mapclassify>=2.1->geoplot) (2.8.6)\n",
      "Requirement already satisfied: cycler>=0.10 in c:\\users\\nisleida morales\\anaconda3\\envs\\ox\\lib\\site-packages (from matplotlib>=3.1.2->geoplot) (0.11.0)\n",
      "Requirement already satisfied: kiwisolver>=1.0.1 in c:\\users\\nisleida morales\\anaconda3\\envs\\ox\\lib\\site-packages (from matplotlib>=3.1.2->geoplot) (1.4.4)\n",
      "Requirement already satisfied: python-dateutil>=2.7 in c:\\users\\nisleida morales\\anaconda3\\envs\\ox\\lib\\site-packages (from matplotlib>=3.1.2->geoplot) (2.8.2)\n",
      "Requirement already satisfied: pyparsing>=2.2.1 in c:\\users\\nisleida morales\\anaconda3\\envs\\ox\\lib\\site-packages (from matplotlib>=3.1.2->geoplot) (3.0.9)\n",
      "Requirement already satisfied: fonttools>=4.22.0 in c:\\users\\nisleida morales\\anaconda3\\envs\\ox\\lib\\site-packages (from matplotlib>=3.1.2->geoplot) (4.37.1)\n",
      "Requirement already satisfied: pytz>=2020.1 in c:\\users\\nisleida morales\\anaconda3\\envs\\ox\\lib\\site-packages (from pandas->geoplot) (2022.2.1)\n",
      "Requirement already satisfied: pyshp>=2.1 in c:\\users\\nisleida morales\\anaconda3\\envs\\ox\\lib\\site-packages (from cartopy->geoplot) (2.3.1)\n",
      "Requirement already satisfied: attrs>=17 in c:\\users\\nisleida morales\\anaconda3\\envs\\ox\\lib\\site-packages (from fiona>=1.8->geopandas>=0.9.0->geoplot) (22.1.0)\n",
      "Requirement already satisfied: certifi in c:\\users\\nisleida morales\\anaconda3\\envs\\ox\\lib\\site-packages (from fiona>=1.8->geopandas>=0.9.0->geoplot) (2022.9.24)\n",
      "Requirement already satisfied: click>=4.0 in c:\\users\\nisleida morales\\anaconda3\\envs\\ox\\lib\\site-packages (from fiona>=1.8->geopandas>=0.9.0->geoplot) (8.1.3)\n",
      "Requirement already satisfied: cligj>=0.5 in c:\\users\\nisleida morales\\anaconda3\\envs\\ox\\lib\\site-packages (from fiona>=1.8->geopandas>=0.9.0->geoplot) (0.7.2)\n",
      "Requirement already satisfied: click-plugins>=1.0 in c:\\users\\nisleida morales\\anaconda3\\envs\\ox\\lib\\site-packages (from fiona>=1.8->geopandas>=0.9.0->geoplot) (1.1.1)\n",
      "Requirement already satisfied: six>=1.7 in c:\\users\\nisleida morales\\anaconda3\\envs\\ox\\lib\\site-packages (from fiona>=1.8->geopandas>=0.9.0->geoplot) (1.16.0)\n",
      "Requirement already satisfied: munch in c:\\users\\nisleida morales\\anaconda3\\envs\\ox\\lib\\site-packages (from fiona>=1.8->geopandas>=0.9.0->geoplot) (2.5.0)\n",
      "Requirement already satisfied: setuptools in c:\\users\\nisleida morales\\anaconda3\\envs\\ox\\lib\\site-packages (from fiona>=1.8->geopandas>=0.9.0->geoplot) (65.3.0)\n",
      "Requirement already satisfied: geographiclib<3,>=1.52 in c:\\users\\nisleida morales\\anaconda3\\envs\\ox\\lib\\site-packages (from geopy->contextily>=1.0.0->geoplot) (2.0)\n",
      "Requirement already satisfied: affine in c:\\users\\nisleida morales\\anaconda3\\envs\\ox\\lib\\site-packages (from rasterio->contextily>=1.0.0->geoplot) (2.3.1)\n",
      "Requirement already satisfied: snuggs>=1.4.1 in c:\\users\\nisleida morales\\anaconda3\\envs\\ox\\lib\\site-packages (from rasterio->contextily>=1.0.0->geoplot) (1.4.7)\n",
      "Requirement already satisfied: idna<4,>=2.5 in c:\\users\\nisleida morales\\anaconda3\\envs\\ox\\lib\\site-packages (from requests->contextily>=1.0.0->geoplot) (3.3)\n",
      "Requirement already satisfied: charset-normalizer<3,>=2 in c:\\users\\nisleida morales\\anaconda3\\envs\\ox\\lib\\site-packages (from requests->contextily>=1.0.0->geoplot) (2.1.1)\n",
      "Requirement already satisfied: urllib3<1.27,>=1.21.1 in c:\\users\\nisleida morales\\anaconda3\\envs\\ox\\lib\\site-packages (from requests->contextily>=1.0.0->geoplot) (1.25.11)\n",
      "Requirement already satisfied: threadpoolctl>=2.0.0 in c:\\users\\nisleida morales\\anaconda3\\envs\\ox\\lib\\site-packages (from scikit-learn->mapclassify>=2.1->geoplot) (3.1.0)\n",
      "Requirement already satisfied: colorama in c:\\users\\nisleida morales\\anaconda3\\envs\\ox\\lib\\site-packages (from click>=4.0->fiona>=1.8->geopandas>=0.9.0->geoplot) (0.4.5)\n",
      "Collecting geojsonio\n",
      "  Downloading geojsonio-0.0.3.tar.gz (4.7 kB)\n",
      "  Preparing metadata (setup.py): started\n",
      "  Preparing metadata (setup.py): finished with status 'done'\n",
      "Collecting github3.py\n",
      "  Downloading github3.py-4.0.1-py3-none-any.whl (151 kB)\n",
      "     ------------------------------------ 151.8/151.8 kB 302.5 kB/s eta 0:00:00\n",
      "Requirement already satisfied: six in c:\\users\\nisleida morales\\anaconda3\\envs\\ox\\lib\\site-packages (from geojsonio) (1.16.0)\n",
      "Requirement already satisfied: python-dateutil>=2.6.0 in c:\\users\\nisleida morales\\anaconda3\\envs\\ox\\lib\\site-packages (from github3.py->geojsonio) (2.8.2)\n",
      "Collecting uritemplate>=3.0.0\n",
      "  Downloading uritemplate-4.1.1-py2.py3-none-any.whl (10 kB)\n",
      "Requirement already satisfied: requests>=2.18 in c:\\users\\nisleida morales\\anaconda3\\envs\\ox\\lib\\site-packages (from github3.py->geojsonio) (2.28.1)\n",
      "Collecting pyjwt[crypto]>=2.3.0\n",
      "  Downloading PyJWT-2.8.0-py3-none-any.whl (22 kB)\n",
      "Requirement already satisfied: cryptography>=3.4.0 in c:\\users\\nisleida morales\\anaconda3\\envs\\ox\\lib\\site-packages (from pyjwt[crypto]>=2.3.0->github3.py->geojsonio) (37.0.4)\n",
      "Requirement already satisfied: charset-normalizer<3,>=2 in c:\\users\\nisleida morales\\anaconda3\\envs\\ox\\lib\\site-packages (from requests>=2.18->github3.py->geojsonio) (2.1.1)\n",
      "Requirement already satisfied: certifi>=2017.4.17 in c:\\users\\nisleida morales\\anaconda3\\envs\\ox\\lib\\site-packages (from requests>=2.18->github3.py->geojsonio) (2022.9.24)\n",
      "Requirement already satisfied: urllib3<1.27,>=1.21.1 in c:\\users\\nisleida morales\\anaconda3\\envs\\ox\\lib\\site-packages (from requests>=2.18->github3.py->geojsonio) (1.25.11)\n",
      "Requirement already satisfied: idna<4,>=2.5 in c:\\users\\nisleida morales\\anaconda3\\envs\\ox\\lib\\site-packages (from requests>=2.18->github3.py->geojsonio) (3.3)\n",
      "Requirement already satisfied: cffi>=1.12 in c:\\users\\nisleida morales\\anaconda3\\envs\\ox\\lib\\site-packages (from cryptography>=3.4.0->pyjwt[crypto]>=2.3.0->github3.py->geojsonio) (1.15.1)\n",
      "Requirement already satisfied: pycparser in c:\\users\\nisleida morales\\anaconda3\\envs\\ox\\lib\\site-packages (from cffi>=1.12->cryptography>=3.4.0->pyjwt[crypto]>=2.3.0->github3.py->geojsonio) (2.21)\n",
      "Building wheels for collected packages: geojsonio\n",
      "  Building wheel for geojsonio (setup.py): started\n",
      "  Building wheel for geojsonio (setup.py): finished with status 'done'\n",
      "  Created wheel for geojsonio: filename=geojsonio-0.0.3-py3-none-any.whl size=5024 sha256=40550e5fe7a224f5d12a7f6616087231fa82a2488b34d38076ab13e8f5ce303e\n",
      "  Stored in directory: c:\\users\\nisleida morales\\appdata\\local\\pip\\cache\\wheels\\5b\\53\\d5\\01006178d29712c91b7917f736192c5bb5fcf6e4a06816b903\n",
      "Successfully built geojsonio\n",
      "Installing collected packages: uritemplate, pyjwt, github3.py, geojsonio\n",
      "Successfully installed geojsonio-0.0.3 github3.py-4.0.1 pyjwt-2.8.0 uritemplate-4.1.1\n"
     ]
    }
   ],
   "source": [
    "!pip install geoplot\n",
    "!pip install geojsonio"
   ]
  },
  {
   "cell_type": "code",
   "execution_count": 29,
   "metadata": {},
   "outputs": [],
   "source": [
    "import geopandas as gpd\n",
    "import folium"
   ]
  },
  {
   "cell_type": "code",
   "execution_count": 23,
   "metadata": {},
   "outputs": [],
   "source": [
    "road_alignment = gpd.read_file('./road_alignment.geojson')"
   ]
  },
  {
   "cell_type": "code",
   "execution_count": 24,
   "metadata": {},
   "outputs": [
    {
     "data": {
      "text/plain": [
       "<Derived Projected CRS: EPSG:32636>\n",
       "Name: WGS 84 / UTM zone 36N\n",
       "Axis Info [cartesian]:\n",
       "- E[east]: Easting (metre)\n",
       "- N[north]: Northing (metre)\n",
       "Area of Use:\n",
       "- name: Between 30°E and 36°E, northern hemisphere between equator and 84°N, onshore and offshore. Belarus. Cyprus. Egypt. Ethiopia. Finland. Israel. Jordan. Kenya. Lebanon. Moldova. Norway. Russian Federation. Saudi Arabia. Sudan. Syria. Turkey. Uganda. Ukraine.\n",
       "- bounds: (30.0, 0.0, 36.0, 84.0)\n",
       "Coordinate Operation:\n",
       "- name: UTM zone 36N\n",
       "- method: Transverse Mercator\n",
       "Datum: World Geodetic System 1984 ensemble\n",
       "- Ellipsoid: WGS 84\n",
       "- Prime Meridian: Greenwich"
      ]
     },
     "execution_count": 24,
     "metadata": {},
     "output_type": "execute_result"
    }
   ],
   "source": [
    "road_alignment.crs"
   ]
  },
  {
   "cell_type": "code",
   "execution_count": 25,
   "metadata": {},
   "outputs": [
    {
     "data": {
      "text/plain": [
       "<folium.features.GeoJson at 0x210bb4361d0>"
      ]
     },
     "execution_count": 25,
     "metadata": {},
     "output_type": "execute_result"
    }
   ],
   "source": [
    "# Create a Folium map centered on the line\n",
    "center_lat = road_alignment['geometry'].centroid.y.mean()\n",
    "center_lon = road_alignment['geometry'].centroid.x.mean()\n",
    "m = folium.Map(location=[center_lat, center_lon], zoom_start=10)\n",
    "\n",
    "# Add GeoJSON line to the map\n",
    "folium.GeoJson(road_alignment).add_to(m)"
   ]
  },
  {
   "cell_type": "code",
   "execution_count": 27,
   "metadata": {},
   "outputs": [
    {
     "data": {
      "text/html": [
       "<div style=\"width:100%;\"><div style=\"position:relative;width:100%;height:0;padding-bottom:60%;\"><span style=\"color:#565656\">Make this Notebook Trusted to load map: File -> Trust Notebook</span><iframe srcdoc=\"&lt;!DOCTYPE html&gt;\n",
       "&lt;head&gt;    \n",
       "    &lt;meta http-equiv=&quot;content-type&quot; content=&quot;text/html; charset=UTF-8&quot; /&gt;\n",
       "    \n",
       "        &lt;script&gt;\n",
       "            L_NO_TOUCH = false;\n",
       "            L_DISABLE_3D = false;\n",
       "        &lt;/script&gt;\n",
       "    \n",
       "    &lt;style&gt;html, body {width: 100%;height: 100%;margin: 0;padding: 0;}&lt;/style&gt;\n",
       "    &lt;style&gt;#map {position:absolute;top:0;bottom:0;right:0;left:0;}&lt;/style&gt;\n",
       "    &lt;script src=&quot;https://cdn.jsdelivr.net/npm/leaflet@1.6.0/dist/leaflet.js&quot;&gt;&lt;/script&gt;\n",
       "    &lt;script src=&quot;https://code.jquery.com/jquery-1.12.4.min.js&quot;&gt;&lt;/script&gt;\n",
       "    &lt;script src=&quot;https://maxcdn.bootstrapcdn.com/bootstrap/3.2.0/js/bootstrap.min.js&quot;&gt;&lt;/script&gt;\n",
       "    &lt;script src=&quot;https://cdnjs.cloudflare.com/ajax/libs/Leaflet.awesome-markers/2.0.2/leaflet.awesome-markers.js&quot;&gt;&lt;/script&gt;\n",
       "    &lt;link rel=&quot;stylesheet&quot; href=&quot;https://cdn.jsdelivr.net/npm/leaflet@1.6.0/dist/leaflet.css&quot;/&gt;\n",
       "    &lt;link rel=&quot;stylesheet&quot; href=&quot;https://maxcdn.bootstrapcdn.com/bootstrap/3.2.0/css/bootstrap.min.css&quot;/&gt;\n",
       "    &lt;link rel=&quot;stylesheet&quot; href=&quot;https://maxcdn.bootstrapcdn.com/bootstrap/3.2.0/css/bootstrap-theme.min.css&quot;/&gt;\n",
       "    &lt;link rel=&quot;stylesheet&quot; href=&quot;https://maxcdn.bootstrapcdn.com/font-awesome/4.6.3/css/font-awesome.min.css&quot;/&gt;\n",
       "    &lt;link rel=&quot;stylesheet&quot; href=&quot;https://cdnjs.cloudflare.com/ajax/libs/Leaflet.awesome-markers/2.0.2/leaflet.awesome-markers.css&quot;/&gt;\n",
       "    &lt;link rel=&quot;stylesheet&quot; href=&quot;https://cdn.jsdelivr.net/gh/python-visualization/folium/folium/templates/leaflet.awesome.rotate.min.css&quot;/&gt;\n",
       "    \n",
       "            &lt;meta name=&quot;viewport&quot; content=&quot;width=device-width,\n",
       "                initial-scale=1.0, maximum-scale=1.0, user-scalable=no&quot; /&gt;\n",
       "            &lt;style&gt;\n",
       "                #map_b4c277dde4cb666d9e45faa93e93caf2 {\n",
       "                    position: relative;\n",
       "                    width: 100.0%;\n",
       "                    height: 100.0%;\n",
       "                    left: 0.0%;\n",
       "                    top: 0.0%;\n",
       "                }\n",
       "            &lt;/style&gt;\n",
       "        \n",
       "&lt;/head&gt;\n",
       "&lt;body&gt;    \n",
       "    \n",
       "            &lt;div class=&quot;folium-map&quot; id=&quot;map_b4c277dde4cb666d9e45faa93e93caf2&quot; &gt;&lt;/div&gt;\n",
       "        \n",
       "&lt;/body&gt;\n",
       "&lt;script&gt;    \n",
       "    \n",
       "            var map_b4c277dde4cb666d9e45faa93e93caf2 = L.map(\n",
       "                &quot;map_b4c277dde4cb666d9e45faa93e93caf2&quot;,\n",
       "                {\n",
       "                    center: [4515859.082312996, 371678.6849142887],\n",
       "                    crs: L.CRS.EPSG3857,\n",
       "                    zoom: 10,\n",
       "                    zoomControl: true,\n",
       "                    preferCanvas: false,\n",
       "                }\n",
       "            );\n",
       "\n",
       "            \n",
       "\n",
       "        \n",
       "    \n",
       "            var tile_layer_19c5afeae142bca220727fbafe752119 = L.tileLayer(\n",
       "                &quot;https://{s}.tile.openstreetmap.org/{z}/{x}/{y}.png&quot;,\n",
       "                {&quot;attribution&quot;: &quot;Data by \\u0026copy; \\u003ca href=\\&quot;http://openstreetmap.org\\&quot;\\u003eOpenStreetMap\\u003c/a\\u003e, under \\u003ca href=\\&quot;http://www.openstreetmap.org/copyright\\&quot;\\u003eODbL\\u003c/a\\u003e.&quot;, &quot;detectRetina&quot;: false, &quot;maxNativeZoom&quot;: 18, &quot;maxZoom&quot;: 18, &quot;minZoom&quot;: 0, &quot;noWrap&quot;: false, &quot;opacity&quot;: 1, &quot;subdomains&quot;: &quot;abc&quot;, &quot;tms&quot;: false}\n",
       "            ).addTo(map_b4c277dde4cb666d9e45faa93e93caf2);\n",
       "        \n",
       "    \n",
       "\n",
       "        function geo_json_ac5b7c038e08820a216a64337c80370e_onEachFeature(feature, layer) {\n",
       "            layer.on({\n",
       "            });\n",
       "        };\n",
       "        var geo_json_ac5b7c038e08820a216a64337c80370e = L.geoJson(null, {\n",
       "                onEachFeature: geo_json_ac5b7c038e08820a216a64337c80370e_onEachFeature,\n",
       "            \n",
       "        });\n",
       "\n",
       "        function geo_json_ac5b7c038e08820a216a64337c80370e_add (data) {\n",
       "            geo_json_ac5b7c038e08820a216a64337c80370e\n",
       "                .addData(data)\n",
       "                .addTo(map_b4c277dde4cb666d9e45faa93e93caf2);\n",
       "        }\n",
       "            geo_json_ac5b7c038e08820a216a64337c80370e_add({&quot;bbox&quot;: [30.41436299767369, 40.71698371542276, 32.51824026102031, 40.86355608262357], &quot;features&quot;: [{&quot;bbox&quot;: [30.41436299767369, 40.71698371542276, 32.51824026102031, 40.86355608262357], &quot;geometry&quot;: {&quot;coordinates&quot;: [[[30.41436299767369, 40.7385865926733], [30.56184341863577, 40.75545165081199], [30.71676620532903, 40.78991616889449], [30.73988145299425, 40.796566134608874], [30.748586882382835, 40.80358188023679], [30.765231357654592, 40.808107618204794], [30.774765571645222, 40.81263304753391], [30.790678097794178, 40.81589807754868], [30.80191989466909, 40.81661705501369], [30.811736675038723, 40.822368594213536], [30.84473154445393, 40.829314415727126], [30.864443491868016, 40.82791944916237], [30.909824810393733, 40.83315257637842], [30.95281148882412, 40.85278154195717], [30.968689451127236, 40.85629656372382], [31.044925966501918, 40.85031063369684], [31.156645030036007, 40.84766974837631], [31.167118692242326, 40.84535888738255], [31.178028757040575, 40.83281280737721], [31.26585919700074, 40.78601738185255], [31.315789726988857, 40.77410510984898], [31.354776579171357, 40.77099720929876], [31.358495556483472, 40.756457014891566], [31.379783674734114, 40.747660669298945], [31.398491415014977, 40.7515702998975], [31.419779533265622, 40.74472829550118], [31.444293123978486, 40.72126465060004], [31.47744762826362, 40.71698371542276], [31.52405641871211, 40.72867855852057], [31.610561576675387, 40.73882918425729], [31.646817392646714, 40.735268065755626], [31.701872520603157, 40.73781174128003], [31.773712748546327, 40.7520545268295], [31.80526390607393, 40.73280844184876], [31.917781663168753, 40.75317172282671], [31.952814361989002, 40.7531717228267], [32.00132117574011, 40.76201722766778], [32.057014184121016, 40.763377970098865], [32.13965542236365, 40.73888034416921], [32.194450156415826, 40.73683846794624], [32.20972082000414, 40.77698386215566], [32.25463453644035, 40.80894674153675], [32.394765331721345, 40.832059232065504], [32.51824026102031, 40.86355608262357]]], &quot;type&quot;: &quot;MultiLineString&quot;}, &quot;id&quot;: &quot;0&quot;, &quot;properties&quot;: {&quot;FID&quot;: 0}, &quot;type&quot;: &quot;Feature&quot;}], &quot;type&quot;: &quot;FeatureCollection&quot;});\n",
       "\n",
       "        \n",
       "&lt;/script&gt;\" style=\"position:absolute;width:100%;height:100%;left:0;top:0;border:none !important;\" allowfullscreen webkitallowfullscreen mozallowfullscreen></iframe></div></div>"
      ],
      "text/plain": [
       "<folium.folium.Map at 0x210bccd7340>"
      ]
     },
     "execution_count": 27,
     "metadata": {},
     "output_type": "execute_result"
    }
   ],
   "source": [
    "m"
   ]
  },
  {
   "cell_type": "code",
   "execution_count": null,
   "metadata": {},
   "outputs": [],
   "source": []
  }
 ],
 "metadata": {
  "kernelspec": {
   "display_name": "ox",
   "language": "python",
   "name": "python3"
  },
  "language_info": {
   "codemirror_mode": {
    "name": "ipython",
    "version": 3
   },
   "file_extension": ".py",
   "mimetype": "text/x-python",
   "name": "python",
   "nbconvert_exporter": "python",
   "pygments_lexer": "ipython3",
   "version": "3.10.6"
  }
 },
 "nbformat": 4,
 "nbformat_minor": 2
}
