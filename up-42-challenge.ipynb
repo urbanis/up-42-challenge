{
 "cells": [
  {
   "cell_type": "markdown",
   "metadata": {},
   "source": [
    "### PoC Satellite Imagery for Road quality assessments"
   ]
  },
  {
   "cell_type": "markdown",
   "metadata": {},
   "source": [
    "Install"
   ]
  },
  {
   "cell_type": "code",
   "execution_count": null,
   "metadata": {},
   "outputs": [],
   "source": [
    "#!pip install geoplot\n",
    "#!pip install geojsonio\n",
    "#!pip install up42-py\n",
    "#!pip install ipyleaflet"
   ]
  },
  {
   "cell_type": "markdown",
   "metadata": {},
   "source": [
    "Import"
   ]
  },
  {
   "cell_type": "code",
   "execution_count": 7,
   "metadata": {},
   "outputs": [],
   "source": [
    "import pandas as pd\n",
    "import geopandas as gpd\n",
    "import folium\n",
    "import up42"
   ]
  },
  {
   "cell_type": "markdown",
   "metadata": {},
   "source": [
    "### Catalog search: Area of Interest (aoi)"
   ]
  },
  {
   "cell_type": "markdown",
   "metadata": {},
   "source": [
    "Read road alignment file and check crs"
   ]
  },
  {
   "cell_type": "code",
   "execution_count": 8,
   "metadata": {},
   "outputs": [],
   "source": [
    "# Read road alignment \n",
    "road_alignment = gpd.read_file('./road_alignment.geojson')"
   ]
  },
  {
   "cell_type": "code",
   "execution_count": 9,
   "metadata": {},
   "outputs": [
    {
     "data": {
      "text/plain": [
       "<Derived Projected CRS: EPSG:32636>\n",
       "Name: WGS 84 / UTM zone 36N\n",
       "Axis Info [cartesian]:\n",
       "- E[east]: Easting (metre)\n",
       "- N[north]: Northing (metre)\n",
       "Area of Use:\n",
       "- name: Between 30°E and 36°E, northern hemisphere between equator and 84°N, onshore and offshore. Belarus. Cyprus. Egypt. Ethiopia. Finland. Israel. Jordan. Kenya. Lebanon. Moldova. Norway. Russian Federation. Saudi Arabia. Sudan. Syria. Turkey. Uganda. Ukraine.\n",
       "- bounds: (30.0, 0.0, 36.0, 84.0)\n",
       "Coordinate Operation:\n",
       "- name: UTM zone 36N\n",
       "- method: Transverse Mercator\n",
       "Datum: World Geodetic System 1984 ensemble\n",
       "- Ellipsoid: WGS 84\n",
       "- Prime Meridian: Greenwich"
      ]
     },
     "execution_count": 9,
     "metadata": {},
     "output_type": "execute_result"
    }
   ],
   "source": [
    "# Check Coordinate Reference Systems\n",
    "road_alignment.crs"
   ]
  },
  {
   "cell_type": "code",
   "execution_count": 10,
   "metadata": {},
   "outputs": [],
   "source": [
    "# Transform coordinate system\n",
    "road_alignment = road_alignment.to_crs('EPSG:4326')"
   ]
  },
  {
   "cell_type": "markdown",
   "metadata": {},
   "source": [
    "Buffer around road alignment"
   ]
  },
  {
   "cell_type": "code",
   "execution_count": 16,
   "metadata": {},
   "outputs": [
    {
     "name": "stdout",
     "output_type": "stream",
     "text": [
      "Buffer distance in degrees: 0.0022522522522522522\n"
     ]
    }
   ],
   "source": [
    "# Length of one degree of longitude at the equator (in kilometers)\n",
    "length_of_degree_at_equator = 111.0  # Approximately 111 kilometers\n",
    "\n",
    "# Desired buffer width (in meters)\n",
    "corridor_wide = 500.0  # 500 meters\n",
    "\n",
    "# Convert desired buffer width from meters to kilometers\n",
    "corridor_wide_km = corridor_wide / 1000\n",
    "\n",
    "# Calculate buffer distance width in degrees\n",
    "aoi_buffer_degrees = (corridor_wide_km / length_of_degree_at_equator)/2\n",
    "\n",
    "# Output the buffer distance in degrees\n",
    "print(\"Buffer distance in degrees:\", aoi_buffer_degrees)\n"
   ]
  },
  {
   "cell_type": "code",
   "execution_count": 17,
   "metadata": {},
   "outputs": [
    {
     "name": "stderr",
     "output_type": "stream",
     "text": [
      "C:\\Users\\Nisleida Morales\\AppData\\Local\\Temp\\ipykernel_25148\\3074326009.py:5: UserWarning: Geometry is in a geographic CRS. Results from 'buffer' are likely incorrect. Use 'GeoSeries.to_crs()' to re-project geometries to a projected CRS before this operation.\n",
      "\n",
      "  road_alignment_buffer = road_alignment.buffer(buffer_distance)\n"
     ]
    }
   ],
   "source": [
    "# Business Specification: corridor that is 500m wide (250m buffer)\n",
    "\n",
    "# Create a buffer around the road\n",
    "buffer_distance = aoi_buffer_degrees  \n",
    "road_alignment_buffer = road_alignment.buffer(buffer_distance)\n",
    "\n",
    "# Convert GeoDataFrame to GeoJSON object\n",
    "geojson_data_buffer = road_alignment_buffer.to_json()\n",
    "geojson_data_line = road_alignment.to_json()"
   ]
  },
  {
   "cell_type": "markdown",
   "metadata": {},
   "source": [
    "Visualize aoi"
   ]
  },
  {
   "cell_type": "code",
   "execution_count": null,
   "metadata": {},
   "outputs": [],
   "source": [
    "# Create a base map\n",
    "m = folium.Map(location=[road_alignment.geometry.centroid.y.mean(), road_alignment.geometry.centroid.x.mean()], zoom_start=10)\n",
    "\n",
    "# Add the buffer layer to the map\n",
    "folium.GeoJson(geojson_data_buffer, name='Buffer').add_to(m)\n",
    "\n",
    "# Add the road line layer to the map\n",
    "folium.GeoJson(geojson_data_line, name='Road Alignment').add_to(m)\n",
    "\n",
    "# Add layer control\n",
    "folium.LayerControl().add_to(m)\n",
    "\n",
    "# Show the map\n",
    "m"
   ]
  },
  {
   "cell_type": "markdown",
   "metadata": {},
   "source": [
    "Save aoi as geojson"
   ]
  },
  {
   "cell_type": "code",
   "execution_count": null,
   "metadata": {},
   "outputs": [],
   "source": [
    "# Convert the buffer to a GeoDataFrame\n",
    "road_alignment_buffer_gdf = gpd.GeoDataFrame(geometry=road_alignment_buffer, crs='EPSG:4326')\n",
    "\n",
    "# Save the buffer as a GeoJSON file\n",
    "aoi = 'road_alignment_buffer.geojson'\n",
    "road_alignment_buffer_gdf.to_file(aoi, driver='GeoJSON')"
   ]
  },
  {
   "cell_type": "markdown",
   "metadata": {},
   "source": [
    "## Catalog search: available catalog data with UP42 Python SDK"
   ]
  },
  {
   "cell_type": "markdown",
   "metadata": {},
   "source": [
    "Authentication in up42"
   ]
  },
  {
   "cell_type": "code",
   "execution_count": null,
   "metadata": {},
   "outputs": [],
   "source": [
    "# Authenticate with up42 credentials file. Register: https://console.up42.com/register\n",
    "\n",
    "# SDK documentation https://sdk.up42.com/\n",
    "\n",
    "up42.authenticate(cfg_file=\"credentials.json\")"
   ]
  },
  {
   "cell_type": "code",
   "execution_count": null,
   "metadata": {},
   "outputs": [],
   "source": [
    "# Initialize Catalog\n",
    "catalog = up42.initialize_catalog()\n",
    "\n",
    "# Available data collections\n",
    "collection_list = catalog.get_collections()\n",
    "\n",
    "# Convert list of dictionaries to DataFrame\n",
    "collection_df = pd.DataFrame(collection_list)\n",
    "\n",
    "# Display DataFrame\n",
    "collection_df\n",
    "collection_df.columns\n",
    "collection_df['productType'].unique()\n",
    "\n"
   ]
  },
  {
   "cell_type": "code",
   "execution_count": null,
   "metadata": {},
   "outputs": [],
   "source": [
    "collection_df.columns"
   ]
  },
  {
   "cell_type": "code",
   "execution_count": null,
   "metadata": {},
   "outputs": [],
   "source": [
    "#collection_df"
   ]
  },
  {
   "cell_type": "code",
   "execution_count": null,
   "metadata": {},
   "outputs": [],
   "source": [
    "def min_resolution(row):\n",
    "    min_value = row['resolutionValue']['minimum']  # Obtiene el valor mínimo de la estructura de datos\n",
    "    if min_value is not None:\n",
    "        return min_value * 100\n",
    "    else:\n",
    "        return None  # Retorna None si no hay un valor mínimo definido\n",
    "\n",
    "# Aplica la función a la columna 'resolutionValue' para crear la nueva columna 'min_resolution_cm'\n",
    "collection_df['min_resolution_cm'] = collection_df.apply(min_resolution, axis=1).astype(float)\n"
   ]
  },
  {
   "cell_type": "code",
   "execution_count": null,
   "metadata": {},
   "outputs": [],
   "source": [
    "len(collection_df)\n"
   ]
  },
  {
   "cell_type": "code",
   "execution_count": null,
   "metadata": {},
   "outputs": [],
   "source": [
    "# Count distinct values in the column 'productType'\n",
    "distinct_product_types = collection_df['productType'].value_counts()\n",
    "\n",
    "# Display the count of distinct values\n",
    "print(distinct_product_types)\n"
   ]
  },
  {
   "cell_type": "code",
   "execution_count": null,
   "metadata": {},
   "outputs": [],
   "source": [
    "collection_df"
   ]
  },
  {
   "cell_type": "code",
   "execution_count": null,
   "metadata": {},
   "outputs": [],
   "source": [
    "collection_df['min_resolution_cm'] = pd.to_numeric(collection_df['min_resolution_cm'], errors='coerce')\n",
    "\n",
    "filtered_df = collection_df[(collection_df['min_resolution_cm'] <= 50.0)]\n",
    "filtered_df = filtered_df[(filtered_df['productType'] != 'ELEVATION')]\n",
    "filtered_df = filtered_df[(filtered_df['restricted'] == False)]\n",
    "filtered_df\n",
    "#len(filtered_df)\n",
    "column_array = filtered_df['name'].values\n",
    "column_array"
   ]
  },
  {
   "cell_type": "code",
   "execution_count": null,
   "metadata": {},
   "outputs": [],
   "source": [
    "filtered_df['hostName'].unique()"
   ]
  },
  {
   "cell_type": "code",
   "execution_count": null,
   "metadata": {},
   "outputs": [],
   "source": [
    "len(filtered_df)"
   ]
  },
  {
   "cell_type": "code",
   "execution_count": null,
   "metadata": {},
   "outputs": [],
   "source": [
    "filtered_df['isIntegrated'].unique()"
   ]
  },
  {
   "cell_type": "code",
   "execution_count": null,
   "metadata": {},
   "outputs": [],
   "source": [
    "aoi = up42.read_vector_file(aoi, as_dataframe=False)"
   ]
  },
  {
   "cell_type": "code",
   "execution_count": null,
   "metadata": {},
   "outputs": [],
   "source": [
    "\n",
    "search_parameters = catalog.construct_search_parameters(\n",
    "    collections=['pneo'], #name\n",
    "    geometry = aoi,\n",
    "    start_date=\"2023-05-01\",\n",
    "    end_date=\"2023-09-30\",\n",
    "    max_cloudcover=20,\n",
    "    limit=10,\n",
    ")\n",
    "search_results_json = catalog.search((search_parameters), as_dataframe=False)\n",
    "search_results_df = catalog.search((search_parameters), as_dataframe=True)\n",
    "search_results_df\n",
    "image_id = search_results_df['id'].values\n",
    "image_id"
   ]
  },
  {
   "cell_type": "code",
   "execution_count": null,
   "metadata": {},
   "outputs": [],
   "source": [
    "search_results_df"
   ]
  },
  {
   "cell_type": "code",
   "execution_count": null,
   "metadata": {},
   "outputs": [],
   "source": [
    "catalog.download_quicklooks(\n",
    "    image_ids=image_id,\n",
    "    collection='pneo',\n",
    "    output_directory=\"./quicklooks/\",\n",
    ")"
   ]
  },
  {
   "cell_type": "markdown",
   "metadata": {},
   "source": [
    "Export search results to a vector file that can be ingested into a GIS or plotted in jupyter\n",
    "notebook"
   ]
  },
  {
   "cell_type": "markdown",
   "metadata": {},
   "source": [
    "3. Estimate the cost"
   ]
  },
  {
   "cell_type": "code",
   "execution_count": null,
   "metadata": {},
   "outputs": [],
   "source": [
    "catalog.map_quicklooks(scenes=search_results_df, aoi=aoi)"
   ]
  },
  {
   "cell_type": "code",
   "execution_count": null,
   "metadata": {},
   "outputs": [],
   "source": [
    "# Place and track the order of your selected scene\n",
    "order_parameters = catalog.construct_order_parameters(\n",
    "    data_product_id=data_product_id, image_id=search_results.id[0])\n",
    "catalog.estimate_order(order_parameters)\n",
    "order = catalog.place_order(order_parameters, track_status=True)"
   ]
  },
  {
   "cell_type": "code",
   "execution_count": null,
   "metadata": {},
   "outputs": [],
   "source": [
    "https://github.com/up42/documentation-notebooks/blob/main/processing/requests_pansharpening.ipynb"
   ]
  },
  {
   "cell_type": "code",
   "execution_count": null,
   "metadata": {},
   "outputs": [],
   "source": [
    "# Stream cloud-native files directly for your use case\n",
    "asset = up42.initialize_order(order_id=order.order_id).get_assets()[0]\n",
    "stac_items = asset.stac_items\n",
    "asset.get_stac_asset_url(stac_asset=stac_items[0].assets.get(\"b02.tiff\"))"
   ]
  },
  {
   "cell_type": "markdown",
   "metadata": {},
   "source": [
    "coverage in square kilometers and in percentage"
   ]
  },
  {
   "cell_type": "code",
   "execution_count": null,
   "metadata": {},
   "outputs": [],
   "source": []
  },
  {
   "cell_type": "markdown",
   "metadata": {},
   "source": [
    "suggestions for the areas that are not covered by API integrated catalog data."
   ]
  }
 ],
 "metadata": {
  "kernelspec": {
   "display_name": "ox",
   "language": "python",
   "name": "python3"
  },
  "language_info": {
   "codemirror_mode": {
    "name": "ipython",
    "version": 3
   },
   "file_extension": ".py",
   "mimetype": "text/x-python",
   "name": "python",
   "nbconvert_exporter": "python",
   "pygments_lexer": "ipython3",
   "version": "3.10.6"
  }
 },
 "nbformat": 4,
 "nbformat_minor": 2
}
