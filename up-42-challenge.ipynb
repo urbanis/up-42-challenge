{
 "cells": [
  {
   "cell_type": "markdown",
   "metadata": {},
   "source": [
    "### PoC Satellite Imagery for Road quality assessments"
   ]
  },
  {
   "cell_type": "markdown",
   "metadata": {},
   "source": [
    "Install"
   ]
  },
  {
   "cell_type": "code",
   "execution_count": null,
   "metadata": {},
   "outputs": [],
   "source": [
    "#!pip install geoplot\n",
    "#!pip install geojsonio\n",
    "#!pip install up42-py\n",
    "#!pip install ipyleaflet"
   ]
  },
  {
   "cell_type": "markdown",
   "metadata": {},
   "source": [
    "Import"
   ]
  },
  {
   "cell_type": "code",
   "execution_count": 82,
   "metadata": {},
   "outputs": [],
   "source": [
    "import pandas as pd\n",
    "import geopandas as gpd\n",
    "import folium\n",
    "import up42\n",
    "import os"
   ]
  },
  {
   "cell_type": "markdown",
   "metadata": {},
   "source": [
    "### Catalog search: Area of Interest (aoi)"
   ]
  },
  {
   "cell_type": "markdown",
   "metadata": {},
   "source": [
    "Read road alignment file and check crs"
   ]
  },
  {
   "cell_type": "code",
   "execution_count": 132,
   "metadata": {},
   "outputs": [],
   "source": [
    "# Read road alignment \n",
    "road_alignment = gpd.read_file('./road_alignment.geojson')"
   ]
  },
  {
   "cell_type": "code",
   "execution_count": 133,
   "metadata": {},
   "outputs": [
    {
     "data": {
      "text/plain": [
       "<Derived Projected CRS: EPSG:32636>\n",
       "Name: WGS 84 / UTM zone 36N\n",
       "Axis Info [cartesian]:\n",
       "- E[east]: Easting (metre)\n",
       "- N[north]: Northing (metre)\n",
       "Area of Use:\n",
       "- name: Between 30°E and 36°E, northern hemisphere between equator and 84°N, onshore and offshore. Belarus. Cyprus. Egypt. Ethiopia. Finland. Israel. Jordan. Kenya. Lebanon. Moldova. Norway. Russian Federation. Saudi Arabia. Sudan. Syria. Turkey. Uganda. Ukraine.\n",
       "- bounds: (30.0, 0.0, 36.0, 84.0)\n",
       "Coordinate Operation:\n",
       "- name: UTM zone 36N\n",
       "- method: Transverse Mercator\n",
       "Datum: World Geodetic System 1984 ensemble\n",
       "- Ellipsoid: WGS 84\n",
       "- Prime Meridian: Greenwich"
      ]
     },
     "execution_count": 133,
     "metadata": {},
     "output_type": "execute_result"
    }
   ],
   "source": [
    "# Check Coordinate Reference Systems\n",
    "road_alignment.crs"
   ]
  },
  {
   "cell_type": "code",
   "execution_count": 134,
   "metadata": {},
   "outputs": [],
   "source": [
    "# Transform coordinate system\n",
    "road_alignment = road_alignment.to_crs('EPSG:4326')"
   ]
  },
  {
   "cell_type": "markdown",
   "metadata": {},
   "source": [
    "Buffer around road alignment"
   ]
  },
  {
   "cell_type": "code",
   "execution_count": 135,
   "metadata": {},
   "outputs": [
    {
     "name": "stdout",
     "output_type": "stream",
     "text": [
      "Buffer distance in degrees: 0.00225000225000225\n"
     ]
    }
   ],
   "source": [
    "# Length of one degree of longitude at the equator (in kilometers)\n",
    "length_of_degree_at_equator = 111.111  # Approximately 111 kilometers\n",
    "\n",
    "# Desired buffer width (in meters)\n",
    "corridor_wide = 500.0  # 500 meters\n",
    "\n",
    "# Convert desired buffer width from meters to kilometers\n",
    "corridor_wide_km = corridor_wide / 1000\n",
    "\n",
    "# Calculate buffer distance width in degrees\n",
    "aoi_buffer_degrees = (corridor_wide_km / length_of_degree_at_equator)/2\n",
    "\n",
    "# Output the buffer distance in degrees\n",
    "print(\"Buffer distance in degrees:\", aoi_buffer_degrees)\n"
   ]
  },
  {
   "cell_type": "code",
   "execution_count": 148,
   "metadata": {},
   "outputs": [
    {
     "name": "stderr",
     "output_type": "stream",
     "text": [
      "C:\\Users\\Nisleida Morales\\AppData\\Local\\Temp\\ipykernel_25148\\3842963363.py:5: UserWarning: Geometry is in a geographic CRS. Results from 'buffer' are likely incorrect. Use 'GeoSeries.to_crs()' to re-project geometries to a projected CRS before this operation.\n",
      "\n",
      "  road_alignment_buffer = road_alignment.buffer(buffer_distance)\n"
     ]
    }
   ],
   "source": [
    "# Business Specification: corridor that is 500m wide (250m buffer)\n",
    "\n",
    "# Create a buffer around the road\n",
    "buffer_distance = aoi_buffer_degrees  \n",
    "road_alignment_buffer = road_alignment.buffer(buffer_distance)\n",
    "\n",
    "# Convert GeoDataFrame to GeoJSON object\n",
    "aoi = road_alignment_buffer.to_json()\n",
    "geojson_data_line = road_alignment.to_json()"
   ]
  },
  {
   "cell_type": "markdown",
   "metadata": {},
   "source": [
    "Visualize aoi"
   ]
  },
  {
   "cell_type": "code",
   "execution_count": 149,
   "metadata": {},
   "outputs": [
    {
     "name": "stderr",
     "output_type": "stream",
     "text": [
      "C:\\Users\\Nisleida Morales\\AppData\\Local\\Temp\\ipykernel_25148\\898948169.py:2: UserWarning: Geometry is in a geographic CRS. Results from 'centroid' are likely incorrect. Use 'GeoSeries.to_crs()' to re-project geometries to a projected CRS before this operation.\n",
      "\n",
      "  m = folium.Map(location=[road_alignment.geometry.centroid.y.mean(), road_alignment.geometry.centroid.x.mean()], zoom_start=10)\n",
      "C:\\Users\\Nisleida Morales\\AppData\\Local\\Temp\\ipykernel_25148\\898948169.py:2: UserWarning: Geometry is in a geographic CRS. Results from 'centroid' are likely incorrect. Use 'GeoSeries.to_crs()' to re-project geometries to a projected CRS before this operation.\n",
      "\n",
      "  m = folium.Map(location=[road_alignment.geometry.centroid.y.mean(), road_alignment.geometry.centroid.x.mean()], zoom_start=10)\n"
     ]
    },
    {
     "data": {
      "text/html": [
       "<div style=\"width:100%;\"><div style=\"position:relative;width:100%;height:0;padding-bottom:60%;\"><span style=\"color:#565656\">Make this Notebook Trusted to load map: File -> Trust Notebook</span><iframe srcdoc=\"&lt;!DOCTYPE html&gt;\n",
       "&lt;head&gt;    \n",
       "    &lt;meta http-equiv=&quot;content-type&quot; content=&quot;text/html; charset=UTF-8&quot; /&gt;\n",
       "    \n",
       "        &lt;script&gt;\n",
       "            L_NO_TOUCH = false;\n",
       "            L_DISABLE_3D = false;\n",
       "        &lt;/script&gt;\n",
       "    \n",
       "    &lt;style&gt;html, body {width: 100%;height: 100%;margin: 0;padding: 0;}&lt;/style&gt;\n",
       "    &lt;style&gt;#map {position:absolute;top:0;bottom:0;right:0;left:0;}&lt;/style&gt;\n",
       "    &lt;script src=&quot;https://cdn.jsdelivr.net/npm/leaflet@1.6.0/dist/leaflet.js&quot;&gt;&lt;/script&gt;\n",
       "    &lt;script src=&quot;https://code.jquery.com/jquery-1.12.4.min.js&quot;&gt;&lt;/script&gt;\n",
       "    &lt;script src=&quot;https://maxcdn.bootstrapcdn.com/bootstrap/3.2.0/js/bootstrap.min.js&quot;&gt;&lt;/script&gt;\n",
       "    &lt;script src=&quot;https://cdnjs.cloudflare.com/ajax/libs/Leaflet.awesome-markers/2.0.2/leaflet.awesome-markers.js&quot;&gt;&lt;/script&gt;\n",
       "    &lt;link rel=&quot;stylesheet&quot; href=&quot;https://cdn.jsdelivr.net/npm/leaflet@1.6.0/dist/leaflet.css&quot;/&gt;\n",
       "    &lt;link rel=&quot;stylesheet&quot; href=&quot;https://maxcdn.bootstrapcdn.com/bootstrap/3.2.0/css/bootstrap.min.css&quot;/&gt;\n",
       "    &lt;link rel=&quot;stylesheet&quot; href=&quot;https://maxcdn.bootstrapcdn.com/bootstrap/3.2.0/css/bootstrap-theme.min.css&quot;/&gt;\n",
       "    &lt;link rel=&quot;stylesheet&quot; href=&quot;https://maxcdn.bootstrapcdn.com/font-awesome/4.6.3/css/font-awesome.min.css&quot;/&gt;\n",
       "    &lt;link rel=&quot;stylesheet&quot; href=&quot;https://cdnjs.cloudflare.com/ajax/libs/Leaflet.awesome-markers/2.0.2/leaflet.awesome-markers.css&quot;/&gt;\n",
       "    &lt;link rel=&quot;stylesheet&quot; href=&quot;https://cdn.jsdelivr.net/gh/python-visualization/folium/folium/templates/leaflet.awesome.rotate.min.css&quot;/&gt;\n",
       "    \n",
       "            &lt;meta name=&quot;viewport&quot; content=&quot;width=device-width,\n",
       "                initial-scale=1.0, maximum-scale=1.0, user-scalable=no&quot; /&gt;\n",
       "            &lt;style&gt;\n",
       "                #map_3f8b1298a0118628aba977feb79ef756 {\n",
       "                    position: relative;\n",
       "                    width: 100.0%;\n",
       "                    height: 100.0%;\n",
       "                    left: 0.0%;\n",
       "                    top: 0.0%;\n",
       "                }\n",
       "            &lt;/style&gt;\n",
       "        \n",
       "&lt;/head&gt;\n",
       "&lt;body&gt;    \n",
       "    \n",
       "            &lt;div class=&quot;folium-map&quot; id=&quot;map_3f8b1298a0118628aba977feb79ef756&quot; &gt;&lt;/div&gt;\n",
       "        \n",
       "&lt;/body&gt;\n",
       "&lt;script&gt;    \n",
       "    \n",
       "            var map_3f8b1298a0118628aba977feb79ef756 = L.map(\n",
       "                &quot;map_3f8b1298a0118628aba977feb79ef756&quot;,\n",
       "                {\n",
       "                    center: [40.78220032723915, 31.475517667747024],\n",
       "                    crs: L.CRS.EPSG3857,\n",
       "                    zoom: 10,\n",
       "                    zoomControl: true,\n",
       "                    preferCanvas: false,\n",
       "                }\n",
       "            );\n",
       "\n",
       "            \n",
       "\n",
       "        \n",
       "    \n",
       "            var tile_layer_5fe5c9fec19f2bd1d586c2c75a973a56 = L.tileLayer(\n",
       "                &quot;https://{s}.tile.openstreetmap.org/{z}/{x}/{y}.png&quot;,\n",
       "                {&quot;attribution&quot;: &quot;Data by \\u0026copy; \\u003ca href=\\&quot;http://openstreetmap.org\\&quot;\\u003eOpenStreetMap\\u003c/a\\u003e, under \\u003ca href=\\&quot;http://www.openstreetmap.org/copyright\\&quot;\\u003eODbL\\u003c/a\\u003e.&quot;, &quot;detectRetina&quot;: false, &quot;maxNativeZoom&quot;: 18, &quot;maxZoom&quot;: 18, &quot;minZoom&quot;: 0, &quot;noWrap&quot;: false, &quot;opacity&quot;: 1, &quot;subdomains&quot;: &quot;abc&quot;, &quot;tms&quot;: false}\n",
       "            ).addTo(map_3f8b1298a0118628aba977feb79ef756);\n",
       "        \n",
       "    \n",
       "\n",
       "        function geo_json_7427c014cbc12f4c850ea88b2b13240a_onEachFeature(feature, layer) {\n",
       "            layer.on({\n",
       "            });\n",
       "        };\n",
       "        var geo_json_7427c014cbc12f4c850ea88b2b13240a = L.geoJson(null, {\n",
       "                onEachFeature: geo_json_7427c014cbc12f4c850ea88b2b13240a_onEachFeature,\n",
       "            \n",
       "        });\n",
       "\n",
       "        function geo_json_7427c014cbc12f4c850ea88b2b13240a_add (data) {\n",
       "            geo_json_7427c014cbc12f4c850ea88b2b13240a\n",
       "                .addData(data)\n",
       "                .addTo(map_3f8b1298a0118628aba977feb79ef756);\n",
       "        }\n",
       "            geo_json_7427c014cbc12f4c850ea88b2b13240a_add({&quot;bbox&quot;: [30.412113272196653, 40.71473507920216, 32.52048800938865, 40.86580383099191], &quot;features&quot;: [{&quot;bbox&quot;: [30.412113272196653, 40.71473507920216, 32.52048800938865, 40.86580383099191], &quot;geometry&quot;: {&quot;coordinates&quot;: [[[30.561470275866256, 40.7576736463021], [30.71621035278162, 40.792097518301624], [30.738823082999087, 40.79860291607337], [30.747175018694804, 40.80533377950656], [30.747363026007253, 40.805469917762096], [30.747564058842183, 40.80558596160483], [30.747775977603993, 40.80568067597832], [30.747996526838005, 40.80575305283603], [30.764447610214805, 40.810226206326156], [30.773800770797507, 40.814665698376835], [30.774051881482734, 40.814766860196016], [30.774313324307084, 40.81483713066985], [30.79022585045604, 40.818102160684624], [30.79053449063101, 40.8181434922337], [30.80124329748096, 40.81882838192597], [30.810599265020546, 40.82430993616578], [30.810814120682277, 40.82442076467049], [30.81103962709436, 40.824507901178016], [30.811273180819416, 40.82457033971056], [30.84426805023462, 40.83151616122415], [30.844473874082947, 40.83154961507057], [30.84468191109858, 40.83156387047329], [30.84489037442213, 40.83155880499065], [30.864393604119574, 40.83017860887095], [30.909213744216284, 40.83534702403796], [30.95187689837367, 40.85482825903946], [30.9520970780667, 40.85491511346867], [30.95232516357764, 40.85497835735216], [30.968203125880756, 40.858493379118805], [30.96842205657473, 40.858530620634085], [30.968643592152784, 40.85854609858229], [30.968865574476336, 40.858539662181514], [31.045040700105854, 40.85255855234755], [31.156698202147123, 40.84991912225622], [31.156915265721985, 40.849903463398206], [31.157129801134545, 40.84986690724791], [31.167603463340864, 40.84755604625415], [31.167833872759978, 40.84749220099105], [31.168056206522625, 40.84740426683372], [31.1682679540863, 40.847293236714755], [31.168466724445455, 40.84716036436113], [31.168650273130204, 40.847007150137365], [31.168816527550362, 40.846835324103786], [31.17945373152195, 40.83460302168134], [31.266662282325683, 40.78813893421804], [31.31614230074714, 40.77633414387597], [31.354955374573233, 40.773240096351046], [31.355168318339288, 40.773212847028475], [31.355377695829507, 40.77316542720486], [31.355581600934045, 40.773098268576035], [31.355778177362016, 40.773011982534015], [31.355965635540606, 40.77290735460103], [31.356142268906808, 40.772785337278385], [31.35630646944346, 40.77264704137517], [31.356456742318144, 40.77249372589579], [31.356591719491703, 40.772326786578375], [31.356710172172452, 40.77214774318837], [31.356811022002727, 40.77195822568307], [31.356893350875936, 40.77175995937298], [31.35695640929472, 40.771554749215085], [31.360396177530514, 40.7581061867027], [31.38000210636663, 40.75000492929346], [31.398031142765372, 40.75377272119717], [31.398260922311714, 40.75380846504752], [31.398493163914164, 40.753820301467805], [31.398725386835384, 40.75380810402483], [31.398955110537575, 40.75377200300813], [31.39917988117887, 40.75371238403828], [31.420467999429516, 40.74687037964196], [31.42065879468882, 40.74679938445985], [31.420842392064188, 40.74671143475482], [31.421017288575324, 40.74660725050818], [31.421182052469675, 40.746487684601775], [31.421335334943166, 40.7463537158361], [31.445314688203556, 40.7234014263714], [31.47731325020819, 40.71926974735337], [31.523508833890627, 40.73086091068929], [31.52379419964621, 40.73091322880643], [31.610299357609488, 40.74106385454315], [31.61054031538678, 40.741079086051286], [31.610781517978754, 40.74106841089792], [31.646875743298676, 40.73752316415208], [31.701600298619866, 40.740051566448486], [31.773275187601293, 40.754261572489284], [31.77348188568759, 40.754292653828905], [31.773690576151647, 40.75430441982916], [31.77389945796648, 40.754296768947874], [31.774106728453706, 40.7542697672132], [31.774310598840934, 40.75422364765376], [31.774509309699088, 40.754158808287606], [31.774701146126525, 40.75407580868725], [31.77488445254888, 40.753975365150495], [31.805705159890465, 40.73517485197935], [31.917380970523624, 40.75538575885378], [31.917580511382127, 40.7554127154826], [31.917781663168753, 40.75542172507671], [31.952610889091645, 40.7554217250767], [32.0009175309534, 40.76423072738795], [32.00109117567172, 40.76425544349597], [32.001266218032306, 40.76426655862951], [32.05695922641321, 40.76562730106059], [32.05719348802921, 40.76562081655672], [32.057425804469865, 40.765590000571855], [32.05765365545429, 40.76553518741266], [32.1400228041624, 40.74111821791771], [32.19292100671471, 40.739147014226376], [32.207617823076006, 40.77778380843217], [32.20770631839217, 40.777986006546655], [32.20781419884492, 40.778178561230845], [32.20794042632274, 40.778359619570416], [32.20808378616446, 40.77852743927805], [32.208242898847665, 40.77868040545905], [32.208416233263584, 40.77881704615117], [32.2533299496998, 40.81077992553226], [32.25350195240356, 40.81089090293042], [32.253683329173555, 40.81098578907436], [32.2538725788074, 40.81106379861926], [32.25406813494132, 40.811124285902984], [32.25426837901449, 40.81116675029], [32.39430332451996, 40.83426343182384], [32.51768412330816, 40.86573627091134], [32.5179004970846, 40.865780283737], [32.51812014297347, 40.86580287629007], [32.518340945664804, 40.86580383099191], [32.518560778707965, 40.86578313864821], [32.51877752499058, 40.86574099853757], [32.518989097127466, 40.86567781649228], [32.51919345756328, 40.865594200989975], [32.51938863819532, 40.86549095729365], [32.519572759327396, 40.86536907969654], [32.519744047772356, 40.86522974194654], [32.519900853928846, 40.86507428594234], [32.52004166766785, 40.86490420881025], [32.52016513287609, 40.86472114848602], [32.52027006051612, 40.86452686794064], [32.520355440077395, 40.864323238201976], [32.520420449308084, 40.86411222033572], [32.520464462133745, 40.86389584655928], [32.52048705468681, 40.863676200670405], [32.52048800938865, 40.863455397979074], [32.520467317044954, 40.86323556493591], [32.52042517693431, 40.863018818653295], [32.52036199488902, 40.86280724651641], [32.52027837938672, 40.862602886080595], [32.520175135690394, 40.862407705448554], [32.520053258093284, 40.86222358431648], [32.519913920343285, 40.86205229587152], [32.519758464339084, 40.86189548971503], [32.519588387206994, 40.86175467597603], [32.51940532688276, 40.86163121076779], [32.51921104633738, 40.86152628312776], [32.51900741659872, 40.86144090356648], [32.51879639873246, 40.861375894335794], [32.3953214694335, 40.82987904377773], [32.395131489147204, 40.829839223312256], [32.255514688986125, 40.80681150863393], [32.21158125952314, 40.77554625119933], [32.196553153343956, 40.736038521669734], [32.196467057152454, 40.73584116080016], [32.196362489626516, 40.7356529335451], [32.196240408424465, 40.735475563741765], [32.196101931599685, 40.73531067579185], [32.19594832736121, 40.73515977978478], [32.19578100245911, 40.73502425766789], [32.1956014893011, 40.73490535059018], [32.19541143191828, 40.73480414753554], [32.19521257090872, 40.734721575349525], [32.19500672749649, 40.73465839025103], [32.194795786852474, 40.73461517090664], [32.19458168082938, 40.73459231313109], [32.19436637026935, 40.73459002626217], [32.13957163621718, 40.736631902485136], [32.139384077736366, 40.73664676358677], [32.139198416602525, 40.73667724275091], [32.13901595103038, 40.736723126855416], [32.05671466920192, 40.76111997833827], [32.00155187675934, 40.7597721906271], [31.95321800677571, 40.75095822310654], [31.953017007954003, 40.75093086479062], [31.952814361989002, 40.7509217205767], [31.917983623657715, 40.750921720576706], [31.80566459871906, 40.73059440582169], [31.80543298062181, 40.73056480107487], [31.80519954158667, 40.730559360405636], [31.80496679575897, 40.730578142410174], [31.804737249818157, 40.73062094480573], [31.80451337598082, 40.730687306609234], [31.804297585374822, 40.7307765131021], [31.804092202071377, 40.73088760352776], [31.773289887726953, 40.74967689704124], [31.70231008154819, 40.73560469562024], [31.702143981914034, 40.73557817487588], [31.70197636518614, 40.73556413668233], [31.646921237229698, 40.73302046115793], [31.646597451343347, 40.733028839115], [31.610582961080162, 40.736566254124654], [31.52446301068559, 40.72646082913611], [31.4779952130851, 40.71480136325404], [31.47778892956919, 40.71475974969824], [31.47757966050193, 40.714737590401064], [31.477369236475635, 40.71473507920216], [31.477159498185678, 40.71475223806836], [31.444004993900545, 40.71903317324564], [31.443770842886774, 40.7190761048303], [31.443542538295784, 40.71914353503083], [31.44332263577277, 40.71923470903251], [31.443113596910038, 40.719348606232124], [31.442917761691923, 40.719483951662625], [31.442737322300943, 40.71963923026512], [31.418597927502155, 40.74274470650162], [31.398369341130064, 40.74924617719337], [31.380243946983718, 40.745458247999274], [31.38002257139738, 40.7454233855643], [31.37979882584104, 40.745410718061926], [31.379574929978418, 40.74542037115986], [31.37935310496435, 40.74545224909473], [31.37913555140985, 40.745506035622064], [31.378924427550995, 40.74558119715359], [31.357636309300354, 40.75437754274621], [31.357426713935123, 40.7544770942538], [31.357228485905605, 40.754597702578984], [31.3570437334031, 40.7547380850302], [31.356874421304212, 40.75489674861443], [31.35672235027404, 40.75507200591548], [31.35658913761576, 40.755261993039944], [31.356476200070325, 40.75546468944007], [31.356384738749156, 40.755677939402595], [31.35631572636011, 40.755899474975244], [31.35299513713084, 40.76888207983888], [31.31561093158698, 40.7718622227967], [31.315438206759758, 40.77188273642097], [31.315267582694787, 40.77191653143796], [31.26533705270667, 40.78382880344153], [31.265152892299852, 40.78388111319096], [31.264973845370537, 40.78394888901575], [31.26480120817577, 40.784031640235106], [31.176970768215604, 40.83082706575976], [31.17679398866776, 40.830931888136384], [31.176627511333233, 40.83105240384601], [31.176472725205343, 40.83118760737329], [31.17633092173254, 40.831336370655976], [31.16590839359935, 40.84332180559473], [31.15637352432809, 40.845425535602956], [31.044872794390802, 40.84806125981694], [31.044749843152818, 40.848067535239146], [30.968848004862505, 40.85402718712895], [30.95352987448402, 40.85063609948956], [30.910759400844185, 40.83110585929613], [30.910540777307673, 40.83101952656579], [30.91031434008225, 40.83095647282688], [30.910082560385522, 40.83091738621498], [30.864701241859805, 40.82568425899893], [30.864493165287744, 40.825669995300565], [30.864284661899816, 40.82567505989885], [30.844886860997256, 40.82704779507921], [30.812558305815298, 40.82024224081984], [30.803057304687268, 40.81467571306144], [30.802871652232824, 40.81457826427776], [30.802677734666556, 40.81449852045809], [30.80247723597863, 40.81443717410187], [30.802271897309996, 40.81439475794403], [30.802063501832258, 40.814371640328666], [30.790977458529778, 40.81366262419902], [30.77548446554469, 40.81048367657992], [30.766196158502307, 40.806074967361866], [30.766012014378486, 40.805997384756935], [30.765821713199422, 40.80593644560555], [30.74963189081961, 40.80153433063087], [30.74129331668228, 40.7948142353391], [30.741112209088747, 40.794682587539945], [30.74091891403097, 40.79456959141568], [30.740715345597877, 40.794476365901424], [30.740503519609668, 40.794403834155425], [30.717388271944447, 40.787753868441044], [30.717254802328416, 40.78771985764669], [30.562332015635157, 40.75325533956419], [30.56209905062896, 40.75321621742916], [30.414618629666876, 40.73635115929047], [30.414398287941374, 40.736336867196265], [30.414177606351306, 40.73634424118823], [30.413958710181014, 40.73637321025079], [30.413743707520283, 40.73642349539603], [30.41353466896227, 40.73649461235053], [30.413333607662558, 40.73658587621913], [30.413142459951374, 40.73669640808088], [30.41296306668567, 40.73682514345354], [30.41279715552066, 40.73697084254509], [30.41264632427156, 40.737132102193634], [30.412512025525754, 40.7373073693806], [30.412395552653575, 40.73749495618718], [30.412298027352453, 40.73769305604986], [30.412220388844354, 40.73789976115868], [30.41216338483055, 40.73811308083045], [30.412127564290856, 40.738330960680116], [30.412113272196653, 40.73855130240561], [30.41212064618862, 40.73877198399568], [30.412149615251177, 40.73899088016597], [30.412199900396423, 40.7392058828267], [30.412271017350918, 40.73941492138472], [30.412362281219515, 40.739615982684434], [30.41247281308127, 40.73980713039562], [30.412601548453928, 40.73998652366132], [30.41274724754548, 40.74015243482633], [30.41290850719402, 40.74030326607543], [30.41308377438099, 40.740437564821235], [30.41327136118756, 40.740554037693414], [30.413469461050244, 40.740651562994536], [30.413676166159068, 40.74072920150263], [30.413889485830836, 40.740786205516436], [30.4141073656805, 40.74082202605613], [30.561470275866256, 40.7576736463021]]], &quot;type&quot;: &quot;Polygon&quot;}, &quot;id&quot;: &quot;0&quot;, &quot;properties&quot;: {}, &quot;type&quot;: &quot;Feature&quot;}], &quot;type&quot;: &quot;FeatureCollection&quot;});\n",
       "\n",
       "        \n",
       "    \n",
       "\n",
       "        function geo_json_927bd3e6a40321098241f10e85453255_onEachFeature(feature, layer) {\n",
       "            layer.on({\n",
       "            });\n",
       "        };\n",
       "        var geo_json_927bd3e6a40321098241f10e85453255 = L.geoJson(null, {\n",
       "                onEachFeature: geo_json_927bd3e6a40321098241f10e85453255_onEachFeature,\n",
       "            \n",
       "        });\n",
       "\n",
       "        function geo_json_927bd3e6a40321098241f10e85453255_add (data) {\n",
       "            geo_json_927bd3e6a40321098241f10e85453255\n",
       "                .addData(data)\n",
       "                .addTo(map_3f8b1298a0118628aba977feb79ef756);\n",
       "        }\n",
       "            geo_json_927bd3e6a40321098241f10e85453255_add({&quot;features&quot;: [{&quot;geometry&quot;: {&quot;coordinates&quot;: [[[30.41436299767369, 40.7385865926733], [30.56184341863577, 40.75545165081199], [30.71676620532903, 40.78991616889449], [30.73988145299425, 40.796566134608874], [30.748586882382835, 40.80358188023679], [30.765231357654592, 40.808107618204794], [30.774765571645222, 40.81263304753391], [30.790678097794178, 40.81589807754868], [30.80191989466909, 40.81661705501369], [30.811736675038723, 40.822368594213536], [30.84473154445393, 40.829314415727126], [30.864443491868016, 40.82791944916237], [30.909824810393733, 40.83315257637842], [30.95281148882412, 40.85278154195717], [30.968689451127236, 40.85629656372382], [31.044925966501918, 40.85031063369684], [31.156645030036007, 40.84766974837631], [31.167118692242326, 40.84535888738255], [31.178028757040575, 40.83281280737721], [31.26585919700074, 40.78601738185255], [31.315789726988857, 40.77410510984898], [31.354776579171357, 40.77099720929876], [31.358495556483472, 40.756457014891566], [31.379783674734114, 40.747660669298945], [31.398491415014977, 40.7515702998975], [31.419779533265622, 40.74472829550118], [31.444293123978486, 40.72126465060004], [31.47744762826362, 40.71698371542276], [31.52405641871211, 40.72867855852057], [31.610561576675387, 40.73882918425729], [31.646817392646714, 40.735268065755626], [31.701872520603157, 40.73781174128003], [31.773712748546327, 40.7520545268295], [31.80526390607393, 40.73280844184876], [31.917781663168753, 40.75317172282671], [31.952814361989002, 40.7531717228267], [32.00132117574011, 40.76201722766778], [32.057014184121016, 40.763377970098865], [32.13965542236365, 40.73888034416921], [32.194450156415826, 40.73683846794624], [32.20972082000414, 40.77698386215566], [32.25463453644035, 40.80894674153675], [32.394765331721345, 40.832059232065504], [32.51824026102031, 40.86355608262357]]], &quot;type&quot;: &quot;MultiLineString&quot;}, &quot;id&quot;: &quot;0&quot;, &quot;properties&quot;: {&quot;FID&quot;: 0}, &quot;type&quot;: &quot;Feature&quot;}], &quot;type&quot;: &quot;FeatureCollection&quot;});\n",
       "\n",
       "        \n",
       "    \n",
       "            var layer_control_fa62abac371a35791a3df7d1994d2f61 = {\n",
       "                base_layers : {\n",
       "                    &quot;openstreetmap&quot; : tile_layer_5fe5c9fec19f2bd1d586c2c75a973a56,\n",
       "                },\n",
       "                overlays :  {\n",
       "                    &quot;Buffer&quot; : geo_json_7427c014cbc12f4c850ea88b2b13240a,\n",
       "                    &quot;Road Alignment&quot; : geo_json_927bd3e6a40321098241f10e85453255,\n",
       "                },\n",
       "            };\n",
       "            L.control.layers(\n",
       "                layer_control_fa62abac371a35791a3df7d1994d2f61.base_layers,\n",
       "                layer_control_fa62abac371a35791a3df7d1994d2f61.overlays,\n",
       "                {&quot;autoZIndex&quot;: true, &quot;collapsed&quot;: true, &quot;position&quot;: &quot;topright&quot;}\n",
       "            ).addTo(map_3f8b1298a0118628aba977feb79ef756);\n",
       "        \n",
       "&lt;/script&gt;\" style=\"position:absolute;width:100%;height:100%;left:0;top:0;border:none !important;\" allowfullscreen webkitallowfullscreen mozallowfullscreen></iframe></div></div>"
      ],
      "text/plain": [
       "<folium.folium.Map at 0x2398caab7c0>"
      ]
     },
     "execution_count": 149,
     "metadata": {},
     "output_type": "execute_result"
    }
   ],
   "source": [
    "# Create a base map\n",
    "m = folium.Map(location=[road_alignment.geometry.centroid.y.mean(), road_alignment.geometry.centroid.x.mean()], zoom_start=10)\n",
    "\n",
    "# Add the buffer layer to the map\n",
    "folium.GeoJson(aoi, name='Buffer').add_to(m)\n",
    "\n",
    "# Add the road line layer to the map\n",
    "folium.GeoJson(geojson_data_line, name='Road Alignment').add_to(m)\n",
    "\n",
    "# Add layer control\n",
    "folium.LayerControl().add_to(m)\n",
    "\n",
    "# Show the map\n",
    "m"
   ]
  },
  {
   "cell_type": "markdown",
   "metadata": {},
   "source": [
    "Save aoi as geojson"
   ]
  },
  {
   "cell_type": "code",
   "execution_count": 150,
   "metadata": {},
   "outputs": [],
   "source": [
    "# Convert the buffer to a GeoDataFrame\n",
    "road_alignment_buffer_gdf = gpd.GeoDataFrame(geometry=road_alignment_buffer, crs='EPSG:4326')\n",
    "\n",
    "# Save the buffer as a GeoJSON file\n",
    "aoi = 'road_alignment_buffer.geojson'\n",
    "road_alignment_buffer_gdf.to_file(aoi, driver='GeoJSON')"
   ]
  },
  {
   "cell_type": "markdown",
   "metadata": {},
   "source": [
    "## Catalogs search: available catalogs with UP42 Python SDK"
   ]
  },
  {
   "cell_type": "markdown",
   "metadata": {},
   "source": [
    "Authentication in up42"
   ]
  },
  {
   "cell_type": "code",
   "execution_count": 87,
   "metadata": {},
   "outputs": [
    {
     "name": "stderr",
     "output_type": "stream",
     "text": [
      "2024-02-24 10:36:32,464 - Authentication with UP42 successful!\n"
     ]
    },
    {
     "name": "stdout",
     "output_type": "stream",
     "text": [
      "Authenticated 👍\n"
     ]
    }
   ],
   "source": [
    "# Authenticate with up42 credentials file. Register: https://console.up42.com/register\n",
    "\n",
    "# SDK documentation https://sdk.up42.com/\n",
    "\n",
    "def authenticate_with_credentials_file(credentials_file=\"credentials.json\"):\n",
    "\n",
    "    # Check if the credentials file exists\n",
    "    if os.path.isfile(credentials_file):\n",
    "        try:\n",
    "            up42.authenticate(cfg_file=credentials_file)\n",
    "            print(\"Authenticated 👍\")\n",
    "        except Exception as e:\n",
    "            print(\"not authenticated:\", e)\n",
    "    else:\n",
    "        print(\"Credentials file not found\")\n",
    "\n",
    "\n",
    "authenticate_with_credentials_file()"
   ]
  },
  {
   "cell_type": "markdown",
   "metadata": {},
   "source": [
    "Construct a DataFrame containing data from all catalogs"
   ]
  },
  {
   "cell_type": "code",
   "execution_count": 44,
   "metadata": {},
   "outputs": [
    {
     "data": {
      "text/html": [
       "<div>\n",
       "<style scoped>\n",
       "    .dataframe tbody tr th:only-of-type {\n",
       "        vertical-align: middle;\n",
       "    }\n",
       "\n",
       "    .dataframe tbody tr th {\n",
       "        vertical-align: top;\n",
       "    }\n",
       "\n",
       "    .dataframe thead th {\n",
       "        text-align: right;\n",
       "    }\n",
       "</style>\n",
       "<table border=\"1\" class=\"dataframe\">\n",
       "  <thead>\n",
       "    <tr style=\"text-align: right;\">\n",
       "      <th></th>\n",
       "      <th>name</th>\n",
       "      <th>title</th>\n",
       "      <th>description</th>\n",
       "      <th>type</th>\n",
       "      <th>restricted</th>\n",
       "      <th>host</th>\n",
       "      <th>hostName</th>\n",
       "      <th>producer</th>\n",
       "      <th>producerName</th>\n",
       "      <th>isIntegrated</th>\n",
       "      <th>isOptical</th>\n",
       "      <th>resolutionClass</th>\n",
       "      <th>productType</th>\n",
       "      <th>resolutionValue</th>\n",
       "      <th>createdAt</th>\n",
       "      <th>updatedAt</th>\n",
       "    </tr>\n",
       "  </thead>\n",
       "  <tbody>\n",
       "    <tr>\n",
       "      <th>0</th>\n",
       "      <td>pneo</td>\n",
       "      <td>Pléiades Neo</td>\n",
       "      <td>Very high resolution 30 cm optical satellite i...</td>\n",
       "      <td>ARCHIVE</td>\n",
       "      <td>False</td>\n",
       "      <td>{'name': 'oneatlas', 'title': 'OneAtlas', 'des...</td>\n",
       "      <td>oneatlas</td>\n",
       "      <td>{'name': 'airbus', 'title': 'Airbus', 'descrip...</td>\n",
       "      <td>airbus</td>\n",
       "      <td>True</td>\n",
       "      <td>True</td>\n",
       "      <td>VERY_HIGH</td>\n",
       "      <td>OPTICAL</td>\n",
       "      <td>{'minimum': 0.3, 'maximum': None}</td>\n",
       "      <td>2022-04-21T13:01:00.656522Z</td>\n",
       "      <td>2023-10-05T15:33:16.486420Z</td>\n",
       "    </tr>\n",
       "    <tr>\n",
       "      <th>1</th>\n",
       "      <td>landsat-8</td>\n",
       "      <td>Landsat 8</td>\n",
       "      <td>Free low resolution 30 m optical and thermal s...</td>\n",
       "      <td>ARCHIVE</td>\n",
       "      <td>False</td>\n",
       "      <td>{'name': 'earthsearch-aws', 'title': 'Earth Se...</td>\n",
       "      <td>earthsearch-aws</td>\n",
       "      <td>{'name': 'usgs', 'title': 'USGS', 'description...</td>\n",
       "      <td>usgs</td>\n",
       "      <td>True</td>\n",
       "      <td>True</td>\n",
       "      <td>LOW</td>\n",
       "      <td>OPTICAL</td>\n",
       "      <td>{'minimum': 30, 'maximum': None}</td>\n",
       "      <td>2023-11-14T09:48:20.054738Z</td>\n",
       "      <td>2023-11-15T10:00:27.770645Z</td>\n",
       "    </tr>\n",
       "    <tr>\n",
       "      <th>2</th>\n",
       "      <td>hexagon-na-30cm</td>\n",
       "      <td>Hexagon — North America 30 cm</td>\n",
       "      <td>Very high resolution 30 cm optical aerial imag...</td>\n",
       "      <td>ARCHIVE</td>\n",
       "      <td>False</td>\n",
       "      <td>{'name': 'hexagon', 'title': 'Hexagon', 'descr...</td>\n",
       "      <td>hexagon</td>\n",
       "      <td>{'name': 'hexagon', 'title': 'Hexagon', 'descr...</td>\n",
       "      <td>hexagon</td>\n",
       "      <td>True</td>\n",
       "      <td>True</td>\n",
       "      <td>VERY_HIGH</td>\n",
       "      <td>OPTICAL</td>\n",
       "      <td>{'minimum': 0.3, 'maximum': None}</td>\n",
       "      <td>2023-03-22T12:41:28Z</td>\n",
       "      <td>2023-10-05T15:43:33.108568Z</td>\n",
       "    </tr>\n",
       "    <tr>\n",
       "      <th>3</th>\n",
       "      <td>hexagon-na-15cm</td>\n",
       "      <td>Hexagon — North America 15 cm</td>\n",
       "      <td>Very high resolution 15 cm optical aerial imag...</td>\n",
       "      <td>ARCHIVE</td>\n",
       "      <td>False</td>\n",
       "      <td>{'name': 'hexagon', 'title': 'Hexagon', 'descr...</td>\n",
       "      <td>hexagon</td>\n",
       "      <td>{'name': 'hexagon', 'title': 'Hexagon', 'descr...</td>\n",
       "      <td>hexagon</td>\n",
       "      <td>True</td>\n",
       "      <td>True</td>\n",
       "      <td>VERY_HIGH</td>\n",
       "      <td>OPTICAL</td>\n",
       "      <td>{'minimum': 0.3, 'maximum': None}</td>\n",
       "      <td>2023-03-22T12:41:28Z</td>\n",
       "      <td>2023-10-05T15:43:53.795986Z</td>\n",
       "    </tr>\n",
       "    <tr>\n",
       "      <th>4</th>\n",
       "      <td>vexcel-us-6cm-oblique</td>\n",
       "      <td>Vexcel Aerial Oblique — US 5.5 cm</td>\n",
       "      <td>Very high resolution 5.5 cm optical aerial ima...</td>\n",
       "      <td>ARCHIVE</td>\n",
       "      <td>False</td>\n",
       "      <td>{'name': 'vexcel', 'title': 'Vexcel', 'descrip...</td>\n",
       "      <td>vexcel</td>\n",
       "      <td>{'name': 'vexcel', 'title': 'Vexcel', 'descrip...</td>\n",
       "      <td>vexcel</td>\n",
       "      <td>True</td>\n",
       "      <td>True</td>\n",
       "      <td>VERY_HIGH</td>\n",
       "      <td>OPTICAL</td>\n",
       "      <td>{'minimum': 0.055, 'maximum': None}</td>\n",
       "      <td>2023-06-14T01:32:39Z</td>\n",
       "      <td>2023-10-05T15:50:15.095888Z</td>\n",
       "    </tr>\n",
       "  </tbody>\n",
       "</table>\n",
       "</div>"
      ],
      "text/plain": [
       "                    name                              title  \\\n",
       "0                   pneo                       Pléiades Neo   \n",
       "1              landsat-8                          Landsat 8   \n",
       "2        hexagon-na-30cm      Hexagon — North America 30 cm   \n",
       "3        hexagon-na-15cm      Hexagon — North America 15 cm   \n",
       "4  vexcel-us-6cm-oblique  Vexcel Aerial Oblique — US 5.5 cm   \n",
       "\n",
       "                                         description     type  restricted  \\\n",
       "0  Very high resolution 30 cm optical satellite i...  ARCHIVE       False   \n",
       "1  Free low resolution 30 m optical and thermal s...  ARCHIVE       False   \n",
       "2  Very high resolution 30 cm optical aerial imag...  ARCHIVE       False   \n",
       "3  Very high resolution 15 cm optical aerial imag...  ARCHIVE       False   \n",
       "4  Very high resolution 5.5 cm optical aerial ima...  ARCHIVE       False   \n",
       "\n",
       "                                                host         hostName  \\\n",
       "0  {'name': 'oneatlas', 'title': 'OneAtlas', 'des...         oneatlas   \n",
       "1  {'name': 'earthsearch-aws', 'title': 'Earth Se...  earthsearch-aws   \n",
       "2  {'name': 'hexagon', 'title': 'Hexagon', 'descr...          hexagon   \n",
       "3  {'name': 'hexagon', 'title': 'Hexagon', 'descr...          hexagon   \n",
       "4  {'name': 'vexcel', 'title': 'Vexcel', 'descrip...           vexcel   \n",
       "\n",
       "                                            producer producerName  \\\n",
       "0  {'name': 'airbus', 'title': 'Airbus', 'descrip...       airbus   \n",
       "1  {'name': 'usgs', 'title': 'USGS', 'description...         usgs   \n",
       "2  {'name': 'hexagon', 'title': 'Hexagon', 'descr...      hexagon   \n",
       "3  {'name': 'hexagon', 'title': 'Hexagon', 'descr...      hexagon   \n",
       "4  {'name': 'vexcel', 'title': 'Vexcel', 'descrip...       vexcel   \n",
       "\n",
       "   isIntegrated  isOptical resolutionClass productType  \\\n",
       "0          True       True       VERY_HIGH     OPTICAL   \n",
       "1          True       True             LOW     OPTICAL   \n",
       "2          True       True       VERY_HIGH     OPTICAL   \n",
       "3          True       True       VERY_HIGH     OPTICAL   \n",
       "4          True       True       VERY_HIGH     OPTICAL   \n",
       "\n",
       "                       resolutionValue                    createdAt  \\\n",
       "0    {'minimum': 0.3, 'maximum': None}  2022-04-21T13:01:00.656522Z   \n",
       "1     {'minimum': 30, 'maximum': None}  2023-11-14T09:48:20.054738Z   \n",
       "2    {'minimum': 0.3, 'maximum': None}         2023-03-22T12:41:28Z   \n",
       "3    {'minimum': 0.3, 'maximum': None}         2023-03-22T12:41:28Z   \n",
       "4  {'minimum': 0.055, 'maximum': None}         2023-06-14T01:32:39Z   \n",
       "\n",
       "                     updatedAt  \n",
       "0  2023-10-05T15:33:16.486420Z  \n",
       "1  2023-11-15T10:00:27.770645Z  \n",
       "2  2023-10-05T15:43:33.108568Z  \n",
       "3  2023-10-05T15:43:53.795986Z  \n",
       "4  2023-10-05T15:50:15.095888Z  "
      ]
     },
     "execution_count": 44,
     "metadata": {},
     "output_type": "execute_result"
    }
   ],
   "source": [
    "# Initialize Catalog\n",
    "catalog = up42.initialize_catalog()\n",
    "\n",
    "# Available data collections\n",
    "collection_list = catalog.get_collections()\n",
    "\n",
    "# Convert list of dictionaries to DataFrame\n",
    "collection_df = pd.DataFrame(collection_list)\n",
    "\n",
    "# Display DataFrame\n",
    "collection_df.head()"
   ]
  },
  {
   "cell_type": "code",
   "execution_count": 88,
   "metadata": {},
   "outputs": [],
   "source": [
    "# Check catalogs with minimum resolution according to business specification\n",
    "# Business Specification: The preference is for 30cm data where possible and filling in with 50cm when needed.\n",
    "\n",
    "#Create a column with the value as numeric of resolution in centimeters (now is in meters)\n",
    "def min_resolution(row):\n",
    "    min_value = row['resolutionValue']['minimum']  # Minimum value of resolution\n",
    "    if min_value is not None:\n",
    "        return min_value * 100 # Convert to cm\n",
    "    else:\n",
    "        return None\n",
    "\n",
    "# Create new numeric column for min_resolution_cm\n",
    "collection_df['min_resolution_cm'] = collection_df.apply(min_resolution, axis=1).apply(pd.to_numeric, errors='coerce')"
   ]
  },
  {
   "cell_type": "markdown",
   "metadata": {},
   "source": [
    "Explore the Catalogs information"
   ]
  },
  {
   "cell_type": "code",
   "execution_count": 73,
   "metadata": {},
   "outputs": [
    {
     "name": "stdout",
     "output_type": "stream",
     "text": [
      "Collections attributes: \n",
      " ['name', 'title', 'description', 'type', 'restricted', 'host', 'hostName', 'producer', 'producerName', 'isIntegrated', 'isOptical', 'resolutionClass', 'productType', 'resolutionValue', 'createdAt', 'updatedAt', 'min_resolution_cm']\n",
      "\n",
      "Collection size: 51\n",
      "\n",
      "Unique product type: \n",
      " ['OPTICAL' 'ELEVATION' 'SAR']\n",
      "\n",
      "Unique host: \n",
      " ['oneatlas', 'earthsearch-aws', 'hexagon', 'vexcel', 'intermap', 'capellaspace', 'airbus-elevation', '21at', 'nearspacelabs', 'imagesat']\n",
      "\n",
      "Top min resolution of all catalogs: 3000.0\n",
      "\n",
      "Count catalogs with resolution less than 50 cm: 37\n",
      "\n"
     ]
    }
   ],
   "source": [
    "print(f\"Collections attributes: \\n {list(collection_df.columns)}\\n\")\n",
    "\n",
    "print(f\"Collection size: {len(collection_df)}\\n\")\n",
    "\n",
    "print(f\"Unique product type: \\n {collection_df['productType'].unique()}\\n\")\n",
    "\n",
    "print(f\"Unique host: \\n {list(collection_df['hostName'].unique())}\\n\")\n",
    "\n",
    "print(f\"Top min resolution of all catalogs: {collection_df['min_resolution_cm'].max()}\\n\")\n",
    "\n",
    "print(f\"Count catalogs with resolution less than 50 cm: {(collection_df['min_resolution_cm']<= 50).sum()}\\n\")"
   ]
  },
  {
   "cell_type": "markdown",
   "metadata": {},
   "source": [
    "Filter catalogs"
   ]
  },
  {
   "cell_type": "code",
   "execution_count": 80,
   "metadata": {},
   "outputs": [
    {
     "data": {
      "text/plain": [
       "22"
      ]
     },
     "execution_count": 80,
     "metadata": {},
     "output_type": "execute_result"
    }
   ],
   "source": [
    "filtered_collections_df = collection_df[(collection_df['min_resolution_cm'] <= 50.0) & # less than 50 cm of min resolution\n",
    "                            (collection_df['productType'] != 'ELEVATION') & # not elevation type \n",
    "                            (~collection_df['restricted'])] # be unrestricted\n",
    "\n",
    "# Check remaining number of catalogs\n",
    "len(filtered_collections_df)"
   ]
  },
  {
   "cell_type": "code",
   "execution_count": 125,
   "metadata": {},
   "outputs": [
    {
     "name": "stdout",
     "output_type": "stream",
     "text": [
      "💼 Catalogs according Business Specification: \n",
      " preference 30cm data or with 50cm when needed \n",
      " ['pneo' 'hexagon-na-30cm' 'hexagon-na-15cm' 'vexcel-us-6cm-oblique'\n",
      " 'vexcel-oc-6cm-trueortho' 'vexcel-ca-6cm-trueortho' 'phr'\n",
      " 'hexagon-eu-30cm' 'vexcel-eeu-6cm-trueortho' 'nsl-30cm'\n",
      " 'vexcel-ca-6cm-oblique' 'vexcel-jp-6cm-oblique' 'vexcel-oc-6cm-oblique'\n",
      " 'vexcel-eeu-6cm-oblique' 'vexcel-us-15cm-ortho' 'vexcel-jp-6cm-trueortho'\n",
      " 'vexcel-weu-6cm-trueortho' 'vexcel-us-6cm-trueortho'\n",
      " 'vexcel-weu-6cm-oblique' 'eros-b' 'vexcel-weu-15cm-ortho' 'eros-c']\n"
     ]
    }
   ],
   "source": [
    "catalog_names_array = filtered_collections_df['name'].values\n",
    "print(f\"💼 Catalogs according Business Specification: \\n preference 30cm data or with 50cm when needed \\n {catalog_names_array}\")"
   ]
  },
  {
   "cell_type": "markdown",
   "metadata": {},
   "source": [
    "## Catalog data search"
   ]
  },
  {
   "cell_type": "code",
   "execution_count": 151,
   "metadata": {},
   "outputs": [],
   "source": [
    "# Read aio\n",
    "aoi = up42.read_vector_file(aoi, as_dataframe=False)"
   ]
  },
  {
   "cell_type": "markdown",
   "metadata": {},
   "source": [
    "Define range date"
   ]
  },
  {
   "cell_type": "code",
   "execution_count": 111,
   "metadata": {},
   "outputs": [
    {
     "name": "stdout",
     "output_type": "stream",
     "text": [
      "💼 Date range according Business Specification: from 2023-05-01 to 2023-09-30\n"
     ]
    }
   ],
   "source": [
    "start_date_search=\"2023-05-01\"\n",
    "end_date_search=\"2023-09-30\"\n",
    "max_cloudcover=20\n",
    "limit=10\n",
    "print(f\"💼 Date range according Business Specification: from {start_date} to {end_date}\")"
   ]
  },
  {
   "cell_type": "code",
   "execution_count": null,
   "metadata": {},
   "outputs": [],
   "source": [
    "['pneo' 'hexagon-na-30cm' 'hexagon-na-15cm' 'vexcel-us-6cm-oblique'\n",
    " 'vexcel-oc-6cm-trueortho' 'vexcel-ca-6cm-trueortho' 'phr'\n",
    " 'hexagon-eu-30cm' 'vexcel-eeu-6cm-trueortho' 'nsl-30cm'\n",
    " 'vexcel-ca-6cm-oblique' 'vexcel-jp-6cm-oblique' 'vexcel-oc-6cm-oblique'\n",
    " 'vexcel-eeu-6cm-oblique' 'vexcel-us-15cm-ortho' 'vexcel-jp-6cm-trueortho'\n",
    " 'vexcel-weu-6cm-trueortho' 'vexcel-us-6cm-trueortho'\n",
    " 'vexcel-weu-6cm-oblique' 'eros-b' 'vexcel-weu-15cm-ortho' 'eros-c']"
   ]
  },
  {
   "cell_type": "code",
   "execution_count": 164,
   "metadata": {},
   "outputs": [
    {
     "name": "stderr",
     "output_type": "stream",
     "text": [
      "2024-02-24 11:43:58,503 - Searching catalog with search_parameters: {'datetime': '2023-05-01T00:00:00Z/2023-09-30T23:59:59Z', 'intersects': {'type': 'Polygon', 'coordinates': (((30.561470275866256, 40.7576736463021), (30.71621035278162, 40.792097518301624), (30.738823082999087, 40.79860291607337), (30.747175018694804, 40.80533377950656), (30.747363026007253, 40.805469917762096), (30.747564058842183, 40.80558596160483), (30.747775977603993, 40.80568067597832), (30.747996526838005, 40.80575305283603), (30.764447610214805, 40.810226206326156), (30.773800770797507, 40.814665698376835), (30.774051881482734, 40.814766860196016), (30.774313324307084, 40.81483713066985), (30.79022585045604, 40.818102160684624), (30.79053449063101, 40.8181434922337), (30.80124329748096, 40.81882838192597), (30.810599265020546, 40.82430993616578), (30.810814120682277, 40.82442076467049), (30.81103962709436, 40.824507901178016), (30.811273180819416, 40.82457033971056), (30.84426805023462, 40.83151616122415), (30.844473874082947, 40.83154961507057), (30.84468191109858, 40.83156387047329), (30.84489037442213, 40.83155880499065), (30.864393604119574, 40.83017860887095), (30.909213744216284, 40.83534702403796), (30.95187689837367, 40.85482825903946), (30.9520970780667, 40.85491511346867), (30.95232516357764, 40.85497835735216), (30.968203125880756, 40.858493379118805), (30.96842205657473, 40.858530620634085), (30.968643592152784, 40.85854609858229), (30.968865574476336, 40.858539662181514), (31.045040700105854, 40.85255855234755), (31.156698202147123, 40.84991912225622), (31.156915265721985, 40.849903463398206), (31.157129801134545, 40.84986690724791), (31.167603463340864, 40.84755604625415), (31.167833872759978, 40.84749220099105), (31.168056206522625, 40.84740426683372), (31.1682679540863, 40.847293236714755), (31.168466724445455, 40.84716036436113), (31.168650273130204, 40.847007150137365), (31.168816527550362, 40.846835324103786), (31.17945373152195, 40.83460302168134), (31.266662282325683, 40.78813893421804), (31.3161\n",
      "2024-02-24 11:43:59,071 - 10 results returned.\n",
      "2024-02-24 11:43:59,081 - Searching catalog with search_parameters: {'datetime': '2023-05-01T00:00:00Z/2023-09-30T23:59:59Z', 'intersects': {'type': 'Polygon', 'coordinates': (((30.561470275866256, 40.7576736463021), (30.71621035278162, 40.792097518301624), (30.738823082999087, 40.79860291607337), (30.747175018694804, 40.80533377950656), (30.747363026007253, 40.805469917762096), (30.747564058842183, 40.80558596160483), (30.747775977603993, 40.80568067597832), (30.747996526838005, 40.80575305283603), (30.764447610214805, 40.810226206326156), (30.773800770797507, 40.814665698376835), (30.774051881482734, 40.814766860196016), (30.774313324307084, 40.81483713066985), (30.79022585045604, 40.818102160684624), (30.79053449063101, 40.8181434922337), (30.80124329748096, 40.81882838192597), (30.810599265020546, 40.82430993616578), (30.810814120682277, 40.82442076467049), (30.81103962709436, 40.824507901178016), (30.811273180819416, 40.82457033971056), (30.84426805023462, 40.83151616122415), (30.844473874082947, 40.83154961507057), (30.84468191109858, 40.83156387047329), (30.84489037442213, 40.83155880499065), (30.864393604119574, 40.83017860887095), (30.909213744216284, 40.83534702403796), (30.95187689837367, 40.85482825903946), (30.9520970780667, 40.85491511346867), (30.95232516357764, 40.85497835735216), (30.968203125880756, 40.858493379118805), (30.96842205657473, 40.858530620634085), (30.968643592152784, 40.85854609858229), (30.968865574476336, 40.858539662181514), (31.045040700105854, 40.85255855234755), (31.156698202147123, 40.84991912225622), (31.156915265721985, 40.849903463398206), (31.157129801134545, 40.84986690724791), (31.167603463340864, 40.84755604625415), (31.167833872759978, 40.84749220099105), (31.168056206522625, 40.84740426683372), (31.1682679540863, 40.847293236714755), (31.168466724445455, 40.84716036436113), (31.168650273130204, 40.847007150137365), (31.168816527550362, 40.846835324103786), (31.17945373152195, 40.83460302168134), (31.266662282325683, 40.78813893421804), (31.3161\n"
     ]
    },
    {
     "name": "stdout",
     "output_type": "stream",
     "text": [
      "catalog name: pneo \n",
      "\n"
     ]
    },
    {
     "name": "stderr",
     "output_type": "stream",
     "text": [
      "2024-02-24 11:43:59,500 - 0 results returned.\n",
      "2024-02-24 11:43:59,514 - Searching catalog with search_parameters: {'datetime': '2023-05-01T00:00:00Z/2023-09-30T23:59:59Z', 'intersects': {'type': 'Polygon', 'coordinates': (((30.561470275866256, 40.7576736463021), (30.71621035278162, 40.792097518301624), (30.738823082999087, 40.79860291607337), (30.747175018694804, 40.80533377950656), (30.747363026007253, 40.805469917762096), (30.747564058842183, 40.80558596160483), (30.747775977603993, 40.80568067597832), (30.747996526838005, 40.80575305283603), (30.764447610214805, 40.810226206326156), (30.773800770797507, 40.814665698376835), (30.774051881482734, 40.814766860196016), (30.774313324307084, 40.81483713066985), (30.79022585045604, 40.818102160684624), (30.79053449063101, 40.8181434922337), (30.80124329748096, 40.81882838192597), (30.810599265020546, 40.82430993616578), (30.810814120682277, 40.82442076467049), (30.81103962709436, 40.824507901178016), (30.811273180819416, 40.82457033971056), (30.84426805023462, 40.83151616122415), (30.844473874082947, 40.83154961507057), (30.84468191109858, 40.83156387047329), (30.84489037442213, 40.83155880499065), (30.864393604119574, 40.83017860887095), (30.909213744216284, 40.83534702403796), (30.95187689837367, 40.85482825903946), (30.9520970780667, 40.85491511346867), (30.95232516357764, 40.85497835735216), (30.968203125880756, 40.858493379118805), (30.96842205657473, 40.858530620634085), (30.968643592152784, 40.85854609858229), (30.968865574476336, 40.858539662181514), (31.045040700105854, 40.85255855234755), (31.156698202147123, 40.84991912225622), (31.156915265721985, 40.849903463398206), (31.157129801134545, 40.84986690724791), (31.167603463340864, 40.84755604625415), (31.167833872759978, 40.84749220099105), (31.168056206522625, 40.84740426683372), (31.1682679540863, 40.847293236714755), (31.168466724445455, 40.84716036436113), (31.168650273130204, 40.847007150137365), (31.168816527550362, 40.846835324103786), (31.17945373152195, 40.83460302168134), (31.266662282325683, 40.78813893421804), (31.3161\n"
     ]
    },
    {
     "name": "stdout",
     "output_type": "stream",
     "text": [
      "catalog name: hexagon-na-30cm \n",
      "\n"
     ]
    },
    {
     "name": "stderr",
     "output_type": "stream",
     "text": [
      "2024-02-24 11:43:59,928 - 0 results returned.\n",
      "2024-02-24 11:43:59,928 - Searching catalog with search_parameters: {'datetime': '2023-05-01T00:00:00Z/2023-09-30T23:59:59Z', 'intersects': {'type': 'Polygon', 'coordinates': (((30.561470275866256, 40.7576736463021), (30.71621035278162, 40.792097518301624), (30.738823082999087, 40.79860291607337), (30.747175018694804, 40.80533377950656), (30.747363026007253, 40.805469917762096), (30.747564058842183, 40.80558596160483), (30.747775977603993, 40.80568067597832), (30.747996526838005, 40.80575305283603), (30.764447610214805, 40.810226206326156), (30.773800770797507, 40.814665698376835), (30.774051881482734, 40.814766860196016), (30.774313324307084, 40.81483713066985), (30.79022585045604, 40.818102160684624), (30.79053449063101, 40.8181434922337), (30.80124329748096, 40.81882838192597), (30.810599265020546, 40.82430993616578), (30.810814120682277, 40.82442076467049), (30.81103962709436, 40.824507901178016), (30.811273180819416, 40.82457033971056), (30.84426805023462, 40.83151616122415), (30.844473874082947, 40.83154961507057), (30.84468191109858, 40.83156387047329), (30.84489037442213, 40.83155880499065), (30.864393604119574, 40.83017860887095), (30.909213744216284, 40.83534702403796), (30.95187689837367, 40.85482825903946), (30.9520970780667, 40.85491511346867), (30.95232516357764, 40.85497835735216), (30.968203125880756, 40.858493379118805), (30.96842205657473, 40.858530620634085), (30.968643592152784, 40.85854609858229), (30.968865574476336, 40.858539662181514), (31.045040700105854, 40.85255855234755), (31.156698202147123, 40.84991912225622), (31.156915265721985, 40.849903463398206), (31.157129801134545, 40.84986690724791), (31.167603463340864, 40.84755604625415), (31.167833872759978, 40.84749220099105), (31.168056206522625, 40.84740426683372), (31.1682679540863, 40.847293236714755), (31.168466724445455, 40.84716036436113), (31.168650273130204, 40.847007150137365), (31.168816527550362, 40.846835324103786), (31.17945373152195, 40.83460302168134), (31.266662282325683, 40.78813893421804), (31.3161\n"
     ]
    },
    {
     "name": "stdout",
     "output_type": "stream",
     "text": [
      "catalog name: hexagon-na-15cm \n",
      "\n"
     ]
    },
    {
     "name": "stderr",
     "output_type": "stream",
     "text": [
      "2024-02-24 11:44:00,395 - 0 results returned.\n",
      "2024-02-24 11:44:00,395 - Searching catalog with search_parameters: {'datetime': '2023-05-01T00:00:00Z/2023-09-30T23:59:59Z', 'intersects': {'type': 'Polygon', 'coordinates': (((30.561470275866256, 40.7576736463021), (30.71621035278162, 40.792097518301624), (30.738823082999087, 40.79860291607337), (30.747175018694804, 40.80533377950656), (30.747363026007253, 40.805469917762096), (30.747564058842183, 40.80558596160483), (30.747775977603993, 40.80568067597832), (30.747996526838005, 40.80575305283603), (30.764447610214805, 40.810226206326156), (30.773800770797507, 40.814665698376835), (30.774051881482734, 40.814766860196016), (30.774313324307084, 40.81483713066985), (30.79022585045604, 40.818102160684624), (30.79053449063101, 40.8181434922337), (30.80124329748096, 40.81882838192597), (30.810599265020546, 40.82430993616578), (30.810814120682277, 40.82442076467049), (30.81103962709436, 40.824507901178016), (30.811273180819416, 40.82457033971056), (30.84426805023462, 40.83151616122415), (30.844473874082947, 40.83154961507057), (30.84468191109858, 40.83156387047329), (30.84489037442213, 40.83155880499065), (30.864393604119574, 40.83017860887095), (30.909213744216284, 40.83534702403796), (30.95187689837367, 40.85482825903946), (30.9520970780667, 40.85491511346867), (30.95232516357764, 40.85497835735216), (30.968203125880756, 40.858493379118805), (30.96842205657473, 40.858530620634085), (30.968643592152784, 40.85854609858229), (30.968865574476336, 40.858539662181514), (31.045040700105854, 40.85255855234755), (31.156698202147123, 40.84991912225622), (31.156915265721985, 40.849903463398206), (31.157129801134545, 40.84986690724791), (31.167603463340864, 40.84755604625415), (31.167833872759978, 40.84749220099105), (31.168056206522625, 40.84740426683372), (31.1682679540863, 40.847293236714755), (31.168466724445455, 40.84716036436113), (31.168650273130204, 40.847007150137365), (31.168816527550362, 40.846835324103786), (31.17945373152195, 40.83460302168134), (31.266662282325683, 40.78813893421804), (31.3161\n"
     ]
    },
    {
     "name": "stdout",
     "output_type": "stream",
     "text": [
      "catalog name: vexcel-us-6cm-oblique \n",
      "\n"
     ]
    },
    {
     "name": "stderr",
     "output_type": "stream",
     "text": [
      "2024-02-24 11:44:00,828 - 0 results returned.\n",
      "2024-02-24 11:44:00,829 - Searching catalog with search_parameters: {'datetime': '2023-05-01T00:00:00Z/2023-09-30T23:59:59Z', 'intersects': {'type': 'Polygon', 'coordinates': (((30.561470275866256, 40.7576736463021), (30.71621035278162, 40.792097518301624), (30.738823082999087, 40.79860291607337), (30.747175018694804, 40.80533377950656), (30.747363026007253, 40.805469917762096), (30.747564058842183, 40.80558596160483), (30.747775977603993, 40.80568067597832), (30.747996526838005, 40.80575305283603), (30.764447610214805, 40.810226206326156), (30.773800770797507, 40.814665698376835), (30.774051881482734, 40.814766860196016), (30.774313324307084, 40.81483713066985), (30.79022585045604, 40.818102160684624), (30.79053449063101, 40.8181434922337), (30.80124329748096, 40.81882838192597), (30.810599265020546, 40.82430993616578), (30.810814120682277, 40.82442076467049), (30.81103962709436, 40.824507901178016), (30.811273180819416, 40.82457033971056), (30.84426805023462, 40.83151616122415), (30.844473874082947, 40.83154961507057), (30.84468191109858, 40.83156387047329), (30.84489037442213, 40.83155880499065), (30.864393604119574, 40.83017860887095), (30.909213744216284, 40.83534702403796), (30.95187689837367, 40.85482825903946), (30.9520970780667, 40.85491511346867), (30.95232516357764, 40.85497835735216), (30.968203125880756, 40.858493379118805), (30.96842205657473, 40.858530620634085), (30.968643592152784, 40.85854609858229), (30.968865574476336, 40.858539662181514), (31.045040700105854, 40.85255855234755), (31.156698202147123, 40.84991912225622), (31.156915265721985, 40.849903463398206), (31.157129801134545, 40.84986690724791), (31.167603463340864, 40.84755604625415), (31.167833872759978, 40.84749220099105), (31.168056206522625, 40.84740426683372), (31.1682679540863, 40.847293236714755), (31.168466724445455, 40.84716036436113), (31.168650273130204, 40.847007150137365), (31.168816527550362, 40.846835324103786), (31.17945373152195, 40.83460302168134), (31.266662282325683, 40.78813893421804), (31.3161\n"
     ]
    },
    {
     "name": "stdout",
     "output_type": "stream",
     "text": [
      "catalog name: vexcel-oc-6cm-trueortho \n",
      "\n"
     ]
    },
    {
     "name": "stderr",
     "output_type": "stream",
     "text": [
      "2024-02-24 11:44:01,227 - 0 results returned.\n",
      "2024-02-24 11:44:01,229 - Searching catalog with search_parameters: {'datetime': '2023-05-01T00:00:00Z/2023-09-30T23:59:59Z', 'intersects': {'type': 'Polygon', 'coordinates': (((30.561470275866256, 40.7576736463021), (30.71621035278162, 40.792097518301624), (30.738823082999087, 40.79860291607337), (30.747175018694804, 40.80533377950656), (30.747363026007253, 40.805469917762096), (30.747564058842183, 40.80558596160483), (30.747775977603993, 40.80568067597832), (30.747996526838005, 40.80575305283603), (30.764447610214805, 40.810226206326156), (30.773800770797507, 40.814665698376835), (30.774051881482734, 40.814766860196016), (30.774313324307084, 40.81483713066985), (30.79022585045604, 40.818102160684624), (30.79053449063101, 40.8181434922337), (30.80124329748096, 40.81882838192597), (30.810599265020546, 40.82430993616578), (30.810814120682277, 40.82442076467049), (30.81103962709436, 40.824507901178016), (30.811273180819416, 40.82457033971056), (30.84426805023462, 40.83151616122415), (30.844473874082947, 40.83154961507057), (30.84468191109858, 40.83156387047329), (30.84489037442213, 40.83155880499065), (30.864393604119574, 40.83017860887095), (30.909213744216284, 40.83534702403796), (30.95187689837367, 40.85482825903946), (30.9520970780667, 40.85491511346867), (30.95232516357764, 40.85497835735216), (30.968203125880756, 40.858493379118805), (30.96842205657473, 40.858530620634085), (30.968643592152784, 40.85854609858229), (30.968865574476336, 40.858539662181514), (31.045040700105854, 40.85255855234755), (31.156698202147123, 40.84991912225622), (31.156915265721985, 40.849903463398206), (31.157129801134545, 40.84986690724791), (31.167603463340864, 40.84755604625415), (31.167833872759978, 40.84749220099105), (31.168056206522625, 40.84740426683372), (31.1682679540863, 40.847293236714755), (31.168466724445455, 40.84716036436113), (31.168650273130204, 40.847007150137365), (31.168816527550362, 40.846835324103786), (31.17945373152195, 40.83460302168134), (31.266662282325683, 40.78813893421804), (31.3161\n"
     ]
    },
    {
     "name": "stdout",
     "output_type": "stream",
     "text": [
      "catalog name: vexcel-ca-6cm-trueortho \n",
      "\n"
     ]
    },
    {
     "name": "stderr",
     "output_type": "stream",
     "text": [
      "2024-02-24 11:44:01,743 - 2 results returned.\n",
      "2024-02-24 11:44:01,751 - Searching catalog with search_parameters: {'datetime': '2023-05-01T00:00:00Z/2023-09-30T23:59:59Z', 'intersects': {'type': 'Polygon', 'coordinates': (((30.561470275866256, 40.7576736463021), (30.71621035278162, 40.792097518301624), (30.738823082999087, 40.79860291607337), (30.747175018694804, 40.80533377950656), (30.747363026007253, 40.805469917762096), (30.747564058842183, 40.80558596160483), (30.747775977603993, 40.80568067597832), (30.747996526838005, 40.80575305283603), (30.764447610214805, 40.810226206326156), (30.773800770797507, 40.814665698376835), (30.774051881482734, 40.814766860196016), (30.774313324307084, 40.81483713066985), (30.79022585045604, 40.818102160684624), (30.79053449063101, 40.8181434922337), (30.80124329748096, 40.81882838192597), (30.810599265020546, 40.82430993616578), (30.810814120682277, 40.82442076467049), (30.81103962709436, 40.824507901178016), (30.811273180819416, 40.82457033971056), (30.84426805023462, 40.83151616122415), (30.844473874082947, 40.83154961507057), (30.84468191109858, 40.83156387047329), (30.84489037442213, 40.83155880499065), (30.864393604119574, 40.83017860887095), (30.909213744216284, 40.83534702403796), (30.95187689837367, 40.85482825903946), (30.9520970780667, 40.85491511346867), (30.95232516357764, 40.85497835735216), (30.968203125880756, 40.858493379118805), (30.96842205657473, 40.858530620634085), (30.968643592152784, 40.85854609858229), (30.968865574476336, 40.858539662181514), (31.045040700105854, 40.85255855234755), (31.156698202147123, 40.84991912225622), (31.156915265721985, 40.849903463398206), (31.157129801134545, 40.84986690724791), (31.167603463340864, 40.84755604625415), (31.167833872759978, 40.84749220099105), (31.168056206522625, 40.84740426683372), (31.1682679540863, 40.847293236714755), (31.168466724445455, 40.84716036436113), (31.168650273130204, 40.847007150137365), (31.168816527550362, 40.846835324103786), (31.17945373152195, 40.83460302168134), (31.266662282325683, 40.78813893421804), (31.3161\n"
     ]
    },
    {
     "name": "stdout",
     "output_type": "stream",
     "text": [
      "catalog name: phr \n",
      "\n"
     ]
    },
    {
     "name": "stderr",
     "output_type": "stream",
     "text": [
      "2024-02-24 11:44:02,128 - 0 results returned.\n",
      "2024-02-24 11:44:02,145 - Searching catalog with search_parameters: {'datetime': '2023-05-01T00:00:00Z/2023-09-30T23:59:59Z', 'intersects': {'type': 'Polygon', 'coordinates': (((30.561470275866256, 40.7576736463021), (30.71621035278162, 40.792097518301624), (30.738823082999087, 40.79860291607337), (30.747175018694804, 40.80533377950656), (30.747363026007253, 40.805469917762096), (30.747564058842183, 40.80558596160483), (30.747775977603993, 40.80568067597832), (30.747996526838005, 40.80575305283603), (30.764447610214805, 40.810226206326156), (30.773800770797507, 40.814665698376835), (30.774051881482734, 40.814766860196016), (30.774313324307084, 40.81483713066985), (30.79022585045604, 40.818102160684624), (30.79053449063101, 40.8181434922337), (30.80124329748096, 40.81882838192597), (30.810599265020546, 40.82430993616578), (30.810814120682277, 40.82442076467049), (30.81103962709436, 40.824507901178016), (30.811273180819416, 40.82457033971056), (30.84426805023462, 40.83151616122415), (30.844473874082947, 40.83154961507057), (30.84468191109858, 40.83156387047329), (30.84489037442213, 40.83155880499065), (30.864393604119574, 40.83017860887095), (30.909213744216284, 40.83534702403796), (30.95187689837367, 40.85482825903946), (30.9520970780667, 40.85491511346867), (30.95232516357764, 40.85497835735216), (30.968203125880756, 40.858493379118805), (30.96842205657473, 40.858530620634085), (30.968643592152784, 40.85854609858229), (30.968865574476336, 40.858539662181514), (31.045040700105854, 40.85255855234755), (31.156698202147123, 40.84991912225622), (31.156915265721985, 40.849903463398206), (31.157129801134545, 40.84986690724791), (31.167603463340864, 40.84755604625415), (31.167833872759978, 40.84749220099105), (31.168056206522625, 40.84740426683372), (31.1682679540863, 40.847293236714755), (31.168466724445455, 40.84716036436113), (31.168650273130204, 40.847007150137365), (31.168816527550362, 40.846835324103786), (31.17945373152195, 40.83460302168134), (31.266662282325683, 40.78813893421804), (31.3161\n"
     ]
    },
    {
     "name": "stdout",
     "output_type": "stream",
     "text": [
      "catalog name: hexagon-eu-30cm \n",
      "\n"
     ]
    },
    {
     "name": "stderr",
     "output_type": "stream",
     "text": [
      "2024-02-24 11:44:02,563 - 0 results returned.\n",
      "2024-02-24 11:44:02,572 - Searching catalog with search_parameters: {'datetime': '2023-05-01T00:00:00Z/2023-09-30T23:59:59Z', 'intersects': {'type': 'Polygon', 'coordinates': (((30.561470275866256, 40.7576736463021), (30.71621035278162, 40.792097518301624), (30.738823082999087, 40.79860291607337), (30.747175018694804, 40.80533377950656), (30.747363026007253, 40.805469917762096), (30.747564058842183, 40.80558596160483), (30.747775977603993, 40.80568067597832), (30.747996526838005, 40.80575305283603), (30.764447610214805, 40.810226206326156), (30.773800770797507, 40.814665698376835), (30.774051881482734, 40.814766860196016), (30.774313324307084, 40.81483713066985), (30.79022585045604, 40.818102160684624), (30.79053449063101, 40.8181434922337), (30.80124329748096, 40.81882838192597), (30.810599265020546, 40.82430993616578), (30.810814120682277, 40.82442076467049), (30.81103962709436, 40.824507901178016), (30.811273180819416, 40.82457033971056), (30.84426805023462, 40.83151616122415), (30.844473874082947, 40.83154961507057), (30.84468191109858, 40.83156387047329), (30.84489037442213, 40.83155880499065), (30.864393604119574, 40.83017860887095), (30.909213744216284, 40.83534702403796), (30.95187689837367, 40.85482825903946), (30.9520970780667, 40.85491511346867), (30.95232516357764, 40.85497835735216), (30.968203125880756, 40.858493379118805), (30.96842205657473, 40.858530620634085), (30.968643592152784, 40.85854609858229), (30.968865574476336, 40.858539662181514), (31.045040700105854, 40.85255855234755), (31.156698202147123, 40.84991912225622), (31.156915265721985, 40.849903463398206), (31.157129801134545, 40.84986690724791), (31.167603463340864, 40.84755604625415), (31.167833872759978, 40.84749220099105), (31.168056206522625, 40.84740426683372), (31.1682679540863, 40.847293236714755), (31.168466724445455, 40.84716036436113), (31.168650273130204, 40.847007150137365), (31.168816527550362, 40.846835324103786), (31.17945373152195, 40.83460302168134), (31.266662282325683, 40.78813893421804), (31.3161\n"
     ]
    },
    {
     "name": "stdout",
     "output_type": "stream",
     "text": [
      "catalog name: vexcel-eeu-6cm-trueortho \n",
      "\n"
     ]
    },
    {
     "name": "stderr",
     "output_type": "stream",
     "text": [
      "2024-02-24 11:44:02,995 - 0 results returned.\n",
      "2024-02-24 11:44:03,012 - Searching catalog with search_parameters: {'datetime': '2023-05-01T00:00:00Z/2023-09-30T23:59:59Z', 'intersects': {'type': 'Polygon', 'coordinates': (((30.561470275866256, 40.7576736463021), (30.71621035278162, 40.792097518301624), (30.738823082999087, 40.79860291607337), (30.747175018694804, 40.80533377950656), (30.747363026007253, 40.805469917762096), (30.747564058842183, 40.80558596160483), (30.747775977603993, 40.80568067597832), (30.747996526838005, 40.80575305283603), (30.764447610214805, 40.810226206326156), (30.773800770797507, 40.814665698376835), (30.774051881482734, 40.814766860196016), (30.774313324307084, 40.81483713066985), (30.79022585045604, 40.818102160684624), (30.79053449063101, 40.8181434922337), (30.80124329748096, 40.81882838192597), (30.810599265020546, 40.82430993616578), (30.810814120682277, 40.82442076467049), (30.81103962709436, 40.824507901178016), (30.811273180819416, 40.82457033971056), (30.84426805023462, 40.83151616122415), (30.844473874082947, 40.83154961507057), (30.84468191109858, 40.83156387047329), (30.84489037442213, 40.83155880499065), (30.864393604119574, 40.83017860887095), (30.909213744216284, 40.83534702403796), (30.95187689837367, 40.85482825903946), (30.9520970780667, 40.85491511346867), (30.95232516357764, 40.85497835735216), (30.968203125880756, 40.858493379118805), (30.96842205657473, 40.858530620634085), (30.968643592152784, 40.85854609858229), (30.968865574476336, 40.858539662181514), (31.045040700105854, 40.85255855234755), (31.156698202147123, 40.84991912225622), (31.156915265721985, 40.849903463398206), (31.157129801134545, 40.84986690724791), (31.167603463340864, 40.84755604625415), (31.167833872759978, 40.84749220099105), (31.168056206522625, 40.84740426683372), (31.1682679540863, 40.847293236714755), (31.168466724445455, 40.84716036436113), (31.168650273130204, 40.847007150137365), (31.168816527550362, 40.846835324103786), (31.17945373152195, 40.83460302168134), (31.266662282325683, 40.78813893421804), (31.3161\n"
     ]
    },
    {
     "name": "stdout",
     "output_type": "stream",
     "text": [
      "catalog name: nsl-30cm \n",
      "\n"
     ]
    },
    {
     "name": "stderr",
     "output_type": "stream",
     "text": [
      "2024-02-24 11:44:03,379 - 0 results returned.\n",
      "2024-02-24 11:44:03,395 - Searching catalog with search_parameters: {'datetime': '2023-05-01T00:00:00Z/2023-09-30T23:59:59Z', 'intersects': {'type': 'Polygon', 'coordinates': (((30.561470275866256, 40.7576736463021), (30.71621035278162, 40.792097518301624), (30.738823082999087, 40.79860291607337), (30.747175018694804, 40.80533377950656), (30.747363026007253, 40.805469917762096), (30.747564058842183, 40.80558596160483), (30.747775977603993, 40.80568067597832), (30.747996526838005, 40.80575305283603), (30.764447610214805, 40.810226206326156), (30.773800770797507, 40.814665698376835), (30.774051881482734, 40.814766860196016), (30.774313324307084, 40.81483713066985), (30.79022585045604, 40.818102160684624), (30.79053449063101, 40.8181434922337), (30.80124329748096, 40.81882838192597), (30.810599265020546, 40.82430993616578), (30.810814120682277, 40.82442076467049), (30.81103962709436, 40.824507901178016), (30.811273180819416, 40.82457033971056), (30.84426805023462, 40.83151616122415), (30.844473874082947, 40.83154961507057), (30.84468191109858, 40.83156387047329), (30.84489037442213, 40.83155880499065), (30.864393604119574, 40.83017860887095), (30.909213744216284, 40.83534702403796), (30.95187689837367, 40.85482825903946), (30.9520970780667, 40.85491511346867), (30.95232516357764, 40.85497835735216), (30.968203125880756, 40.858493379118805), (30.96842205657473, 40.858530620634085), (30.968643592152784, 40.85854609858229), (30.968865574476336, 40.858539662181514), (31.045040700105854, 40.85255855234755), (31.156698202147123, 40.84991912225622), (31.156915265721985, 40.849903463398206), (31.157129801134545, 40.84986690724791), (31.167603463340864, 40.84755604625415), (31.167833872759978, 40.84749220099105), (31.168056206522625, 40.84740426683372), (31.1682679540863, 40.847293236714755), (31.168466724445455, 40.84716036436113), (31.168650273130204, 40.847007150137365), (31.168816527550362, 40.846835324103786), (31.17945373152195, 40.83460302168134), (31.266662282325683, 40.78813893421804), (31.3161\n"
     ]
    },
    {
     "name": "stdout",
     "output_type": "stream",
     "text": [
      "catalog name: vexcel-ca-6cm-oblique \n",
      "\n"
     ]
    },
    {
     "name": "stderr",
     "output_type": "stream",
     "text": [
      "2024-02-24 11:44:03,795 - 0 results returned.\n",
      "2024-02-24 11:44:03,812 - Searching catalog with search_parameters: {'datetime': '2023-05-01T00:00:00Z/2023-09-30T23:59:59Z', 'intersects': {'type': 'Polygon', 'coordinates': (((30.561470275866256, 40.7576736463021), (30.71621035278162, 40.792097518301624), (30.738823082999087, 40.79860291607337), (30.747175018694804, 40.80533377950656), (30.747363026007253, 40.805469917762096), (30.747564058842183, 40.80558596160483), (30.747775977603993, 40.80568067597832), (30.747996526838005, 40.80575305283603), (30.764447610214805, 40.810226206326156), (30.773800770797507, 40.814665698376835), (30.774051881482734, 40.814766860196016), (30.774313324307084, 40.81483713066985), (30.79022585045604, 40.818102160684624), (30.79053449063101, 40.8181434922337), (30.80124329748096, 40.81882838192597), (30.810599265020546, 40.82430993616578), (30.810814120682277, 40.82442076467049), (30.81103962709436, 40.824507901178016), (30.811273180819416, 40.82457033971056), (30.84426805023462, 40.83151616122415), (30.844473874082947, 40.83154961507057), (30.84468191109858, 40.83156387047329), (30.84489037442213, 40.83155880499065), (30.864393604119574, 40.83017860887095), (30.909213744216284, 40.83534702403796), (30.95187689837367, 40.85482825903946), (30.9520970780667, 40.85491511346867), (30.95232516357764, 40.85497835735216), (30.968203125880756, 40.858493379118805), (30.96842205657473, 40.858530620634085), (30.968643592152784, 40.85854609858229), (30.968865574476336, 40.858539662181514), (31.045040700105854, 40.85255855234755), (31.156698202147123, 40.84991912225622), (31.156915265721985, 40.849903463398206), (31.157129801134545, 40.84986690724791), (31.167603463340864, 40.84755604625415), (31.167833872759978, 40.84749220099105), (31.168056206522625, 40.84740426683372), (31.1682679540863, 40.847293236714755), (31.168466724445455, 40.84716036436113), (31.168650273130204, 40.847007150137365), (31.168816527550362, 40.846835324103786), (31.17945373152195, 40.83460302168134), (31.266662282325683, 40.78813893421804), (31.3161\n"
     ]
    },
    {
     "name": "stdout",
     "output_type": "stream",
     "text": [
      "catalog name: vexcel-jp-6cm-oblique \n",
      "\n"
     ]
    },
    {
     "name": "stderr",
     "output_type": "stream",
     "text": [
      "2024-02-24 11:44:04,195 - 0 results returned.\n",
      "2024-02-24 11:44:04,195 - Searching catalog with search_parameters: {'datetime': '2023-05-01T00:00:00Z/2023-09-30T23:59:59Z', 'intersects': {'type': 'Polygon', 'coordinates': (((30.561470275866256, 40.7576736463021), (30.71621035278162, 40.792097518301624), (30.738823082999087, 40.79860291607337), (30.747175018694804, 40.80533377950656), (30.747363026007253, 40.805469917762096), (30.747564058842183, 40.80558596160483), (30.747775977603993, 40.80568067597832), (30.747996526838005, 40.80575305283603), (30.764447610214805, 40.810226206326156), (30.773800770797507, 40.814665698376835), (30.774051881482734, 40.814766860196016), (30.774313324307084, 40.81483713066985), (30.79022585045604, 40.818102160684624), (30.79053449063101, 40.8181434922337), (30.80124329748096, 40.81882838192597), (30.810599265020546, 40.82430993616578), (30.810814120682277, 40.82442076467049), (30.81103962709436, 40.824507901178016), (30.811273180819416, 40.82457033971056), (30.84426805023462, 40.83151616122415), (30.844473874082947, 40.83154961507057), (30.84468191109858, 40.83156387047329), (30.84489037442213, 40.83155880499065), (30.864393604119574, 40.83017860887095), (30.909213744216284, 40.83534702403796), (30.95187689837367, 40.85482825903946), (30.9520970780667, 40.85491511346867), (30.95232516357764, 40.85497835735216), (30.968203125880756, 40.858493379118805), (30.96842205657473, 40.858530620634085), (30.968643592152784, 40.85854609858229), (30.968865574476336, 40.858539662181514), (31.045040700105854, 40.85255855234755), (31.156698202147123, 40.84991912225622), (31.156915265721985, 40.849903463398206), (31.157129801134545, 40.84986690724791), (31.167603463340864, 40.84755604625415), (31.167833872759978, 40.84749220099105), (31.168056206522625, 40.84740426683372), (31.1682679540863, 40.847293236714755), (31.168466724445455, 40.84716036436113), (31.168650273130204, 40.847007150137365), (31.168816527550362, 40.846835324103786), (31.17945373152195, 40.83460302168134), (31.266662282325683, 40.78813893421804), (31.3161\n"
     ]
    },
    {
     "name": "stdout",
     "output_type": "stream",
     "text": [
      "catalog name: vexcel-oc-6cm-oblique \n",
      "\n"
     ]
    },
    {
     "name": "stderr",
     "output_type": "stream",
     "text": [
      "2024-02-24 11:44:04,588 - 0 results returned.\n",
      "2024-02-24 11:44:04,595 - Searching catalog with search_parameters: {'datetime': '2023-05-01T00:00:00Z/2023-09-30T23:59:59Z', 'intersects': {'type': 'Polygon', 'coordinates': (((30.561470275866256, 40.7576736463021), (30.71621035278162, 40.792097518301624), (30.738823082999087, 40.79860291607337), (30.747175018694804, 40.80533377950656), (30.747363026007253, 40.805469917762096), (30.747564058842183, 40.80558596160483), (30.747775977603993, 40.80568067597832), (30.747996526838005, 40.80575305283603), (30.764447610214805, 40.810226206326156), (30.773800770797507, 40.814665698376835), (30.774051881482734, 40.814766860196016), (30.774313324307084, 40.81483713066985), (30.79022585045604, 40.818102160684624), (30.79053449063101, 40.8181434922337), (30.80124329748096, 40.81882838192597), (30.810599265020546, 40.82430993616578), (30.810814120682277, 40.82442076467049), (30.81103962709436, 40.824507901178016), (30.811273180819416, 40.82457033971056), (30.84426805023462, 40.83151616122415), (30.844473874082947, 40.83154961507057), (30.84468191109858, 40.83156387047329), (30.84489037442213, 40.83155880499065), (30.864393604119574, 40.83017860887095), (30.909213744216284, 40.83534702403796), (30.95187689837367, 40.85482825903946), (30.9520970780667, 40.85491511346867), (30.95232516357764, 40.85497835735216), (30.968203125880756, 40.858493379118805), (30.96842205657473, 40.858530620634085), (30.968643592152784, 40.85854609858229), (30.968865574476336, 40.858539662181514), (31.045040700105854, 40.85255855234755), (31.156698202147123, 40.84991912225622), (31.156915265721985, 40.849903463398206), (31.157129801134545, 40.84986690724791), (31.167603463340864, 40.84755604625415), (31.167833872759978, 40.84749220099105), (31.168056206522625, 40.84740426683372), (31.1682679540863, 40.847293236714755), (31.168466724445455, 40.84716036436113), (31.168650273130204, 40.847007150137365), (31.168816527550362, 40.846835324103786), (31.17945373152195, 40.83460302168134), (31.266662282325683, 40.78813893421804), (31.3161\n"
     ]
    },
    {
     "name": "stdout",
     "output_type": "stream",
     "text": [
      "catalog name: vexcel-eeu-6cm-oblique \n",
      "\n"
     ]
    },
    {
     "name": "stderr",
     "output_type": "stream",
     "text": [
      "2024-02-24 11:44:04,993 - 0 results returned.\n",
      "2024-02-24 11:44:04,993 - Searching catalog with search_parameters: {'datetime': '2023-05-01T00:00:00Z/2023-09-30T23:59:59Z', 'intersects': {'type': 'Polygon', 'coordinates': (((30.561470275866256, 40.7576736463021), (30.71621035278162, 40.792097518301624), (30.738823082999087, 40.79860291607337), (30.747175018694804, 40.80533377950656), (30.747363026007253, 40.805469917762096), (30.747564058842183, 40.80558596160483), (30.747775977603993, 40.80568067597832), (30.747996526838005, 40.80575305283603), (30.764447610214805, 40.810226206326156), (30.773800770797507, 40.814665698376835), (30.774051881482734, 40.814766860196016), (30.774313324307084, 40.81483713066985), (30.79022585045604, 40.818102160684624), (30.79053449063101, 40.8181434922337), (30.80124329748096, 40.81882838192597), (30.810599265020546, 40.82430993616578), (30.810814120682277, 40.82442076467049), (30.81103962709436, 40.824507901178016), (30.811273180819416, 40.82457033971056), (30.84426805023462, 40.83151616122415), (30.844473874082947, 40.83154961507057), (30.84468191109858, 40.83156387047329), (30.84489037442213, 40.83155880499065), (30.864393604119574, 40.83017860887095), (30.909213744216284, 40.83534702403796), (30.95187689837367, 40.85482825903946), (30.9520970780667, 40.85491511346867), (30.95232516357764, 40.85497835735216), (30.968203125880756, 40.858493379118805), (30.96842205657473, 40.858530620634085), (30.968643592152784, 40.85854609858229), (30.968865574476336, 40.858539662181514), (31.045040700105854, 40.85255855234755), (31.156698202147123, 40.84991912225622), (31.156915265721985, 40.849903463398206), (31.157129801134545, 40.84986690724791), (31.167603463340864, 40.84755604625415), (31.167833872759978, 40.84749220099105), (31.168056206522625, 40.84740426683372), (31.1682679540863, 40.847293236714755), (31.168466724445455, 40.84716036436113), (31.168650273130204, 40.847007150137365), (31.168816527550362, 40.846835324103786), (31.17945373152195, 40.83460302168134), (31.266662282325683, 40.78813893421804), (31.3161\n"
     ]
    },
    {
     "name": "stdout",
     "output_type": "stream",
     "text": [
      "catalog name: vexcel-us-15cm-ortho \n",
      "\n"
     ]
    },
    {
     "name": "stderr",
     "output_type": "stream",
     "text": [
      "2024-02-24 11:44:05,423 - 0 results returned.\n",
      "2024-02-24 11:44:05,430 - Searching catalog with search_parameters: {'datetime': '2023-05-01T00:00:00Z/2023-09-30T23:59:59Z', 'intersects': {'type': 'Polygon', 'coordinates': (((30.561470275866256, 40.7576736463021), (30.71621035278162, 40.792097518301624), (30.738823082999087, 40.79860291607337), (30.747175018694804, 40.80533377950656), (30.747363026007253, 40.805469917762096), (30.747564058842183, 40.80558596160483), (30.747775977603993, 40.80568067597832), (30.747996526838005, 40.80575305283603), (30.764447610214805, 40.810226206326156), (30.773800770797507, 40.814665698376835), (30.774051881482734, 40.814766860196016), (30.774313324307084, 40.81483713066985), (30.79022585045604, 40.818102160684624), (30.79053449063101, 40.8181434922337), (30.80124329748096, 40.81882838192597), (30.810599265020546, 40.82430993616578), (30.810814120682277, 40.82442076467049), (30.81103962709436, 40.824507901178016), (30.811273180819416, 40.82457033971056), (30.84426805023462, 40.83151616122415), (30.844473874082947, 40.83154961507057), (30.84468191109858, 40.83156387047329), (30.84489037442213, 40.83155880499065), (30.864393604119574, 40.83017860887095), (30.909213744216284, 40.83534702403796), (30.95187689837367, 40.85482825903946), (30.9520970780667, 40.85491511346867), (30.95232516357764, 40.85497835735216), (30.968203125880756, 40.858493379118805), (30.96842205657473, 40.858530620634085), (30.968643592152784, 40.85854609858229), (30.968865574476336, 40.858539662181514), (31.045040700105854, 40.85255855234755), (31.156698202147123, 40.84991912225622), (31.156915265721985, 40.849903463398206), (31.157129801134545, 40.84986690724791), (31.167603463340864, 40.84755604625415), (31.167833872759978, 40.84749220099105), (31.168056206522625, 40.84740426683372), (31.1682679540863, 40.847293236714755), (31.168466724445455, 40.84716036436113), (31.168650273130204, 40.847007150137365), (31.168816527550362, 40.846835324103786), (31.17945373152195, 40.83460302168134), (31.266662282325683, 40.78813893421804), (31.3161\n"
     ]
    },
    {
     "name": "stdout",
     "output_type": "stream",
     "text": [
      "catalog name: vexcel-jp-6cm-trueortho \n",
      "\n"
     ]
    },
    {
     "name": "stderr",
     "output_type": "stream",
     "text": [
      "2024-02-24 11:44:05,812 - 0 results returned.\n",
      "2024-02-24 11:44:05,812 - Searching catalog with search_parameters: {'datetime': '2023-05-01T00:00:00Z/2023-09-30T23:59:59Z', 'intersects': {'type': 'Polygon', 'coordinates': (((30.561470275866256, 40.7576736463021), (30.71621035278162, 40.792097518301624), (30.738823082999087, 40.79860291607337), (30.747175018694804, 40.80533377950656), (30.747363026007253, 40.805469917762096), (30.747564058842183, 40.80558596160483), (30.747775977603993, 40.80568067597832), (30.747996526838005, 40.80575305283603), (30.764447610214805, 40.810226206326156), (30.773800770797507, 40.814665698376835), (30.774051881482734, 40.814766860196016), (30.774313324307084, 40.81483713066985), (30.79022585045604, 40.818102160684624), (30.79053449063101, 40.8181434922337), (30.80124329748096, 40.81882838192597), (30.810599265020546, 40.82430993616578), (30.810814120682277, 40.82442076467049), (30.81103962709436, 40.824507901178016), (30.811273180819416, 40.82457033971056), (30.84426805023462, 40.83151616122415), (30.844473874082947, 40.83154961507057), (30.84468191109858, 40.83156387047329), (30.84489037442213, 40.83155880499065), (30.864393604119574, 40.83017860887095), (30.909213744216284, 40.83534702403796), (30.95187689837367, 40.85482825903946), (30.9520970780667, 40.85491511346867), (30.95232516357764, 40.85497835735216), (30.968203125880756, 40.858493379118805), (30.96842205657473, 40.858530620634085), (30.968643592152784, 40.85854609858229), (30.968865574476336, 40.858539662181514), (31.045040700105854, 40.85255855234755), (31.156698202147123, 40.84991912225622), (31.156915265721985, 40.849903463398206), (31.157129801134545, 40.84986690724791), (31.167603463340864, 40.84755604625415), (31.167833872759978, 40.84749220099105), (31.168056206522625, 40.84740426683372), (31.1682679540863, 40.847293236714755), (31.168466724445455, 40.84716036436113), (31.168650273130204, 40.847007150137365), (31.168816527550362, 40.846835324103786), (31.17945373152195, 40.83460302168134), (31.266662282325683, 40.78813893421804), (31.3161\n"
     ]
    },
    {
     "name": "stdout",
     "output_type": "stream",
     "text": [
      "catalog name: vexcel-weu-6cm-trueortho \n",
      "\n"
     ]
    },
    {
     "name": "stderr",
     "output_type": "stream",
     "text": [
      "2024-02-24 11:44:06,160 - 0 results returned.\n",
      "2024-02-24 11:44:06,169 - Searching catalog with search_parameters: {'datetime': '2023-05-01T00:00:00Z/2023-09-30T23:59:59Z', 'intersects': {'type': 'Polygon', 'coordinates': (((30.561470275866256, 40.7576736463021), (30.71621035278162, 40.792097518301624), (30.738823082999087, 40.79860291607337), (30.747175018694804, 40.80533377950656), (30.747363026007253, 40.805469917762096), (30.747564058842183, 40.80558596160483), (30.747775977603993, 40.80568067597832), (30.747996526838005, 40.80575305283603), (30.764447610214805, 40.810226206326156), (30.773800770797507, 40.814665698376835), (30.774051881482734, 40.814766860196016), (30.774313324307084, 40.81483713066985), (30.79022585045604, 40.818102160684624), (30.79053449063101, 40.8181434922337), (30.80124329748096, 40.81882838192597), (30.810599265020546, 40.82430993616578), (30.810814120682277, 40.82442076467049), (30.81103962709436, 40.824507901178016), (30.811273180819416, 40.82457033971056), (30.84426805023462, 40.83151616122415), (30.844473874082947, 40.83154961507057), (30.84468191109858, 40.83156387047329), (30.84489037442213, 40.83155880499065), (30.864393604119574, 40.83017860887095), (30.909213744216284, 40.83534702403796), (30.95187689837367, 40.85482825903946), (30.9520970780667, 40.85491511346867), (30.95232516357764, 40.85497835735216), (30.968203125880756, 40.858493379118805), (30.96842205657473, 40.858530620634085), (30.968643592152784, 40.85854609858229), (30.968865574476336, 40.858539662181514), (31.045040700105854, 40.85255855234755), (31.156698202147123, 40.84991912225622), (31.156915265721985, 40.849903463398206), (31.157129801134545, 40.84986690724791), (31.167603463340864, 40.84755604625415), (31.167833872759978, 40.84749220099105), (31.168056206522625, 40.84740426683372), (31.1682679540863, 40.847293236714755), (31.168466724445455, 40.84716036436113), (31.168650273130204, 40.847007150137365), (31.168816527550362, 40.846835324103786), (31.17945373152195, 40.83460302168134), (31.266662282325683, 40.78813893421804), (31.3161\n"
     ]
    },
    {
     "name": "stdout",
     "output_type": "stream",
     "text": [
      "catalog name: vexcel-us-6cm-trueortho \n",
      "\n"
     ]
    },
    {
     "name": "stderr",
     "output_type": "stream",
     "text": [
      "2024-02-24 11:44:06,544 - 0 results returned.\n",
      "2024-02-24 11:44:06,560 - Searching catalog with search_parameters: {'datetime': '2023-05-01T00:00:00Z/2023-09-30T23:59:59Z', 'intersects': {'type': 'Polygon', 'coordinates': (((30.561470275866256, 40.7576736463021), (30.71621035278162, 40.792097518301624), (30.738823082999087, 40.79860291607337), (30.747175018694804, 40.80533377950656), (30.747363026007253, 40.805469917762096), (30.747564058842183, 40.80558596160483), (30.747775977603993, 40.80568067597832), (30.747996526838005, 40.80575305283603), (30.764447610214805, 40.810226206326156), (30.773800770797507, 40.814665698376835), (30.774051881482734, 40.814766860196016), (30.774313324307084, 40.81483713066985), (30.79022585045604, 40.818102160684624), (30.79053449063101, 40.8181434922337), (30.80124329748096, 40.81882838192597), (30.810599265020546, 40.82430993616578), (30.810814120682277, 40.82442076467049), (30.81103962709436, 40.824507901178016), (30.811273180819416, 40.82457033971056), (30.84426805023462, 40.83151616122415), (30.844473874082947, 40.83154961507057), (30.84468191109858, 40.83156387047329), (30.84489037442213, 40.83155880499065), (30.864393604119574, 40.83017860887095), (30.909213744216284, 40.83534702403796), (30.95187689837367, 40.85482825903946), (30.9520970780667, 40.85491511346867), (30.95232516357764, 40.85497835735216), (30.968203125880756, 40.858493379118805), (30.96842205657473, 40.858530620634085), (30.968643592152784, 40.85854609858229), (30.968865574476336, 40.858539662181514), (31.045040700105854, 40.85255855234755), (31.156698202147123, 40.84991912225622), (31.156915265721985, 40.849903463398206), (31.157129801134545, 40.84986690724791), (31.167603463340864, 40.84755604625415), (31.167833872759978, 40.84749220099105), (31.168056206522625, 40.84740426683372), (31.1682679540863, 40.847293236714755), (31.168466724445455, 40.84716036436113), (31.168650273130204, 40.847007150137365), (31.168816527550362, 40.846835324103786), (31.17945373152195, 40.83460302168134), (31.266662282325683, 40.78813893421804), (31.3161\n"
     ]
    },
    {
     "name": "stdout",
     "output_type": "stream",
     "text": [
      "catalog name: vexcel-weu-6cm-oblique \n",
      "\n"
     ]
    },
    {
     "name": "stderr",
     "output_type": "stream",
     "text": [
      "2024-02-24 11:44:08,011 - 0 results returned.\n",
      "2024-02-24 11:44:08,026 - Searching catalog with search_parameters: {'datetime': '2023-05-01T00:00:00Z/2023-09-30T23:59:59Z', 'intersects': {'type': 'Polygon', 'coordinates': (((30.561470275866256, 40.7576736463021), (30.71621035278162, 40.792097518301624), (30.738823082999087, 40.79860291607337), (30.747175018694804, 40.80533377950656), (30.747363026007253, 40.805469917762096), (30.747564058842183, 40.80558596160483), (30.747775977603993, 40.80568067597832), (30.747996526838005, 40.80575305283603), (30.764447610214805, 40.810226206326156), (30.773800770797507, 40.814665698376835), (30.774051881482734, 40.814766860196016), (30.774313324307084, 40.81483713066985), (30.79022585045604, 40.818102160684624), (30.79053449063101, 40.8181434922337), (30.80124329748096, 40.81882838192597), (30.810599265020546, 40.82430993616578), (30.810814120682277, 40.82442076467049), (30.81103962709436, 40.824507901178016), (30.811273180819416, 40.82457033971056), (30.84426805023462, 40.83151616122415), (30.844473874082947, 40.83154961507057), (30.84468191109858, 40.83156387047329), (30.84489037442213, 40.83155880499065), (30.864393604119574, 40.83017860887095), (30.909213744216284, 40.83534702403796), (30.95187689837367, 40.85482825903946), (30.9520970780667, 40.85491511346867), (30.95232516357764, 40.85497835735216), (30.968203125880756, 40.858493379118805), (30.96842205657473, 40.858530620634085), (30.968643592152784, 40.85854609858229), (30.968865574476336, 40.858539662181514), (31.045040700105854, 40.85255855234755), (31.156698202147123, 40.84991912225622), (31.156915265721985, 40.849903463398206), (31.157129801134545, 40.84986690724791), (31.167603463340864, 40.84755604625415), (31.167833872759978, 40.84749220099105), (31.168056206522625, 40.84740426683372), (31.1682679540863, 40.847293236714755), (31.168466724445455, 40.84716036436113), (31.168650273130204, 40.847007150137365), (31.168816527550362, 40.846835324103786), (31.17945373152195, 40.83460302168134), (31.266662282325683, 40.78813893421804), (31.3161\n"
     ]
    },
    {
     "name": "stdout",
     "output_type": "stream",
     "text": [
      "catalog name: eros-b \n",
      "\n"
     ]
    },
    {
     "name": "stderr",
     "output_type": "stream",
     "text": [
      "2024-02-24 11:44:08,434 - 0 results returned.\n",
      "2024-02-24 11:44:08,444 - Searching catalog with search_parameters: {'datetime': '2023-05-01T00:00:00Z/2023-09-30T23:59:59Z', 'intersects': {'type': 'Polygon', 'coordinates': (((30.561470275866256, 40.7576736463021), (30.71621035278162, 40.792097518301624), (30.738823082999087, 40.79860291607337), (30.747175018694804, 40.80533377950656), (30.747363026007253, 40.805469917762096), (30.747564058842183, 40.80558596160483), (30.747775977603993, 40.80568067597832), (30.747996526838005, 40.80575305283603), (30.764447610214805, 40.810226206326156), (30.773800770797507, 40.814665698376835), (30.774051881482734, 40.814766860196016), (30.774313324307084, 40.81483713066985), (30.79022585045604, 40.818102160684624), (30.79053449063101, 40.8181434922337), (30.80124329748096, 40.81882838192597), (30.810599265020546, 40.82430993616578), (30.810814120682277, 40.82442076467049), (30.81103962709436, 40.824507901178016), (30.811273180819416, 40.82457033971056), (30.84426805023462, 40.83151616122415), (30.844473874082947, 40.83154961507057), (30.84468191109858, 40.83156387047329), (30.84489037442213, 40.83155880499065), (30.864393604119574, 40.83017860887095), (30.909213744216284, 40.83534702403796), (30.95187689837367, 40.85482825903946), (30.9520970780667, 40.85491511346867), (30.95232516357764, 40.85497835735216), (30.968203125880756, 40.858493379118805), (30.96842205657473, 40.858530620634085), (30.968643592152784, 40.85854609858229), (30.968865574476336, 40.858539662181514), (31.045040700105854, 40.85255855234755), (31.156698202147123, 40.84991912225622), (31.156915265721985, 40.849903463398206), (31.157129801134545, 40.84986690724791), (31.167603463340864, 40.84755604625415), (31.167833872759978, 40.84749220099105), (31.168056206522625, 40.84740426683372), (31.1682679540863, 40.847293236714755), (31.168466724445455, 40.84716036436113), (31.168650273130204, 40.847007150137365), (31.168816527550362, 40.846835324103786), (31.17945373152195, 40.83460302168134), (31.266662282325683, 40.78813893421804), (31.3161\n"
     ]
    },
    {
     "name": "stdout",
     "output_type": "stream",
     "text": [
      "catalog name: vexcel-weu-15cm-ortho \n",
      "\n"
     ]
    },
    {
     "name": "stderr",
     "output_type": "stream",
     "text": [
      "2024-02-24 11:44:09,297 - 0 results returned.\n"
     ]
    },
    {
     "name": "stdout",
     "output_type": "stream",
     "text": [
      "catalog name: eros-c \n",
      "\n"
     ]
    }
   ],
   "source": [
    "for i in catalog_names_array:\n",
    "    search_parameters = catalog.construct_search_parameters(\n",
    "        collections=[i], #name\n",
    "        geometry = aoi,\n",
    "        start_date=start_date_search,\n",
    "        end_date=end_date_search,\n",
    "        max_cloudcover=20,\n",
    "        limit=10,\n",
    "    )\n",
    "    search_results_json = catalog.search((search_parameters), as_dataframe=False)\n",
    "    print(f\"catalog name: {str(i)} \\n\")\n",
    "    #search_results_df = catalog.search((search_parameters), as_dataframe=True)"
   ]
  },
  {
   "cell_type": "code",
   "execution_count": 162,
   "metadata": {},
   "outputs": [
    {
     "name": "stderr",
     "output_type": "stream",
     "text": [
      "2024-02-24 11:41:25,163 - Searching catalog with search_parameters: {'datetime': '2023-05-01T00:00:00Z/2023-09-30T23:59:59Z', 'intersects': {'type': 'Polygon', 'coordinates': (((30.561470275866256, 40.7576736463021), (30.71621035278162, 40.792097518301624), (30.738823082999087, 40.79860291607337), (30.747175018694804, 40.80533377950656), (30.747363026007253, 40.805469917762096), (30.747564058842183, 40.80558596160483), (30.747775977603993, 40.80568067597832), (30.747996526838005, 40.80575305283603), (30.764447610214805, 40.810226206326156), (30.773800770797507, 40.814665698376835), (30.774051881482734, 40.814766860196016), (30.774313324307084, 40.81483713066985), (30.79022585045604, 40.818102160684624), (30.79053449063101, 40.8181434922337), (30.80124329748096, 40.81882838192597), (30.810599265020546, 40.82430993616578), (30.810814120682277, 40.82442076467049), (30.81103962709436, 40.824507901178016), (30.811273180819416, 40.82457033971056), (30.84426805023462, 40.83151616122415), (30.844473874082947, 40.83154961507057), (30.84468191109858, 40.83156387047329), (30.84489037442213, 40.83155880499065), (30.864393604119574, 40.83017860887095), (30.909213744216284, 40.83534702403796), (30.95187689837367, 40.85482825903946), (30.9520970780667, 40.85491511346867), (30.95232516357764, 40.85497835735216), (30.968203125880756, 40.858493379118805), (30.96842205657473, 40.858530620634085), (30.968643592152784, 40.85854609858229), (30.968865574476336, 40.858539662181514), (31.045040700105854, 40.85255855234755), (31.156698202147123, 40.84991912225622), (31.156915265721985, 40.849903463398206), (31.157129801134545, 40.84986690724791), (31.167603463340864, 40.84755604625415), (31.167833872759978, 40.84749220099105), (31.168056206522625, 40.84740426683372), (31.1682679540863, 40.847293236714755), (31.168466724445455, 40.84716036436113), (31.168650273130204, 40.847007150137365), (31.168816527550362, 40.846835324103786), (31.17945373152195, 40.83460302168134), (31.266662282325683, 40.78813893421804), (31.3161\n",
      "2024-02-24 11:41:26,187 - 10 results returned.\n",
      "2024-02-24 11:41:26,198 - Searching catalog with search_parameters: {'datetime': '2023-05-01T00:00:00Z/2023-09-30T23:59:59Z', 'intersects': {'type': 'Polygon', 'coordinates': (((30.561470275866256, 40.7576736463021), (30.71621035278162, 40.792097518301624), (30.738823082999087, 40.79860291607337), (30.747175018694804, 40.80533377950656), (30.747363026007253, 40.805469917762096), (30.747564058842183, 40.80558596160483), (30.747775977603993, 40.80568067597832), (30.747996526838005, 40.80575305283603), (30.764447610214805, 40.810226206326156), (30.773800770797507, 40.814665698376835), (30.774051881482734, 40.814766860196016), (30.774313324307084, 40.81483713066985), (30.79022585045604, 40.818102160684624), (30.79053449063101, 40.8181434922337), (30.80124329748096, 40.81882838192597), (30.810599265020546, 40.82430993616578), (30.810814120682277, 40.82442076467049), (30.81103962709436, 40.824507901178016), (30.811273180819416, 40.82457033971056), (30.84426805023462, 40.83151616122415), (30.844473874082947, 40.83154961507057), (30.84468191109858, 40.83156387047329), (30.84489037442213, 40.83155880499065), (30.864393604119574, 40.83017860887095), (30.909213744216284, 40.83534702403796), (30.95187689837367, 40.85482825903946), (30.9520970780667, 40.85491511346867), (30.95232516357764, 40.85497835735216), (30.968203125880756, 40.858493379118805), (30.96842205657473, 40.858530620634085), (30.968643592152784, 40.85854609858229), (30.968865574476336, 40.858539662181514), (31.045040700105854, 40.85255855234755), (31.156698202147123, 40.84991912225622), (31.156915265721985, 40.849903463398206), (31.157129801134545, 40.84986690724791), (31.167603463340864, 40.84755604625415), (31.167833872759978, 40.84749220099105), (31.168056206522625, 40.84740426683372), (31.1682679540863, 40.847293236714755), (31.168466724445455, 40.84716036436113), (31.168650273130204, 40.847007150137365), (31.168816527550362, 40.846835324103786), (31.17945373152195, 40.83460302168134), (31.266662282325683, 40.78813893421804), (31.3161\n",
      "2024-02-24 11:41:27,148 - 0 results returned.\n",
      "2024-02-24 11:41:27,164 - Searching catalog with search_parameters: {'datetime': '2023-05-01T00:00:00Z/2023-09-30T23:59:59Z', 'intersects': {'type': 'Polygon', 'coordinates': (((30.561470275866256, 40.7576736463021), (30.71621035278162, 40.792097518301624), (30.738823082999087, 40.79860291607337), (30.747175018694804, 40.80533377950656), (30.747363026007253, 40.805469917762096), (30.747564058842183, 40.80558596160483), (30.747775977603993, 40.80568067597832), (30.747996526838005, 40.80575305283603), (30.764447610214805, 40.810226206326156), (30.773800770797507, 40.814665698376835), (30.774051881482734, 40.814766860196016), (30.774313324307084, 40.81483713066985), (30.79022585045604, 40.818102160684624), (30.79053449063101, 40.8181434922337), (30.80124329748096, 40.81882838192597), (30.810599265020546, 40.82430993616578), (30.810814120682277, 40.82442076467049), (30.81103962709436, 40.824507901178016), (30.811273180819416, 40.82457033971056), (30.84426805023462, 40.83151616122415), (30.844473874082947, 40.83154961507057), (30.84468191109858, 40.83156387047329), (30.84489037442213, 40.83155880499065), (30.864393604119574, 40.83017860887095), (30.909213744216284, 40.83534702403796), (30.95187689837367, 40.85482825903946), (30.9520970780667, 40.85491511346867), (30.95232516357764, 40.85497835735216), (30.968203125880756, 40.858493379118805), (30.96842205657473, 40.858530620634085), (30.968643592152784, 40.85854609858229), (30.968865574476336, 40.858539662181514), (31.045040700105854, 40.85255855234755), (31.156698202147123, 40.84991912225622), (31.156915265721985, 40.849903463398206), (31.157129801134545, 40.84986690724791), (31.167603463340864, 40.84755604625415), (31.167833872759978, 40.84749220099105), (31.168056206522625, 40.84740426683372), (31.1682679540863, 40.847293236714755), (31.168466724445455, 40.84716036436113), (31.168650273130204, 40.847007150137365), (31.168816527550362, 40.846835324103786), (31.17945373152195, 40.83460302168134), (31.266662282325683, 40.78813893421804), (31.3161\n",
      "2024-02-24 11:41:27,616 - 0 results returned.\n",
      "2024-02-24 11:41:27,625 - Searching catalog with search_parameters: {'datetime': '2023-05-01T00:00:00Z/2023-09-30T23:59:59Z', 'intersects': {'type': 'Polygon', 'coordinates': (((30.561470275866256, 40.7576736463021), (30.71621035278162, 40.792097518301624), (30.738823082999087, 40.79860291607337), (30.747175018694804, 40.80533377950656), (30.747363026007253, 40.805469917762096), (30.747564058842183, 40.80558596160483), (30.747775977603993, 40.80568067597832), (30.747996526838005, 40.80575305283603), (30.764447610214805, 40.810226206326156), (30.773800770797507, 40.814665698376835), (30.774051881482734, 40.814766860196016), (30.774313324307084, 40.81483713066985), (30.79022585045604, 40.818102160684624), (30.79053449063101, 40.8181434922337), (30.80124329748096, 40.81882838192597), (30.810599265020546, 40.82430993616578), (30.810814120682277, 40.82442076467049), (30.81103962709436, 40.824507901178016), (30.811273180819416, 40.82457033971056), (30.84426805023462, 40.83151616122415), (30.844473874082947, 40.83154961507057), (30.84468191109858, 40.83156387047329), (30.84489037442213, 40.83155880499065), (30.864393604119574, 40.83017860887095), (30.909213744216284, 40.83534702403796), (30.95187689837367, 40.85482825903946), (30.9520970780667, 40.85491511346867), (30.95232516357764, 40.85497835735216), (30.968203125880756, 40.858493379118805), (30.96842205657473, 40.858530620634085), (30.968643592152784, 40.85854609858229), (30.968865574476336, 40.858539662181514), (31.045040700105854, 40.85255855234755), (31.156698202147123, 40.84991912225622), (31.156915265721985, 40.849903463398206), (31.157129801134545, 40.84986690724791), (31.167603463340864, 40.84755604625415), (31.167833872759978, 40.84749220099105), (31.168056206522625, 40.84740426683372), (31.1682679540863, 40.847293236714755), (31.168466724445455, 40.84716036436113), (31.168650273130204, 40.847007150137365), (31.168816527550362, 40.846835324103786), (31.17945373152195, 40.83460302168134), (31.266662282325683, 40.78813893421804), (31.3161\n",
      "2024-02-24 11:41:28,333 - 0 results returned.\n",
      "2024-02-24 11:41:28,345 - Searching catalog with search_parameters: {'datetime': '2023-05-01T00:00:00Z/2023-09-30T23:59:59Z', 'intersects': {'type': 'Polygon', 'coordinates': (((30.561470275866256, 40.7576736463021), (30.71621035278162, 40.792097518301624), (30.738823082999087, 40.79860291607337), (30.747175018694804, 40.80533377950656), (30.747363026007253, 40.805469917762096), (30.747564058842183, 40.80558596160483), (30.747775977603993, 40.80568067597832), (30.747996526838005, 40.80575305283603), (30.764447610214805, 40.810226206326156), (30.773800770797507, 40.814665698376835), (30.774051881482734, 40.814766860196016), (30.774313324307084, 40.81483713066985), (30.79022585045604, 40.818102160684624), (30.79053449063101, 40.8181434922337), (30.80124329748096, 40.81882838192597), (30.810599265020546, 40.82430993616578), (30.810814120682277, 40.82442076467049), (30.81103962709436, 40.824507901178016), (30.811273180819416, 40.82457033971056), (30.84426805023462, 40.83151616122415), (30.844473874082947, 40.83154961507057), (30.84468191109858, 40.83156387047329), (30.84489037442213, 40.83155880499065), (30.864393604119574, 40.83017860887095), (30.909213744216284, 40.83534702403796), (30.95187689837367, 40.85482825903946), (30.9520970780667, 40.85491511346867), (30.95232516357764, 40.85497835735216), (30.968203125880756, 40.858493379118805), (30.96842205657473, 40.858530620634085), (30.968643592152784, 40.85854609858229), (30.968865574476336, 40.858539662181514), (31.045040700105854, 40.85255855234755), (31.156698202147123, 40.84991912225622), (31.156915265721985, 40.849903463398206), (31.157129801134545, 40.84986690724791), (31.167603463340864, 40.84755604625415), (31.167833872759978, 40.84749220099105), (31.168056206522625, 40.84740426683372), (31.1682679540863, 40.847293236714755), (31.168466724445455, 40.84716036436113), (31.168650273130204, 40.847007150137365), (31.168816527550362, 40.846835324103786), (31.17945373152195, 40.83460302168134), (31.266662282325683, 40.78813893421804), (31.3161\n",
      "2024-02-24 11:41:28,762 - 0 results returned.\n",
      "2024-02-24 11:41:28,766 - Searching catalog with search_parameters: {'datetime': '2023-05-01T00:00:00Z/2023-09-30T23:59:59Z', 'intersects': {'type': 'Polygon', 'coordinates': (((30.561470275866256, 40.7576736463021), (30.71621035278162, 40.792097518301624), (30.738823082999087, 40.79860291607337), (30.747175018694804, 40.80533377950656), (30.747363026007253, 40.805469917762096), (30.747564058842183, 40.80558596160483), (30.747775977603993, 40.80568067597832), (30.747996526838005, 40.80575305283603), (30.764447610214805, 40.810226206326156), (30.773800770797507, 40.814665698376835), (30.774051881482734, 40.814766860196016), (30.774313324307084, 40.81483713066985), (30.79022585045604, 40.818102160684624), (30.79053449063101, 40.8181434922337), (30.80124329748096, 40.81882838192597), (30.810599265020546, 40.82430993616578), (30.810814120682277, 40.82442076467049), (30.81103962709436, 40.824507901178016), (30.811273180819416, 40.82457033971056), (30.84426805023462, 40.83151616122415), (30.844473874082947, 40.83154961507057), (30.84468191109858, 40.83156387047329), (30.84489037442213, 40.83155880499065), (30.864393604119574, 40.83017860887095), (30.909213744216284, 40.83534702403796), (30.95187689837367, 40.85482825903946), (30.9520970780667, 40.85491511346867), (30.95232516357764, 40.85497835735216), (30.968203125880756, 40.858493379118805), (30.96842205657473, 40.858530620634085), (30.968643592152784, 40.85854609858229), (30.968865574476336, 40.858539662181514), (31.045040700105854, 40.85255855234755), (31.156698202147123, 40.84991912225622), (31.156915265721985, 40.849903463398206), (31.157129801134545, 40.84986690724791), (31.167603463340864, 40.84755604625415), (31.167833872759978, 40.84749220099105), (31.168056206522625, 40.84740426683372), (31.1682679540863, 40.847293236714755), (31.168466724445455, 40.84716036436113), (31.168650273130204, 40.847007150137365), (31.168816527550362, 40.846835324103786), (31.17945373152195, 40.83460302168134), (31.266662282325683, 40.78813893421804), (31.3161\n",
      "2024-02-24 11:41:29,140 - 0 results returned.\n",
      "2024-02-24 11:41:29,148 - Searching catalog with search_parameters: {'datetime': '2023-05-01T00:00:00Z/2023-09-30T23:59:59Z', 'intersects': {'type': 'Polygon', 'coordinates': (((30.561470275866256, 40.7576736463021), (30.71621035278162, 40.792097518301624), (30.738823082999087, 40.79860291607337), (30.747175018694804, 40.80533377950656), (30.747363026007253, 40.805469917762096), (30.747564058842183, 40.80558596160483), (30.747775977603993, 40.80568067597832), (30.747996526838005, 40.80575305283603), (30.764447610214805, 40.810226206326156), (30.773800770797507, 40.814665698376835), (30.774051881482734, 40.814766860196016), (30.774313324307084, 40.81483713066985), (30.79022585045604, 40.818102160684624), (30.79053449063101, 40.8181434922337), (30.80124329748096, 40.81882838192597), (30.810599265020546, 40.82430993616578), (30.810814120682277, 40.82442076467049), (30.81103962709436, 40.824507901178016), (30.811273180819416, 40.82457033971056), (30.84426805023462, 40.83151616122415), (30.844473874082947, 40.83154961507057), (30.84468191109858, 40.83156387047329), (30.84489037442213, 40.83155880499065), (30.864393604119574, 40.83017860887095), (30.909213744216284, 40.83534702403796), (30.95187689837367, 40.85482825903946), (30.9520970780667, 40.85491511346867), (30.95232516357764, 40.85497835735216), (30.968203125880756, 40.858493379118805), (30.96842205657473, 40.858530620634085), (30.968643592152784, 40.85854609858229), (30.968865574476336, 40.858539662181514), (31.045040700105854, 40.85255855234755), (31.156698202147123, 40.84991912225622), (31.156915265721985, 40.849903463398206), (31.157129801134545, 40.84986690724791), (31.167603463340864, 40.84755604625415), (31.167833872759978, 40.84749220099105), (31.168056206522625, 40.84740426683372), (31.1682679540863, 40.847293236714755), (31.168466724445455, 40.84716036436113), (31.168650273130204, 40.847007150137365), (31.168816527550362, 40.846835324103786), (31.17945373152195, 40.83460302168134), (31.266662282325683, 40.78813893421804), (31.3161\n",
      "2024-02-24 11:41:29,908 - 2 results returned.\n",
      "2024-02-24 11:41:29,916 - Searching catalog with search_parameters: {'datetime': '2023-05-01T00:00:00Z/2023-09-30T23:59:59Z', 'intersects': {'type': 'Polygon', 'coordinates': (((30.561470275866256, 40.7576736463021), (30.71621035278162, 40.792097518301624), (30.738823082999087, 40.79860291607337), (30.747175018694804, 40.80533377950656), (30.747363026007253, 40.805469917762096), (30.747564058842183, 40.80558596160483), (30.747775977603993, 40.80568067597832), (30.747996526838005, 40.80575305283603), (30.764447610214805, 40.810226206326156), (30.773800770797507, 40.814665698376835), (30.774051881482734, 40.814766860196016), (30.774313324307084, 40.81483713066985), (30.79022585045604, 40.818102160684624), (30.79053449063101, 40.8181434922337), (30.80124329748096, 40.81882838192597), (30.810599265020546, 40.82430993616578), (30.810814120682277, 40.82442076467049), (30.81103962709436, 40.824507901178016), (30.811273180819416, 40.82457033971056), (30.84426805023462, 40.83151616122415), (30.844473874082947, 40.83154961507057), (30.84468191109858, 40.83156387047329), (30.84489037442213, 40.83155880499065), (30.864393604119574, 40.83017860887095), (30.909213744216284, 40.83534702403796), (30.95187689837367, 40.85482825903946), (30.9520970780667, 40.85491511346867), (30.95232516357764, 40.85497835735216), (30.968203125880756, 40.858493379118805), (30.96842205657473, 40.858530620634085), (30.968643592152784, 40.85854609858229), (30.968865574476336, 40.858539662181514), (31.045040700105854, 40.85255855234755), (31.156698202147123, 40.84991912225622), (31.156915265721985, 40.849903463398206), (31.157129801134545, 40.84986690724791), (31.167603463340864, 40.84755604625415), (31.167833872759978, 40.84749220099105), (31.168056206522625, 40.84740426683372), (31.1682679540863, 40.847293236714755), (31.168466724445455, 40.84716036436113), (31.168650273130204, 40.847007150137365), (31.168816527550362, 40.846835324103786), (31.17945373152195, 40.83460302168134), (31.266662282325683, 40.78813893421804), (31.3161\n",
      "2024-02-24 11:41:30,331 - 0 results returned.\n",
      "2024-02-24 11:41:30,333 - Searching catalog with search_parameters: {'datetime': '2023-05-01T00:00:00Z/2023-09-30T23:59:59Z', 'intersects': {'type': 'Polygon', 'coordinates': (((30.561470275866256, 40.7576736463021), (30.71621035278162, 40.792097518301624), (30.738823082999087, 40.79860291607337), (30.747175018694804, 40.80533377950656), (30.747363026007253, 40.805469917762096), (30.747564058842183, 40.80558596160483), (30.747775977603993, 40.80568067597832), (30.747996526838005, 40.80575305283603), (30.764447610214805, 40.810226206326156), (30.773800770797507, 40.814665698376835), (30.774051881482734, 40.814766860196016), (30.774313324307084, 40.81483713066985), (30.79022585045604, 40.818102160684624), (30.79053449063101, 40.8181434922337), (30.80124329748096, 40.81882838192597), (30.810599265020546, 40.82430993616578), (30.810814120682277, 40.82442076467049), (30.81103962709436, 40.824507901178016), (30.811273180819416, 40.82457033971056), (30.84426805023462, 40.83151616122415), (30.844473874082947, 40.83154961507057), (30.84468191109858, 40.83156387047329), (30.84489037442213, 40.83155880499065), (30.864393604119574, 40.83017860887095), (30.909213744216284, 40.83534702403796), (30.95187689837367, 40.85482825903946), (30.9520970780667, 40.85491511346867), (30.95232516357764, 40.85497835735216), (30.968203125880756, 40.858493379118805), (30.96842205657473, 40.858530620634085), (30.968643592152784, 40.85854609858229), (30.968865574476336, 40.858539662181514), (31.045040700105854, 40.85255855234755), (31.156698202147123, 40.84991912225622), (31.156915265721985, 40.849903463398206), (31.157129801134545, 40.84986690724791), (31.167603463340864, 40.84755604625415), (31.167833872759978, 40.84749220099105), (31.168056206522625, 40.84740426683372), (31.1682679540863, 40.847293236714755), (31.168466724445455, 40.84716036436113), (31.168650273130204, 40.847007150137365), (31.168816527550362, 40.846835324103786), (31.17945373152195, 40.83460302168134), (31.266662282325683, 40.78813893421804), (31.3161\n",
      "2024-02-24 11:41:30,700 - 0 results returned.\n",
      "2024-02-24 11:41:30,700 - Searching catalog with search_parameters: {'datetime': '2023-05-01T00:00:00Z/2023-09-30T23:59:59Z', 'intersects': {'type': 'Polygon', 'coordinates': (((30.561470275866256, 40.7576736463021), (30.71621035278162, 40.792097518301624), (30.738823082999087, 40.79860291607337), (30.747175018694804, 40.80533377950656), (30.747363026007253, 40.805469917762096), (30.747564058842183, 40.80558596160483), (30.747775977603993, 40.80568067597832), (30.747996526838005, 40.80575305283603), (30.764447610214805, 40.810226206326156), (30.773800770797507, 40.814665698376835), (30.774051881482734, 40.814766860196016), (30.774313324307084, 40.81483713066985), (30.79022585045604, 40.818102160684624), (30.79053449063101, 40.8181434922337), (30.80124329748096, 40.81882838192597), (30.810599265020546, 40.82430993616578), (30.810814120682277, 40.82442076467049), (30.81103962709436, 40.824507901178016), (30.811273180819416, 40.82457033971056), (30.84426805023462, 40.83151616122415), (30.844473874082947, 40.83154961507057), (30.84468191109858, 40.83156387047329), (30.84489037442213, 40.83155880499065), (30.864393604119574, 40.83017860887095), (30.909213744216284, 40.83534702403796), (30.95187689837367, 40.85482825903946), (30.9520970780667, 40.85491511346867), (30.95232516357764, 40.85497835735216), (30.968203125880756, 40.858493379118805), (30.96842205657473, 40.858530620634085), (30.968643592152784, 40.85854609858229), (30.968865574476336, 40.858539662181514), (31.045040700105854, 40.85255855234755), (31.156698202147123, 40.84991912225622), (31.156915265721985, 40.849903463398206), (31.157129801134545, 40.84986690724791), (31.167603463340864, 40.84755604625415), (31.167833872759978, 40.84749220099105), (31.168056206522625, 40.84740426683372), (31.1682679540863, 40.847293236714755), (31.168466724445455, 40.84716036436113), (31.168650273130204, 40.847007150137365), (31.168816527550362, 40.846835324103786), (31.17945373152195, 40.83460302168134), (31.266662282325683, 40.78813893421804), (31.3161\n",
      "2024-02-24 11:41:31,141 - 0 results returned.\n",
      "2024-02-24 11:41:31,141 - Searching catalog with search_parameters: {'datetime': '2023-05-01T00:00:00Z/2023-09-30T23:59:59Z', 'intersects': {'type': 'Polygon', 'coordinates': (((30.561470275866256, 40.7576736463021), (30.71621035278162, 40.792097518301624), (30.738823082999087, 40.79860291607337), (30.747175018694804, 40.80533377950656), (30.747363026007253, 40.805469917762096), (30.747564058842183, 40.80558596160483), (30.747775977603993, 40.80568067597832), (30.747996526838005, 40.80575305283603), (30.764447610214805, 40.810226206326156), (30.773800770797507, 40.814665698376835), (30.774051881482734, 40.814766860196016), (30.774313324307084, 40.81483713066985), (30.79022585045604, 40.818102160684624), (30.79053449063101, 40.8181434922337), (30.80124329748096, 40.81882838192597), (30.810599265020546, 40.82430993616578), (30.810814120682277, 40.82442076467049), (30.81103962709436, 40.824507901178016), (30.811273180819416, 40.82457033971056), (30.84426805023462, 40.83151616122415), (30.844473874082947, 40.83154961507057), (30.84468191109858, 40.83156387047329), (30.84489037442213, 40.83155880499065), (30.864393604119574, 40.83017860887095), (30.909213744216284, 40.83534702403796), (30.95187689837367, 40.85482825903946), (30.9520970780667, 40.85491511346867), (30.95232516357764, 40.85497835735216), (30.968203125880756, 40.858493379118805), (30.96842205657473, 40.858530620634085), (30.968643592152784, 40.85854609858229), (30.968865574476336, 40.858539662181514), (31.045040700105854, 40.85255855234755), (31.156698202147123, 40.84991912225622), (31.156915265721985, 40.849903463398206), (31.157129801134545, 40.84986690724791), (31.167603463340864, 40.84755604625415), (31.167833872759978, 40.84749220099105), (31.168056206522625, 40.84740426683372), (31.1682679540863, 40.847293236714755), (31.168466724445455, 40.84716036436113), (31.168650273130204, 40.847007150137365), (31.168816527550362, 40.846835324103786), (31.17945373152195, 40.83460302168134), (31.266662282325683, 40.78813893421804), (31.3161\n",
      "2024-02-24 11:41:31,554 - 0 results returned.\n",
      "2024-02-24 11:41:31,556 - Searching catalog with search_parameters: {'datetime': '2023-05-01T00:00:00Z/2023-09-30T23:59:59Z', 'intersects': {'type': 'Polygon', 'coordinates': (((30.561470275866256, 40.7576736463021), (30.71621035278162, 40.792097518301624), (30.738823082999087, 40.79860291607337), (30.747175018694804, 40.80533377950656), (30.747363026007253, 40.805469917762096), (30.747564058842183, 40.80558596160483), (30.747775977603993, 40.80568067597832), (30.747996526838005, 40.80575305283603), (30.764447610214805, 40.810226206326156), (30.773800770797507, 40.814665698376835), (30.774051881482734, 40.814766860196016), (30.774313324307084, 40.81483713066985), (30.79022585045604, 40.818102160684624), (30.79053449063101, 40.8181434922337), (30.80124329748096, 40.81882838192597), (30.810599265020546, 40.82430993616578), (30.810814120682277, 40.82442076467049), (30.81103962709436, 40.824507901178016), (30.811273180819416, 40.82457033971056), (30.84426805023462, 40.83151616122415), (30.844473874082947, 40.83154961507057), (30.84468191109858, 40.83156387047329), (30.84489037442213, 40.83155880499065), (30.864393604119574, 40.83017860887095), (30.909213744216284, 40.83534702403796), (30.95187689837367, 40.85482825903946), (30.9520970780667, 40.85491511346867), (30.95232516357764, 40.85497835735216), (30.968203125880756, 40.858493379118805), (30.96842205657473, 40.858530620634085), (30.968643592152784, 40.85854609858229), (30.968865574476336, 40.858539662181514), (31.045040700105854, 40.85255855234755), (31.156698202147123, 40.84991912225622), (31.156915265721985, 40.849903463398206), (31.157129801134545, 40.84986690724791), (31.167603463340864, 40.84755604625415), (31.167833872759978, 40.84749220099105), (31.168056206522625, 40.84740426683372), (31.1682679540863, 40.847293236714755), (31.168466724445455, 40.84716036436113), (31.168650273130204, 40.847007150137365), (31.168816527550362, 40.846835324103786), (31.17945373152195, 40.83460302168134), (31.266662282325683, 40.78813893421804), (31.3161\n",
      "2024-02-24 11:41:31,968 - 0 results returned.\n",
      "2024-02-24 11:41:31,970 - Searching catalog with search_parameters: {'datetime': '2023-05-01T00:00:00Z/2023-09-30T23:59:59Z', 'intersects': {'type': 'Polygon', 'coordinates': (((30.561470275866256, 40.7576736463021), (30.71621035278162, 40.792097518301624), (30.738823082999087, 40.79860291607337), (30.747175018694804, 40.80533377950656), (30.747363026007253, 40.805469917762096), (30.747564058842183, 40.80558596160483), (30.747775977603993, 40.80568067597832), (30.747996526838005, 40.80575305283603), (30.764447610214805, 40.810226206326156), (30.773800770797507, 40.814665698376835), (30.774051881482734, 40.814766860196016), (30.774313324307084, 40.81483713066985), (30.79022585045604, 40.818102160684624), (30.79053449063101, 40.8181434922337), (30.80124329748096, 40.81882838192597), (30.810599265020546, 40.82430993616578), (30.810814120682277, 40.82442076467049), (30.81103962709436, 40.824507901178016), (30.811273180819416, 40.82457033971056), (30.84426805023462, 40.83151616122415), (30.844473874082947, 40.83154961507057), (30.84468191109858, 40.83156387047329), (30.84489037442213, 40.83155880499065), (30.864393604119574, 40.83017860887095), (30.909213744216284, 40.83534702403796), (30.95187689837367, 40.85482825903946), (30.9520970780667, 40.85491511346867), (30.95232516357764, 40.85497835735216), (30.968203125880756, 40.858493379118805), (30.96842205657473, 40.858530620634085), (30.968643592152784, 40.85854609858229), (30.968865574476336, 40.858539662181514), (31.045040700105854, 40.85255855234755), (31.156698202147123, 40.84991912225622), (31.156915265721985, 40.849903463398206), (31.157129801134545, 40.84986690724791), (31.167603463340864, 40.84755604625415), (31.167833872759978, 40.84749220099105), (31.168056206522625, 40.84740426683372), (31.1682679540863, 40.847293236714755), (31.168466724445455, 40.84716036436113), (31.168650273130204, 40.847007150137365), (31.168816527550362, 40.846835324103786), (31.17945373152195, 40.83460302168134), (31.266662282325683, 40.78813893421804), (31.3161\n",
      "2024-02-24 11:41:32,434 - 0 results returned.\n",
      "2024-02-24 11:41:32,434 - Searching catalog with search_parameters: {'datetime': '2023-05-01T00:00:00Z/2023-09-30T23:59:59Z', 'intersects': {'type': 'Polygon', 'coordinates': (((30.561470275866256, 40.7576736463021), (30.71621035278162, 40.792097518301624), (30.738823082999087, 40.79860291607337), (30.747175018694804, 40.80533377950656), (30.747363026007253, 40.805469917762096), (30.747564058842183, 40.80558596160483), (30.747775977603993, 40.80568067597832), (30.747996526838005, 40.80575305283603), (30.764447610214805, 40.810226206326156), (30.773800770797507, 40.814665698376835), (30.774051881482734, 40.814766860196016), (30.774313324307084, 40.81483713066985), (30.79022585045604, 40.818102160684624), (30.79053449063101, 40.8181434922337), (30.80124329748096, 40.81882838192597), (30.810599265020546, 40.82430993616578), (30.810814120682277, 40.82442076467049), (30.81103962709436, 40.824507901178016), (30.811273180819416, 40.82457033971056), (30.84426805023462, 40.83151616122415), (30.844473874082947, 40.83154961507057), (30.84468191109858, 40.83156387047329), (30.84489037442213, 40.83155880499065), (30.864393604119574, 40.83017860887095), (30.909213744216284, 40.83534702403796), (30.95187689837367, 40.85482825903946), (30.9520970780667, 40.85491511346867), (30.95232516357764, 40.85497835735216), (30.968203125880756, 40.858493379118805), (30.96842205657473, 40.858530620634085), (30.968643592152784, 40.85854609858229), (30.968865574476336, 40.858539662181514), (31.045040700105854, 40.85255855234755), (31.156698202147123, 40.84991912225622), (31.156915265721985, 40.849903463398206), (31.157129801134545, 40.84986690724791), (31.167603463340864, 40.84755604625415), (31.167833872759978, 40.84749220099105), (31.168056206522625, 40.84740426683372), (31.1682679540863, 40.847293236714755), (31.168466724445455, 40.84716036436113), (31.168650273130204, 40.847007150137365), (31.168816527550362, 40.846835324103786), (31.17945373152195, 40.83460302168134), (31.266662282325683, 40.78813893421804), (31.3161\n",
      "2024-02-24 11:41:32,838 - 0 results returned.\n",
      "2024-02-24 11:41:32,854 - Searching catalog with search_parameters: {'datetime': '2023-05-01T00:00:00Z/2023-09-30T23:59:59Z', 'intersects': {'type': 'Polygon', 'coordinates': (((30.561470275866256, 40.7576736463021), (30.71621035278162, 40.792097518301624), (30.738823082999087, 40.79860291607337), (30.747175018694804, 40.80533377950656), (30.747363026007253, 40.805469917762096), (30.747564058842183, 40.80558596160483), (30.747775977603993, 40.80568067597832), (30.747996526838005, 40.80575305283603), (30.764447610214805, 40.810226206326156), (30.773800770797507, 40.814665698376835), (30.774051881482734, 40.814766860196016), (30.774313324307084, 40.81483713066985), (30.79022585045604, 40.818102160684624), (30.79053449063101, 40.8181434922337), (30.80124329748096, 40.81882838192597), (30.810599265020546, 40.82430993616578), (30.810814120682277, 40.82442076467049), (30.81103962709436, 40.824507901178016), (30.811273180819416, 40.82457033971056), (30.84426805023462, 40.83151616122415), (30.844473874082947, 40.83154961507057), (30.84468191109858, 40.83156387047329), (30.84489037442213, 40.83155880499065), (30.864393604119574, 40.83017860887095), (30.909213744216284, 40.83534702403796), (30.95187689837367, 40.85482825903946), (30.9520970780667, 40.85491511346867), (30.95232516357764, 40.85497835735216), (30.968203125880756, 40.858493379118805), (30.96842205657473, 40.858530620634085), (30.968643592152784, 40.85854609858229), (30.968865574476336, 40.858539662181514), (31.045040700105854, 40.85255855234755), (31.156698202147123, 40.84991912225622), (31.156915265721985, 40.849903463398206), (31.157129801134545, 40.84986690724791), (31.167603463340864, 40.84755604625415), (31.167833872759978, 40.84749220099105), (31.168056206522625, 40.84740426683372), (31.1682679540863, 40.847293236714755), (31.168466724445455, 40.84716036436113), (31.168650273130204, 40.847007150137365), (31.168816527550362, 40.846835324103786), (31.17945373152195, 40.83460302168134), (31.266662282325683, 40.78813893421804), (31.3161\n",
      "2024-02-24 11:41:33,267 - 0 results returned.\n",
      "2024-02-24 11:41:33,277 - Searching catalog with search_parameters: {'datetime': '2023-05-01T00:00:00Z/2023-09-30T23:59:59Z', 'intersects': {'type': 'Polygon', 'coordinates': (((30.561470275866256, 40.7576736463021), (30.71621035278162, 40.792097518301624), (30.738823082999087, 40.79860291607337), (30.747175018694804, 40.80533377950656), (30.747363026007253, 40.805469917762096), (30.747564058842183, 40.80558596160483), (30.747775977603993, 40.80568067597832), (30.747996526838005, 40.80575305283603), (30.764447610214805, 40.810226206326156), (30.773800770797507, 40.814665698376835), (30.774051881482734, 40.814766860196016), (30.774313324307084, 40.81483713066985), (30.79022585045604, 40.818102160684624), (30.79053449063101, 40.8181434922337), (30.80124329748096, 40.81882838192597), (30.810599265020546, 40.82430993616578), (30.810814120682277, 40.82442076467049), (30.81103962709436, 40.824507901178016), (30.811273180819416, 40.82457033971056), (30.84426805023462, 40.83151616122415), (30.844473874082947, 40.83154961507057), (30.84468191109858, 40.83156387047329), (30.84489037442213, 40.83155880499065), (30.864393604119574, 40.83017860887095), (30.909213744216284, 40.83534702403796), (30.95187689837367, 40.85482825903946), (30.9520970780667, 40.85491511346867), (30.95232516357764, 40.85497835735216), (30.968203125880756, 40.858493379118805), (30.96842205657473, 40.858530620634085), (30.968643592152784, 40.85854609858229), (30.968865574476336, 40.858539662181514), (31.045040700105854, 40.85255855234755), (31.156698202147123, 40.84991912225622), (31.156915265721985, 40.849903463398206), (31.157129801134545, 40.84986690724791), (31.167603463340864, 40.84755604625415), (31.167833872759978, 40.84749220099105), (31.168056206522625, 40.84740426683372), (31.1682679540863, 40.847293236714755), (31.168466724445455, 40.84716036436113), (31.168650273130204, 40.847007150137365), (31.168816527550362, 40.846835324103786), (31.17945373152195, 40.83460302168134), (31.266662282325683, 40.78813893421804), (31.3161\n",
      "2024-02-24 11:41:33,684 - 0 results returned.\n",
      "2024-02-24 11:41:33,687 - Searching catalog with search_parameters: {'datetime': '2023-05-01T00:00:00Z/2023-09-30T23:59:59Z', 'intersects': {'type': 'Polygon', 'coordinates': (((30.561470275866256, 40.7576736463021), (30.71621035278162, 40.792097518301624), (30.738823082999087, 40.79860291607337), (30.747175018694804, 40.80533377950656), (30.747363026007253, 40.805469917762096), (30.747564058842183, 40.80558596160483), (30.747775977603993, 40.80568067597832), (30.747996526838005, 40.80575305283603), (30.764447610214805, 40.810226206326156), (30.773800770797507, 40.814665698376835), (30.774051881482734, 40.814766860196016), (30.774313324307084, 40.81483713066985), (30.79022585045604, 40.818102160684624), (30.79053449063101, 40.8181434922337), (30.80124329748096, 40.81882838192597), (30.810599265020546, 40.82430993616578), (30.810814120682277, 40.82442076467049), (30.81103962709436, 40.824507901178016), (30.811273180819416, 40.82457033971056), (30.84426805023462, 40.83151616122415), (30.844473874082947, 40.83154961507057), (30.84468191109858, 40.83156387047329), (30.84489037442213, 40.83155880499065), (30.864393604119574, 40.83017860887095), (30.909213744216284, 40.83534702403796), (30.95187689837367, 40.85482825903946), (30.9520970780667, 40.85491511346867), (30.95232516357764, 40.85497835735216), (30.968203125880756, 40.858493379118805), (30.96842205657473, 40.858530620634085), (30.968643592152784, 40.85854609858229), (30.968865574476336, 40.858539662181514), (31.045040700105854, 40.85255855234755), (31.156698202147123, 40.84991912225622), (31.156915265721985, 40.849903463398206), (31.157129801134545, 40.84986690724791), (31.167603463340864, 40.84755604625415), (31.167833872759978, 40.84749220099105), (31.168056206522625, 40.84740426683372), (31.1682679540863, 40.847293236714755), (31.168466724445455, 40.84716036436113), (31.168650273130204, 40.847007150137365), (31.168816527550362, 40.846835324103786), (31.17945373152195, 40.83460302168134), (31.266662282325683, 40.78813893421804), (31.3161\n",
      "2024-02-24 11:41:34,055 - 0 results returned.\n",
      "2024-02-24 11:41:34,055 - Searching catalog with search_parameters: {'datetime': '2023-05-01T00:00:00Z/2023-09-30T23:59:59Z', 'intersects': {'type': 'Polygon', 'coordinates': (((30.561470275866256, 40.7576736463021), (30.71621035278162, 40.792097518301624), (30.738823082999087, 40.79860291607337), (30.747175018694804, 40.80533377950656), (30.747363026007253, 40.805469917762096), (30.747564058842183, 40.80558596160483), (30.747775977603993, 40.80568067597832), (30.747996526838005, 40.80575305283603), (30.764447610214805, 40.810226206326156), (30.773800770797507, 40.814665698376835), (30.774051881482734, 40.814766860196016), (30.774313324307084, 40.81483713066985), (30.79022585045604, 40.818102160684624), (30.79053449063101, 40.8181434922337), (30.80124329748096, 40.81882838192597), (30.810599265020546, 40.82430993616578), (30.810814120682277, 40.82442076467049), (30.81103962709436, 40.824507901178016), (30.811273180819416, 40.82457033971056), (30.84426805023462, 40.83151616122415), (30.844473874082947, 40.83154961507057), (30.84468191109858, 40.83156387047329), (30.84489037442213, 40.83155880499065), (30.864393604119574, 40.83017860887095), (30.909213744216284, 40.83534702403796), (30.95187689837367, 40.85482825903946), (30.9520970780667, 40.85491511346867), (30.95232516357764, 40.85497835735216), (30.968203125880756, 40.858493379118805), (30.96842205657473, 40.858530620634085), (30.968643592152784, 40.85854609858229), (30.968865574476336, 40.858539662181514), (31.045040700105854, 40.85255855234755), (31.156698202147123, 40.84991912225622), (31.156915265721985, 40.849903463398206), (31.157129801134545, 40.84986690724791), (31.167603463340864, 40.84755604625415), (31.167833872759978, 40.84749220099105), (31.168056206522625, 40.84740426683372), (31.1682679540863, 40.847293236714755), (31.168466724445455, 40.84716036436113), (31.168650273130204, 40.847007150137365), (31.168816527550362, 40.846835324103786), (31.17945373152195, 40.83460302168134), (31.266662282325683, 40.78813893421804), (31.3161\n",
      "2024-02-24 11:41:34,456 - 0 results returned.\n",
      "2024-02-24 11:41:34,470 - Searching catalog with search_parameters: {'datetime': '2023-05-01T00:00:00Z/2023-09-30T23:59:59Z', 'intersects': {'type': 'Polygon', 'coordinates': (((30.561470275866256, 40.7576736463021), (30.71621035278162, 40.792097518301624), (30.738823082999087, 40.79860291607337), (30.747175018694804, 40.80533377950656), (30.747363026007253, 40.805469917762096), (30.747564058842183, 40.80558596160483), (30.747775977603993, 40.80568067597832), (30.747996526838005, 40.80575305283603), (30.764447610214805, 40.810226206326156), (30.773800770797507, 40.814665698376835), (30.774051881482734, 40.814766860196016), (30.774313324307084, 40.81483713066985), (30.79022585045604, 40.818102160684624), (30.79053449063101, 40.8181434922337), (30.80124329748096, 40.81882838192597), (30.810599265020546, 40.82430993616578), (30.810814120682277, 40.82442076467049), (30.81103962709436, 40.824507901178016), (30.811273180819416, 40.82457033971056), (30.84426805023462, 40.83151616122415), (30.844473874082947, 40.83154961507057), (30.84468191109858, 40.83156387047329), (30.84489037442213, 40.83155880499065), (30.864393604119574, 40.83017860887095), (30.909213744216284, 40.83534702403796), (30.95187689837367, 40.85482825903946), (30.9520970780667, 40.85491511346867), (30.95232516357764, 40.85497835735216), (30.968203125880756, 40.858493379118805), (30.96842205657473, 40.858530620634085), (30.968643592152784, 40.85854609858229), (30.968865574476336, 40.858539662181514), (31.045040700105854, 40.85255855234755), (31.156698202147123, 40.84991912225622), (31.156915265721985, 40.849903463398206), (31.157129801134545, 40.84986690724791), (31.167603463340864, 40.84755604625415), (31.167833872759978, 40.84749220099105), (31.168056206522625, 40.84740426683372), (31.1682679540863, 40.847293236714755), (31.168466724445455, 40.84716036436113), (31.168650273130204, 40.847007150137365), (31.168816527550362, 40.846835324103786), (31.17945373152195, 40.83460302168134), (31.266662282325683, 40.78813893421804), (31.3161\n",
      "2024-02-24 11:41:34,800 - 0 results returned.\n",
      "2024-02-24 11:41:34,820 - Searching catalog with search_parameters: {'datetime': '2023-05-01T00:00:00Z/2023-09-30T23:59:59Z', 'intersects': {'type': 'Polygon', 'coordinates': (((30.561470275866256, 40.7576736463021), (30.71621035278162, 40.792097518301624), (30.738823082999087, 40.79860291607337), (30.747175018694804, 40.80533377950656), (30.747363026007253, 40.805469917762096), (30.747564058842183, 40.80558596160483), (30.747775977603993, 40.80568067597832), (30.747996526838005, 40.80575305283603), (30.764447610214805, 40.810226206326156), (30.773800770797507, 40.814665698376835), (30.774051881482734, 40.814766860196016), (30.774313324307084, 40.81483713066985), (30.79022585045604, 40.818102160684624), (30.79053449063101, 40.8181434922337), (30.80124329748096, 40.81882838192597), (30.810599265020546, 40.82430993616578), (30.810814120682277, 40.82442076467049), (30.81103962709436, 40.824507901178016), (30.811273180819416, 40.82457033971056), (30.84426805023462, 40.83151616122415), (30.844473874082947, 40.83154961507057), (30.84468191109858, 40.83156387047329), (30.84489037442213, 40.83155880499065), (30.864393604119574, 40.83017860887095), (30.909213744216284, 40.83534702403796), (30.95187689837367, 40.85482825903946), (30.9520970780667, 40.85491511346867), (30.95232516357764, 40.85497835735216), (30.968203125880756, 40.858493379118805), (30.96842205657473, 40.858530620634085), (30.968643592152784, 40.85854609858229), (30.968865574476336, 40.858539662181514), (31.045040700105854, 40.85255855234755), (31.156698202147123, 40.84991912225622), (31.156915265721985, 40.849903463398206), (31.157129801134545, 40.84986690724791), (31.167603463340864, 40.84755604625415), (31.167833872759978, 40.84749220099105), (31.168056206522625, 40.84740426683372), (31.1682679540863, 40.847293236714755), (31.168466724445455, 40.84716036436113), (31.168650273130204, 40.847007150137365), (31.168816527550362, 40.846835324103786), (31.17945373152195, 40.83460302168134), (31.266662282325683, 40.78813893421804), (31.3161\n",
      "2024-02-24 11:41:36,536 - 0 results returned.\n",
      "2024-02-24 11:41:36,550 - Searching catalog with search_parameters: {'datetime': '2023-05-01T00:00:00Z/2023-09-30T23:59:59Z', 'intersects': {'type': 'Polygon', 'coordinates': (((30.561470275866256, 40.7576736463021), (30.71621035278162, 40.792097518301624), (30.738823082999087, 40.79860291607337), (30.747175018694804, 40.80533377950656), (30.747363026007253, 40.805469917762096), (30.747564058842183, 40.80558596160483), (30.747775977603993, 40.80568067597832), (30.747996526838005, 40.80575305283603), (30.764447610214805, 40.810226206326156), (30.773800770797507, 40.814665698376835), (30.774051881482734, 40.814766860196016), (30.774313324307084, 40.81483713066985), (30.79022585045604, 40.818102160684624), (30.79053449063101, 40.8181434922337), (30.80124329748096, 40.81882838192597), (30.810599265020546, 40.82430993616578), (30.810814120682277, 40.82442076467049), (30.81103962709436, 40.824507901178016), (30.811273180819416, 40.82457033971056), (30.84426805023462, 40.83151616122415), (30.844473874082947, 40.83154961507057), (30.84468191109858, 40.83156387047329), (30.84489037442213, 40.83155880499065), (30.864393604119574, 40.83017860887095), (30.909213744216284, 40.83534702403796), (30.95187689837367, 40.85482825903946), (30.9520970780667, 40.85491511346867), (30.95232516357764, 40.85497835735216), (30.968203125880756, 40.858493379118805), (30.96842205657473, 40.858530620634085), (30.968643592152784, 40.85854609858229), (30.968865574476336, 40.858539662181514), (31.045040700105854, 40.85255855234755), (31.156698202147123, 40.84991912225622), (31.156915265721985, 40.849903463398206), (31.157129801134545, 40.84986690724791), (31.167603463340864, 40.84755604625415), (31.167833872759978, 40.84749220099105), (31.168056206522625, 40.84740426683372), (31.1682679540863, 40.847293236714755), (31.168466724445455, 40.84716036436113), (31.168650273130204, 40.847007150137365), (31.168816527550362, 40.846835324103786), (31.17945373152195, 40.83460302168134), (31.266662282325683, 40.78813893421804), (31.3161\n",
      "2024-02-24 11:41:36,905 - 0 results returned.\n",
      "2024-02-24 11:41:36,920 - Searching catalog with search_parameters: {'datetime': '2023-05-01T00:00:00Z/2023-09-30T23:59:59Z', 'intersects': {'type': 'Polygon', 'coordinates': (((30.561470275866256, 40.7576736463021), (30.71621035278162, 40.792097518301624), (30.738823082999087, 40.79860291607337), (30.747175018694804, 40.80533377950656), (30.747363026007253, 40.805469917762096), (30.747564058842183, 40.80558596160483), (30.747775977603993, 40.80568067597832), (30.747996526838005, 40.80575305283603), (30.764447610214805, 40.810226206326156), (30.773800770797507, 40.814665698376835), (30.774051881482734, 40.814766860196016), (30.774313324307084, 40.81483713066985), (30.79022585045604, 40.818102160684624), (30.79053449063101, 40.8181434922337), (30.80124329748096, 40.81882838192597), (30.810599265020546, 40.82430993616578), (30.810814120682277, 40.82442076467049), (30.81103962709436, 40.824507901178016), (30.811273180819416, 40.82457033971056), (30.84426805023462, 40.83151616122415), (30.844473874082947, 40.83154961507057), (30.84468191109858, 40.83156387047329), (30.84489037442213, 40.83155880499065), (30.864393604119574, 40.83017860887095), (30.909213744216284, 40.83534702403796), (30.95187689837367, 40.85482825903946), (30.9520970780667, 40.85491511346867), (30.95232516357764, 40.85497835735216), (30.968203125880756, 40.858493379118805), (30.96842205657473, 40.858530620634085), (30.968643592152784, 40.85854609858229), (30.968865574476336, 40.858539662181514), (31.045040700105854, 40.85255855234755), (31.156698202147123, 40.84991912225622), (31.156915265721985, 40.849903463398206), (31.157129801134545, 40.84986690724791), (31.167603463340864, 40.84755604625415), (31.167833872759978, 40.84749220099105), (31.168056206522625, 40.84740426683372), (31.1682679540863, 40.847293236714755), (31.168466724445455, 40.84716036436113), (31.168650273130204, 40.847007150137365), (31.168816527550362, 40.846835324103786), (31.17945373152195, 40.83460302168134), (31.266662282325683, 40.78813893421804), (31.3161\n",
      "2024-02-24 11:41:37,805 - 0 results returned.\n"
     ]
    },
    {
     "name": "stdout",
     "output_type": "stream",
     "text": [
      "Empty DataFrame\n",
      "Columns: []\n",
      "Index: []\n"
     ]
    }
   ],
   "source": [
    "results_list = []\n",
    "\n",
    "for i in catalog_names_array:\n",
    "    search_parameters = catalog.construct_search_parameters(\n",
    "        collections=[i], #name\n",
    "        geometry = aoi,\n",
    "        start_date=start_date_search,\n",
    "        end_date=end_date_search,\n",
    "        max_cloudcover=20,\n",
    "        limit=10,\n",
    "    )\n",
    "    search_results_json = catalog.search((search_parameters), as_dataframe=False)\n",
    "    log_messages = str(search_results_json).split('\\n')\n",
    "    for msg in log_messages:\n",
    "        if \"results returned.\" in msg:\n",
    "            results_count = msg.split()[0]\n",
    "            results_list.append({'Collection': i, 'Results': results_count})\n",
    "\n",
    "# Create a DataFrame from the list\n",
    "results_df = pd.DataFrame(results_list)\n",
    "print(results_df)\n"
   ]
  },
  {
   "cell_type": "code",
   "execution_count": null,
   "metadata": {},
   "outputs": [],
   "source": []
  },
  {
   "cell_type": "code",
   "execution_count": 126,
   "metadata": {},
   "outputs": [
    {
     "name": "stderr",
     "output_type": "stream",
     "text": [
      "2024-02-24 11:11:49,150 - Searching catalog with search_parameters: {'datetime': '2024-01-01T00:00:00Z/2024-12-31T23:59:59Z', 'intersects': {'type': 'Polygon', 'coordinates': (((30.561469902723548, 40.757675868297596), (30.71620979692899, 40.792099699651004), (30.73882202462908, 40.79860495285483), (30.747173606831108, 40.80533553140583), (30.747361802150873, 40.80547180579962), (30.747563036018636, 40.805587965686186), (30.747775166699206, 40.805682774774056), (30.74799593648245, 40.80575522400863), (30.764446826467374, 40.810228324914284), (30.773799805996664, 40.814667731027676), (30.774051167792575, 40.81476899400867), (30.774312872059745, 40.81483933475298), (30.7902253982087, 40.81810436476776), (30.790534347023847, 40.818145737648386), (30.80124262088376, 40.81883059325288), (30.810598127610525, 40.82431187750774), (30.81081319812792, 40.82442281684095), (30.81103893004642, 40.82451004048498), (30.8112727173252, 40.824572541456064), (30.844267586740404, 40.83151836296965), (30.84447361641258, 40.83155185026991), (30.844681861465222, 40.83156611992804), (30.844890533252094, 40.831561049379914), (30.864393554231814, 40.830180868030666), (30.9092131331501, 40.83534921848561), (30.95187596378321, 40.85483030575654), (30.952096363655937, 40.854917247040184), (30.95232467725239, 40.854980554167554), (30.968202639555507, 40.85849557593419), (30.968421789180173, 40.858532854690985), (30.968643546293805, 40.85854834811714), (30.96886575059968, 40.858541905279964), (31.045040814839332, 40.85256080026621), (31.156698255319224, 40.8499213716301), (31.156915535957662, 40.84990569711323), (31.157130285905634, 40.84986910440678), (31.16760394811196, 40.84755824341302), (31.167834587940494, 40.847494334304656), (31.168057144036904, 40.84740631221317), (31.16826910334814, 40.84729517106409), (31.168468072477655, 40.84716216583811), (31.168651804711093, 40.84700879840012), (31.16881822538567, 40.84683680054051), (31.179455156496434, 40.83460481189563), (31.266663085411, 40.788141055770396), (31.3161426\n",
      "2024-02-24 11:11:49,620 - 0 results returned.\n",
      "2024-02-24 11:11:49,622 - Searching catalog with search_parameters: {'datetime': '2024-01-01T00:00:00Z/2024-12-31T23:59:59Z', 'intersects': {'type': 'Polygon', 'coordinates': (((30.561469902723548, 40.757675868297596), (30.71620979692899, 40.792099699651004), (30.73882202462908, 40.79860495285483), (30.747173606831108, 40.80533553140583), (30.747361802150873, 40.80547180579962), (30.747563036018636, 40.805587965686186), (30.747775166699206, 40.805682774774056), (30.74799593648245, 40.80575522400863), (30.764446826467374, 40.810228324914284), (30.773799805996664, 40.814667731027676), (30.774051167792575, 40.81476899400867), (30.774312872059745, 40.81483933475298), (30.7902253982087, 40.81810436476776), (30.790534347023847, 40.818145737648386), (30.80124262088376, 40.81883059325288), (30.810598127610525, 40.82431187750774), (30.81081319812792, 40.82442281684095), (30.81103893004642, 40.82451004048498), (30.8112727173252, 40.824572541456064), (30.844267586740404, 40.83151836296965), (30.84447361641258, 40.83155185026991), (30.844681861465222, 40.83156611992804), (30.844890533252094, 40.831561049379914), (30.864393554231814, 40.830180868030666), (30.9092131331501, 40.83534921848561), (30.95187596378321, 40.85483030575654), (30.952096363655937, 40.854917247040184), (30.95232467725239, 40.854980554167554), (30.968202639555507, 40.85849557593419), (30.968421789180173, 40.858532854690985), (30.968643546293805, 40.85854834811714), (30.96886575059968, 40.858541905279964), (31.045040814839332, 40.85256080026621), (31.156698255319224, 40.8499213716301), (31.156915535957662, 40.84990569711323), (31.157130285905634, 40.84986910440678), (31.16760394811196, 40.84755824341302), (31.167834587940494, 40.847494334304656), (31.168057144036904, 40.84740631221317), (31.16826910334814, 40.84729517106409), (31.168468072477655, 40.84716216583811), (31.168651804711093, 40.84700879840012), (31.16881822538567, 40.84683680054051), (31.179455156496434, 40.83460481189563), (31.266663085411, 40.788141055770396), (31.3161426\n",
      "2024-02-24 11:11:50,245 - 0 results returned.\n",
      "2024-02-24 11:11:50,256 - Searching catalog with search_parameters: {'datetime': '2024-01-01T00:00:00Z/2024-12-31T23:59:59Z', 'intersects': {'type': 'Polygon', 'coordinates': (((30.561469902723548, 40.757675868297596), (30.71620979692899, 40.792099699651004), (30.73882202462908, 40.79860495285483), (30.747173606831108, 40.80533553140583), (30.747361802150873, 40.80547180579962), (30.747563036018636, 40.805587965686186), (30.747775166699206, 40.805682774774056), (30.74799593648245, 40.80575522400863), (30.764446826467374, 40.810228324914284), (30.773799805996664, 40.814667731027676), (30.774051167792575, 40.81476899400867), (30.774312872059745, 40.81483933475298), (30.7902253982087, 40.81810436476776), (30.790534347023847, 40.818145737648386), (30.80124262088376, 40.81883059325288), (30.810598127610525, 40.82431187750774), (30.81081319812792, 40.82442281684095), (30.81103893004642, 40.82451004048498), (30.8112727173252, 40.824572541456064), (30.844267586740404, 40.83151836296965), (30.84447361641258, 40.83155185026991), (30.844681861465222, 40.83156611992804), (30.844890533252094, 40.831561049379914), (30.864393554231814, 40.830180868030666), (30.9092131331501, 40.83534921848561), (30.95187596378321, 40.85483030575654), (30.952096363655937, 40.854917247040184), (30.95232467725239, 40.854980554167554), (30.968202639555507, 40.85849557593419), (30.968421789180173, 40.858532854690985), (30.968643546293805, 40.85854834811714), (30.96886575059968, 40.858541905279964), (31.045040814839332, 40.85256080026621), (31.156698255319224, 40.8499213716301), (31.156915535957662, 40.84990569711323), (31.157130285905634, 40.84986910440678), (31.16760394811196, 40.84755824341302), (31.167834587940494, 40.847494334304656), (31.168057144036904, 40.84740631221317), (31.16826910334814, 40.84729517106409), (31.168468072477655, 40.84716216583811), (31.168651804711093, 40.84700879840012), (31.16881822538567, 40.84683680054051), (31.179455156496434, 40.83460481189563), (31.266663085411, 40.788141055770396), (31.3161426\n"
     ]
    },
    {
     "name": "stdout",
     "output_type": "stream",
     "text": [
      "Search results for collection 'pneo':\n",
      "Search results in JSON format: {'type': 'FeatureCollection', 'features': [], 'bbox': (nan, nan, nan, nan)}\n",
      "Search results in DataFrame format:\n",
      "Empty GeoDataFrame\n",
      "Columns: [geometry]\n",
      "Index: []\n"
     ]
    },
    {
     "name": "stderr",
     "output_type": "stream",
     "text": [
      "2024-02-24 11:11:50,673 - 0 results returned.\n",
      "2024-02-24 11:11:50,673 - Searching catalog with search_parameters: {'datetime': '2024-01-01T00:00:00Z/2024-12-31T23:59:59Z', 'intersects': {'type': 'Polygon', 'coordinates': (((30.561469902723548, 40.757675868297596), (30.71620979692899, 40.792099699651004), (30.73882202462908, 40.79860495285483), (30.747173606831108, 40.80533553140583), (30.747361802150873, 40.80547180579962), (30.747563036018636, 40.805587965686186), (30.747775166699206, 40.805682774774056), (30.74799593648245, 40.80575522400863), (30.764446826467374, 40.810228324914284), (30.773799805996664, 40.814667731027676), (30.774051167792575, 40.81476899400867), (30.774312872059745, 40.81483933475298), (30.7902253982087, 40.81810436476776), (30.790534347023847, 40.818145737648386), (30.80124262088376, 40.81883059325288), (30.810598127610525, 40.82431187750774), (30.81081319812792, 40.82442281684095), (30.81103893004642, 40.82451004048498), (30.8112727173252, 40.824572541456064), (30.844267586740404, 40.83151836296965), (30.84447361641258, 40.83155185026991), (30.844681861465222, 40.83156611992804), (30.844890533252094, 40.831561049379914), (30.864393554231814, 40.830180868030666), (30.9092131331501, 40.83534921848561), (30.95187596378321, 40.85483030575654), (30.952096363655937, 40.854917247040184), (30.95232467725239, 40.854980554167554), (30.968202639555507, 40.85849557593419), (30.968421789180173, 40.858532854690985), (30.968643546293805, 40.85854834811714), (30.96886575059968, 40.858541905279964), (31.045040814839332, 40.85256080026621), (31.156698255319224, 40.8499213716301), (31.156915535957662, 40.84990569711323), (31.157130285905634, 40.84986910440678), (31.16760394811196, 40.84755824341302), (31.167834587940494, 40.847494334304656), (31.168057144036904, 40.84740631221317), (31.16826910334814, 40.84729517106409), (31.168468072477655, 40.84716216583811), (31.168651804711093, 40.84700879840012), (31.16881822538567, 40.84683680054051), (31.179455156496434, 40.83460481189563), (31.266663085411, 40.788141055770396), (31.3161426\n",
      "2024-02-24 11:11:51,163 - 0 results returned.\n",
      "2024-02-24 11:11:51,179 - Searching catalog with search_parameters: {'datetime': '2024-01-01T00:00:00Z/2024-12-31T23:59:59Z', 'intersects': {'type': 'Polygon', 'coordinates': (((30.561469902723548, 40.757675868297596), (30.71620979692899, 40.792099699651004), (30.73882202462908, 40.79860495285483), (30.747173606831108, 40.80533553140583), (30.747361802150873, 40.80547180579962), (30.747563036018636, 40.805587965686186), (30.747775166699206, 40.805682774774056), (30.74799593648245, 40.80575522400863), (30.764446826467374, 40.810228324914284), (30.773799805996664, 40.814667731027676), (30.774051167792575, 40.81476899400867), (30.774312872059745, 40.81483933475298), (30.7902253982087, 40.81810436476776), (30.790534347023847, 40.818145737648386), (30.80124262088376, 40.81883059325288), (30.810598127610525, 40.82431187750774), (30.81081319812792, 40.82442281684095), (30.81103893004642, 40.82451004048498), (30.8112727173252, 40.824572541456064), (30.844267586740404, 40.83151836296965), (30.84447361641258, 40.83155185026991), (30.844681861465222, 40.83156611992804), (30.844890533252094, 40.831561049379914), (30.864393554231814, 40.830180868030666), (30.9092131331501, 40.83534921848561), (30.95187596378321, 40.85483030575654), (30.952096363655937, 40.854917247040184), (30.95232467725239, 40.854980554167554), (30.968202639555507, 40.85849557593419), (30.968421789180173, 40.858532854690985), (30.968643546293805, 40.85854834811714), (30.96886575059968, 40.858541905279964), (31.045040814839332, 40.85256080026621), (31.156698255319224, 40.8499213716301), (31.156915535957662, 40.84990569711323), (31.157130285905634, 40.84986910440678), (31.16760394811196, 40.84755824341302), (31.167834587940494, 40.847494334304656), (31.168057144036904, 40.84740631221317), (31.16826910334814, 40.84729517106409), (31.168468072477655, 40.84716216583811), (31.168651804711093, 40.84700879840012), (31.16881822538567, 40.84683680054051), (31.179455156496434, 40.83460481189563), (31.266663085411, 40.788141055770396), (31.3161426\n"
     ]
    },
    {
     "name": "stdout",
     "output_type": "stream",
     "text": [
      "Search results for collection 'hexagon-na-30cm':\n",
      "Search results in JSON format: {'type': 'FeatureCollection', 'features': [], 'bbox': (nan, nan, nan, nan)}\n",
      "Search results in DataFrame format:\n",
      "Empty GeoDataFrame\n",
      "Columns: [geometry]\n",
      "Index: []\n"
     ]
    },
    {
     "name": "stderr",
     "output_type": "stream",
     "text": [
      "2024-02-24 11:11:51,556 - 0 results returned.\n",
      "2024-02-24 11:11:51,570 - Searching catalog with search_parameters: {'datetime': '2024-01-01T00:00:00Z/2024-12-31T23:59:59Z', 'intersects': {'type': 'Polygon', 'coordinates': (((30.561469902723548, 40.757675868297596), (30.71620979692899, 40.792099699651004), (30.73882202462908, 40.79860495285483), (30.747173606831108, 40.80533553140583), (30.747361802150873, 40.80547180579962), (30.747563036018636, 40.805587965686186), (30.747775166699206, 40.805682774774056), (30.74799593648245, 40.80575522400863), (30.764446826467374, 40.810228324914284), (30.773799805996664, 40.814667731027676), (30.774051167792575, 40.81476899400867), (30.774312872059745, 40.81483933475298), (30.7902253982087, 40.81810436476776), (30.790534347023847, 40.818145737648386), (30.80124262088376, 40.81883059325288), (30.810598127610525, 40.82431187750774), (30.81081319812792, 40.82442281684095), (30.81103893004642, 40.82451004048498), (30.8112727173252, 40.824572541456064), (30.844267586740404, 40.83151836296965), (30.84447361641258, 40.83155185026991), (30.844681861465222, 40.83156611992804), (30.844890533252094, 40.831561049379914), (30.864393554231814, 40.830180868030666), (30.9092131331501, 40.83534921848561), (30.95187596378321, 40.85483030575654), (30.952096363655937, 40.854917247040184), (30.95232467725239, 40.854980554167554), (30.968202639555507, 40.85849557593419), (30.968421789180173, 40.858532854690985), (30.968643546293805, 40.85854834811714), (30.96886575059968, 40.858541905279964), (31.045040814839332, 40.85256080026621), (31.156698255319224, 40.8499213716301), (31.156915535957662, 40.84990569711323), (31.157130285905634, 40.84986910440678), (31.16760394811196, 40.84755824341302), (31.167834587940494, 40.847494334304656), (31.168057144036904, 40.84740631221317), (31.16826910334814, 40.84729517106409), (31.168468072477655, 40.84716216583811), (31.168651804711093, 40.84700879840012), (31.16881822538567, 40.84683680054051), (31.179455156496434, 40.83460481189563), (31.266663085411, 40.788141055770396), (31.3161426\n",
      "2024-02-24 11:11:51,969 - 0 results returned.\n",
      "2024-02-24 11:11:51,969 - Searching catalog with search_parameters: {'datetime': '2024-01-01T00:00:00Z/2024-12-31T23:59:59Z', 'intersects': {'type': 'Polygon', 'coordinates': (((30.561469902723548, 40.757675868297596), (30.71620979692899, 40.792099699651004), (30.73882202462908, 40.79860495285483), (30.747173606831108, 40.80533553140583), (30.747361802150873, 40.80547180579962), (30.747563036018636, 40.805587965686186), (30.747775166699206, 40.805682774774056), (30.74799593648245, 40.80575522400863), (30.764446826467374, 40.810228324914284), (30.773799805996664, 40.814667731027676), (30.774051167792575, 40.81476899400867), (30.774312872059745, 40.81483933475298), (30.7902253982087, 40.81810436476776), (30.790534347023847, 40.818145737648386), (30.80124262088376, 40.81883059325288), (30.810598127610525, 40.82431187750774), (30.81081319812792, 40.82442281684095), (30.81103893004642, 40.82451004048498), (30.8112727173252, 40.824572541456064), (30.844267586740404, 40.83151836296965), (30.84447361641258, 40.83155185026991), (30.844681861465222, 40.83156611992804), (30.844890533252094, 40.831561049379914), (30.864393554231814, 40.830180868030666), (30.9092131331501, 40.83534921848561), (30.95187596378321, 40.85483030575654), (30.952096363655937, 40.854917247040184), (30.95232467725239, 40.854980554167554), (30.968202639555507, 40.85849557593419), (30.968421789180173, 40.858532854690985), (30.968643546293805, 40.85854834811714), (30.96886575059968, 40.858541905279964), (31.045040814839332, 40.85256080026621), (31.156698255319224, 40.8499213716301), (31.156915535957662, 40.84990569711323), (31.157130285905634, 40.84986910440678), (31.16760394811196, 40.84755824341302), (31.167834587940494, 40.847494334304656), (31.168057144036904, 40.84740631221317), (31.16826910334814, 40.84729517106409), (31.168468072477655, 40.84716216583811), (31.168651804711093, 40.84700879840012), (31.16881822538567, 40.84683680054051), (31.179455156496434, 40.83460481189563), (31.266663085411, 40.788141055770396), (31.3161426\n"
     ]
    },
    {
     "name": "stdout",
     "output_type": "stream",
     "text": [
      "Search results for collection 'hexagon-na-15cm':\n",
      "Search results in JSON format: {'type': 'FeatureCollection', 'features': [], 'bbox': (nan, nan, nan, nan)}\n",
      "Search results in DataFrame format:\n",
      "Empty GeoDataFrame\n",
      "Columns: [geometry]\n",
      "Index: []\n"
     ]
    },
    {
     "name": "stderr",
     "output_type": "stream",
     "text": [
      "2024-02-24 11:11:52,387 - 0 results returned.\n",
      "2024-02-24 11:11:52,388 - Searching catalog with search_parameters: {'datetime': '2024-01-01T00:00:00Z/2024-12-31T23:59:59Z', 'intersects': {'type': 'Polygon', 'coordinates': (((30.561469902723548, 40.757675868297596), (30.71620979692899, 40.792099699651004), (30.73882202462908, 40.79860495285483), (30.747173606831108, 40.80533553140583), (30.747361802150873, 40.80547180579962), (30.747563036018636, 40.805587965686186), (30.747775166699206, 40.805682774774056), (30.74799593648245, 40.80575522400863), (30.764446826467374, 40.810228324914284), (30.773799805996664, 40.814667731027676), (30.774051167792575, 40.81476899400867), (30.774312872059745, 40.81483933475298), (30.7902253982087, 40.81810436476776), (30.790534347023847, 40.818145737648386), (30.80124262088376, 40.81883059325288), (30.810598127610525, 40.82431187750774), (30.81081319812792, 40.82442281684095), (30.81103893004642, 40.82451004048498), (30.8112727173252, 40.824572541456064), (30.844267586740404, 40.83151836296965), (30.84447361641258, 40.83155185026991), (30.844681861465222, 40.83156611992804), (30.844890533252094, 40.831561049379914), (30.864393554231814, 40.830180868030666), (30.9092131331501, 40.83534921848561), (30.95187596378321, 40.85483030575654), (30.952096363655937, 40.854917247040184), (30.95232467725239, 40.854980554167554), (30.968202639555507, 40.85849557593419), (30.968421789180173, 40.858532854690985), (30.968643546293805, 40.85854834811714), (30.96886575059968, 40.858541905279964), (31.045040814839332, 40.85256080026621), (31.156698255319224, 40.8499213716301), (31.156915535957662, 40.84990569711323), (31.157130285905634, 40.84986910440678), (31.16760394811196, 40.84755824341302), (31.167834587940494, 40.847494334304656), (31.168057144036904, 40.84740631221317), (31.16826910334814, 40.84729517106409), (31.168468072477655, 40.84716216583811), (31.168651804711093, 40.84700879840012), (31.16881822538567, 40.84683680054051), (31.179455156496434, 40.83460481189563), (31.266663085411, 40.788141055770396), (31.3161426\n",
      "2024-02-24 11:11:52,826 - 0 results returned.\n",
      "2024-02-24 11:11:52,840 - Searching catalog with search_parameters: {'datetime': '2024-01-01T00:00:00Z/2024-12-31T23:59:59Z', 'intersects': {'type': 'Polygon', 'coordinates': (((30.561469902723548, 40.757675868297596), (30.71620979692899, 40.792099699651004), (30.73882202462908, 40.79860495285483), (30.747173606831108, 40.80533553140583), (30.747361802150873, 40.80547180579962), (30.747563036018636, 40.805587965686186), (30.747775166699206, 40.805682774774056), (30.74799593648245, 40.80575522400863), (30.764446826467374, 40.810228324914284), (30.773799805996664, 40.814667731027676), (30.774051167792575, 40.81476899400867), (30.774312872059745, 40.81483933475298), (30.7902253982087, 40.81810436476776), (30.790534347023847, 40.818145737648386), (30.80124262088376, 40.81883059325288), (30.810598127610525, 40.82431187750774), (30.81081319812792, 40.82442281684095), (30.81103893004642, 40.82451004048498), (30.8112727173252, 40.824572541456064), (30.844267586740404, 40.83151836296965), (30.84447361641258, 40.83155185026991), (30.844681861465222, 40.83156611992804), (30.844890533252094, 40.831561049379914), (30.864393554231814, 40.830180868030666), (30.9092131331501, 40.83534921848561), (30.95187596378321, 40.85483030575654), (30.952096363655937, 40.854917247040184), (30.95232467725239, 40.854980554167554), (30.968202639555507, 40.85849557593419), (30.968421789180173, 40.858532854690985), (30.968643546293805, 40.85854834811714), (30.96886575059968, 40.858541905279964), (31.045040814839332, 40.85256080026621), (31.156698255319224, 40.8499213716301), (31.156915535957662, 40.84990569711323), (31.157130285905634, 40.84986910440678), (31.16760394811196, 40.84755824341302), (31.167834587940494, 40.847494334304656), (31.168057144036904, 40.84740631221317), (31.16826910334814, 40.84729517106409), (31.168468072477655, 40.84716216583811), (31.168651804711093, 40.84700879840012), (31.16881822538567, 40.84683680054051), (31.179455156496434, 40.83460481189563), (31.266663085411, 40.788141055770396), (31.3161426\n"
     ]
    },
    {
     "name": "stdout",
     "output_type": "stream",
     "text": [
      "Search results for collection 'vexcel-us-6cm-oblique':\n",
      "Search results in JSON format: {'type': 'FeatureCollection', 'features': [], 'bbox': (nan, nan, nan, nan)}\n",
      "Search results in DataFrame format:\n",
      "Empty GeoDataFrame\n",
      "Columns: [geometry]\n",
      "Index: []\n"
     ]
    },
    {
     "name": "stderr",
     "output_type": "stream",
     "text": [
      "2024-02-24 11:11:53,328 - 0 results returned.\n",
      "2024-02-24 11:11:53,330 - Searching catalog with search_parameters: {'datetime': '2024-01-01T00:00:00Z/2024-12-31T23:59:59Z', 'intersects': {'type': 'Polygon', 'coordinates': (((30.561469902723548, 40.757675868297596), (30.71620979692899, 40.792099699651004), (30.73882202462908, 40.79860495285483), (30.747173606831108, 40.80533553140583), (30.747361802150873, 40.80547180579962), (30.747563036018636, 40.805587965686186), (30.747775166699206, 40.805682774774056), (30.74799593648245, 40.80575522400863), (30.764446826467374, 40.810228324914284), (30.773799805996664, 40.814667731027676), (30.774051167792575, 40.81476899400867), (30.774312872059745, 40.81483933475298), (30.7902253982087, 40.81810436476776), (30.790534347023847, 40.818145737648386), (30.80124262088376, 40.81883059325288), (30.810598127610525, 40.82431187750774), (30.81081319812792, 40.82442281684095), (30.81103893004642, 40.82451004048498), (30.8112727173252, 40.824572541456064), (30.844267586740404, 40.83151836296965), (30.84447361641258, 40.83155185026991), (30.844681861465222, 40.83156611992804), (30.844890533252094, 40.831561049379914), (30.864393554231814, 40.830180868030666), (30.9092131331501, 40.83534921848561), (30.95187596378321, 40.85483030575654), (30.952096363655937, 40.854917247040184), (30.95232467725239, 40.854980554167554), (30.968202639555507, 40.85849557593419), (30.968421789180173, 40.858532854690985), (30.968643546293805, 40.85854834811714), (30.96886575059968, 40.858541905279964), (31.045040814839332, 40.85256080026621), (31.156698255319224, 40.8499213716301), (31.156915535957662, 40.84990569711323), (31.157130285905634, 40.84986910440678), (31.16760394811196, 40.84755824341302), (31.167834587940494, 40.847494334304656), (31.168057144036904, 40.84740631221317), (31.16826910334814, 40.84729517106409), (31.168468072477655, 40.84716216583811), (31.168651804711093, 40.84700879840012), (31.16881822538567, 40.84683680054051), (31.179455156496434, 40.83460481189563), (31.266663085411, 40.788141055770396), (31.3161426\n",
      "2024-02-24 11:11:53,738 - 0 results returned.\n",
      "2024-02-24 11:11:53,738 - Searching catalog with search_parameters: {'datetime': '2024-01-01T00:00:00Z/2024-12-31T23:59:59Z', 'intersects': {'type': 'Polygon', 'coordinates': (((30.561469902723548, 40.757675868297596), (30.71620979692899, 40.792099699651004), (30.73882202462908, 40.79860495285483), (30.747173606831108, 40.80533553140583), (30.747361802150873, 40.80547180579962), (30.747563036018636, 40.805587965686186), (30.747775166699206, 40.805682774774056), (30.74799593648245, 40.80575522400863), (30.764446826467374, 40.810228324914284), (30.773799805996664, 40.814667731027676), (30.774051167792575, 40.81476899400867), (30.774312872059745, 40.81483933475298), (30.7902253982087, 40.81810436476776), (30.790534347023847, 40.818145737648386), (30.80124262088376, 40.81883059325288), (30.810598127610525, 40.82431187750774), (30.81081319812792, 40.82442281684095), (30.81103893004642, 40.82451004048498), (30.8112727173252, 40.824572541456064), (30.844267586740404, 40.83151836296965), (30.84447361641258, 40.83155185026991), (30.844681861465222, 40.83156611992804), (30.844890533252094, 40.831561049379914), (30.864393554231814, 40.830180868030666), (30.9092131331501, 40.83534921848561), (30.95187596378321, 40.85483030575654), (30.952096363655937, 40.854917247040184), (30.95232467725239, 40.854980554167554), (30.968202639555507, 40.85849557593419), (30.968421789180173, 40.858532854690985), (30.968643546293805, 40.85854834811714), (30.96886575059968, 40.858541905279964), (31.045040814839332, 40.85256080026621), (31.156698255319224, 40.8499213716301), (31.156915535957662, 40.84990569711323), (31.157130285905634, 40.84986910440678), (31.16760394811196, 40.84755824341302), (31.167834587940494, 40.847494334304656), (31.168057144036904, 40.84740631221317), (31.16826910334814, 40.84729517106409), (31.168468072477655, 40.84716216583811), (31.168651804711093, 40.84700879840012), (31.16881822538567, 40.84683680054051), (31.179455156496434, 40.83460481189563), (31.266663085411, 40.788141055770396), (31.3161426\n"
     ]
    },
    {
     "name": "stdout",
     "output_type": "stream",
     "text": [
      "Search results for collection 'vexcel-oc-6cm-trueortho':\n",
      "Search results in JSON format: {'type': 'FeatureCollection', 'features': [], 'bbox': (nan, nan, nan, nan)}\n",
      "Search results in DataFrame format:\n",
      "Empty GeoDataFrame\n",
      "Columns: [geometry]\n",
      "Index: []\n"
     ]
    },
    {
     "name": "stderr",
     "output_type": "stream",
     "text": [
      "2024-02-24 11:11:54,128 - 0 results returned.\n",
      "2024-02-24 11:11:54,128 - Searching catalog with search_parameters: {'datetime': '2024-01-01T00:00:00Z/2024-12-31T23:59:59Z', 'intersects': {'type': 'Polygon', 'coordinates': (((30.561469902723548, 40.757675868297596), (30.71620979692899, 40.792099699651004), (30.73882202462908, 40.79860495285483), (30.747173606831108, 40.80533553140583), (30.747361802150873, 40.80547180579962), (30.747563036018636, 40.805587965686186), (30.747775166699206, 40.805682774774056), (30.74799593648245, 40.80575522400863), (30.764446826467374, 40.810228324914284), (30.773799805996664, 40.814667731027676), (30.774051167792575, 40.81476899400867), (30.774312872059745, 40.81483933475298), (30.7902253982087, 40.81810436476776), (30.790534347023847, 40.818145737648386), (30.80124262088376, 40.81883059325288), (30.810598127610525, 40.82431187750774), (30.81081319812792, 40.82442281684095), (30.81103893004642, 40.82451004048498), (30.8112727173252, 40.824572541456064), (30.844267586740404, 40.83151836296965), (30.84447361641258, 40.83155185026991), (30.844681861465222, 40.83156611992804), (30.844890533252094, 40.831561049379914), (30.864393554231814, 40.830180868030666), (30.9092131331501, 40.83534921848561), (30.95187596378321, 40.85483030575654), (30.952096363655937, 40.854917247040184), (30.95232467725239, 40.854980554167554), (30.968202639555507, 40.85849557593419), (30.968421789180173, 40.858532854690985), (30.968643546293805, 40.85854834811714), (30.96886575059968, 40.858541905279964), (31.045040814839332, 40.85256080026621), (31.156698255319224, 40.8499213716301), (31.156915535957662, 40.84990569711323), (31.157130285905634, 40.84986910440678), (31.16760394811196, 40.84755824341302), (31.167834587940494, 40.847494334304656), (31.168057144036904, 40.84740631221317), (31.16826910334814, 40.84729517106409), (31.168468072477655, 40.84716216583811), (31.168651804711093, 40.84700879840012), (31.16881822538567, 40.84683680054051), (31.179455156496434, 40.83460481189563), (31.266663085411, 40.788141055770396), (31.3161426\n",
      "2024-02-24 11:11:54,520 - 0 results returned.\n",
      "2024-02-24 11:11:54,529 - Searching catalog with search_parameters: {'datetime': '2024-01-01T00:00:00Z/2024-12-31T23:59:59Z', 'intersects': {'type': 'Polygon', 'coordinates': (((30.561469902723548, 40.757675868297596), (30.71620979692899, 40.792099699651004), (30.73882202462908, 40.79860495285483), (30.747173606831108, 40.80533553140583), (30.747361802150873, 40.80547180579962), (30.747563036018636, 40.805587965686186), (30.747775166699206, 40.805682774774056), (30.74799593648245, 40.80575522400863), (30.764446826467374, 40.810228324914284), (30.773799805996664, 40.814667731027676), (30.774051167792575, 40.81476899400867), (30.774312872059745, 40.81483933475298), (30.7902253982087, 40.81810436476776), (30.790534347023847, 40.818145737648386), (30.80124262088376, 40.81883059325288), (30.810598127610525, 40.82431187750774), (30.81081319812792, 40.82442281684095), (30.81103893004642, 40.82451004048498), (30.8112727173252, 40.824572541456064), (30.844267586740404, 40.83151836296965), (30.84447361641258, 40.83155185026991), (30.844681861465222, 40.83156611992804), (30.844890533252094, 40.831561049379914), (30.864393554231814, 40.830180868030666), (30.9092131331501, 40.83534921848561), (30.95187596378321, 40.85483030575654), (30.952096363655937, 40.854917247040184), (30.95232467725239, 40.854980554167554), (30.968202639555507, 40.85849557593419), (30.968421789180173, 40.858532854690985), (30.968643546293805, 40.85854834811714), (30.96886575059968, 40.858541905279964), (31.045040814839332, 40.85256080026621), (31.156698255319224, 40.8499213716301), (31.156915535957662, 40.84990569711323), (31.157130285905634, 40.84986910440678), (31.16760394811196, 40.84755824341302), (31.167834587940494, 40.847494334304656), (31.168057144036904, 40.84740631221317), (31.16826910334814, 40.84729517106409), (31.168468072477655, 40.84716216583811), (31.168651804711093, 40.84700879840012), (31.16881822538567, 40.84683680054051), (31.179455156496434, 40.83460481189563), (31.266663085411, 40.788141055770396), (31.3161426\n"
     ]
    },
    {
     "name": "stdout",
     "output_type": "stream",
     "text": [
      "Search results for collection 'vexcel-ca-6cm-trueortho':\n",
      "Search results in JSON format: {'type': 'FeatureCollection', 'features': [], 'bbox': (nan, nan, nan, nan)}\n",
      "Search results in DataFrame format:\n",
      "Empty GeoDataFrame\n",
      "Columns: [geometry]\n",
      "Index: []\n"
     ]
    },
    {
     "name": "stderr",
     "output_type": "stream",
     "text": [
      "2024-02-24 11:11:55,027 - 1 results returned.\n",
      "2024-02-24 11:11:55,042 - Searching catalog with search_parameters: {'datetime': '2024-01-01T00:00:00Z/2024-12-31T23:59:59Z', 'intersects': {'type': 'Polygon', 'coordinates': (((30.561469902723548, 40.757675868297596), (30.71620979692899, 40.792099699651004), (30.73882202462908, 40.79860495285483), (30.747173606831108, 40.80533553140583), (30.747361802150873, 40.80547180579962), (30.747563036018636, 40.805587965686186), (30.747775166699206, 40.805682774774056), (30.74799593648245, 40.80575522400863), (30.764446826467374, 40.810228324914284), (30.773799805996664, 40.814667731027676), (30.774051167792575, 40.81476899400867), (30.774312872059745, 40.81483933475298), (30.7902253982087, 40.81810436476776), (30.790534347023847, 40.818145737648386), (30.80124262088376, 40.81883059325288), (30.810598127610525, 40.82431187750774), (30.81081319812792, 40.82442281684095), (30.81103893004642, 40.82451004048498), (30.8112727173252, 40.824572541456064), (30.844267586740404, 40.83151836296965), (30.84447361641258, 40.83155185026991), (30.844681861465222, 40.83156611992804), (30.844890533252094, 40.831561049379914), (30.864393554231814, 40.830180868030666), (30.9092131331501, 40.83534921848561), (30.95187596378321, 40.85483030575654), (30.952096363655937, 40.854917247040184), (30.95232467725239, 40.854980554167554), (30.968202639555507, 40.85849557593419), (30.968421789180173, 40.858532854690985), (30.968643546293805, 40.85854834811714), (30.96886575059968, 40.858541905279964), (31.045040814839332, 40.85256080026621), (31.156698255319224, 40.8499213716301), (31.156915535957662, 40.84990569711323), (31.157130285905634, 40.84986910440678), (31.16760394811196, 40.84755824341302), (31.167834587940494, 40.847494334304656), (31.168057144036904, 40.84740631221317), (31.16826910334814, 40.84729517106409), (31.168468072477655, 40.84716216583811), (31.168651804711093, 40.84700879840012), (31.16881822538567, 40.84683680054051), (31.179455156496434, 40.83460481189563), (31.266663085411, 40.788141055770396), (31.3161426\n",
      "2024-02-24 11:11:55,548 - 1 results returned.\n",
      "2024-02-24 11:11:55,555 - Searching catalog with search_parameters: {'datetime': '2024-01-01T00:00:00Z/2024-12-31T23:59:59Z', 'intersects': {'type': 'Polygon', 'coordinates': (((30.561469902723548, 40.757675868297596), (30.71620979692899, 40.792099699651004), (30.73882202462908, 40.79860495285483), (30.747173606831108, 40.80533553140583), (30.747361802150873, 40.80547180579962), (30.747563036018636, 40.805587965686186), (30.747775166699206, 40.805682774774056), (30.74799593648245, 40.80575522400863), (30.764446826467374, 40.810228324914284), (30.773799805996664, 40.814667731027676), (30.774051167792575, 40.81476899400867), (30.774312872059745, 40.81483933475298), (30.7902253982087, 40.81810436476776), (30.790534347023847, 40.818145737648386), (30.80124262088376, 40.81883059325288), (30.810598127610525, 40.82431187750774), (30.81081319812792, 40.82442281684095), (30.81103893004642, 40.82451004048498), (30.8112727173252, 40.824572541456064), (30.844267586740404, 40.83151836296965), (30.84447361641258, 40.83155185026991), (30.844681861465222, 40.83156611992804), (30.844890533252094, 40.831561049379914), (30.864393554231814, 40.830180868030666), (30.9092131331501, 40.83534921848561), (30.95187596378321, 40.85483030575654), (30.952096363655937, 40.854917247040184), (30.95232467725239, 40.854980554167554), (30.968202639555507, 40.85849557593419), (30.968421789180173, 40.858532854690985), (30.968643546293805, 40.85854834811714), (30.96886575059968, 40.858541905279964), (31.045040814839332, 40.85256080026621), (31.156698255319224, 40.8499213716301), (31.156915535957662, 40.84990569711323), (31.157130285905634, 40.84986910440678), (31.16760394811196, 40.84755824341302), (31.167834587940494, 40.847494334304656), (31.168057144036904, 40.84740631221317), (31.16826910334814, 40.84729517106409), (31.168468072477655, 40.84716216583811), (31.168651804711093, 40.84700879840012), (31.16881822538567, 40.84683680054051), (31.179455156496434, 40.83460481189563), (31.266663085411, 40.788141055770396), (31.3161426\n"
     ]
    },
    {
     "name": "stdout",
     "output_type": "stream",
     "text": [
      "Search results for collection 'phr':\n",
      "Search results in JSON format: {'type': 'FeatureCollection', 'features': [{'id': '0', 'type': 'Feature', 'properties': {'id': 'c2986682-6872-4f9c-9e70-626ca278a933', 'constellation': 'phr', 'collection': 'phr', 'providerName': 'oneatlas', 'up42:usageType': ['DATA'], 'providerProperties': {'qualified': False, 'acquisitionStation': 'SV1', 'sourceIdentifier': 'DS_PHR1A_202402060848400_FR1_PX_E032N40_0622_01769', 'archivingCenter': 'FR1', 'lastUpdateDate': '2024-02-06T17:48:46.271366486Z', 'processingDate': '2024-02-06T17:14:24.567Z', 'parentIdentifier': 'DS_PHR1A_202402060848400_FR1_PX_E032N40_0622_01769', 'azimuthAngle': 179.970956444384, 'title': '', 'workspaceTitle': 'Public', 'productCategory': 'image', 'spectralRange': 'VISIBLE', 'activityId': 'c216fea0-8092-47e7-bb7e-c779e11546d5', 'processingLevel': 'ALBUM', 'acquisitionIdentifier': 'DS_PHR1A_202402060848400_FR1_PX_E032N40_0622_01769', 'productionStatus': 'ARCHIVED', 'sensorType': 'OPTICAL', 'geometryCentroid': {'lat': 40.88561857504998, 'lon': 32.46641752945333}, 'correlationId': '719ae31b-cdbb-4ddf-817e-f4f43301a924', 'processorName': 'MMCAT', 'workspaceName': 'public', 'publicationDate': '2024-02-06T17:48:46.271366486Z', 'illuminationElevationAngle': 30.8751618590943, 'productType': 'mono', 'expirationDate': '2223-12-20T17:47:13.603703641Z', 'workspaceId': '0e33eb50-3404-48ad-b835-b0b4b72a5625', 'incidenceAngleAcrossTrack': 4.537793042879942, 'format': 'image/tiff', 'illuminationAzimuthAngle': 158.5459737737982, 'incidenceAngleAlongTrack': -12.75614032717979, 'incidenceAngle': 13.49021339737604, 'archiveIdentifier': 'DS_PHR1A_202402060848400_FR1_PX_E032N40_0622_01769', 'processingCenter': 'MOC', 'organisationName': 'AIRBUS DS GEO', 'snowCover': 100}, 'sceneId': 'c2986682-6872-4f9c-9e70-626ca278a933', 'producer': 'airbus', 'acquisitionDate': '2024-02-06T08:48:40Z', 'start_datetime': None, 'end_datetime': None, 'cloudCoverage': 19.6, 'resolution': 0.5, 'deliveryTime': 'HOURS'}, 'geometry': {'type': 'Polygon', 'coordinates': (((32.46374185, 40.97893673), (32.42784432, 40.97886749), (32.40384724, 40.97844579), (32.36778157, 40.97689737), (32.3560408, 40.9765665), (32.34452849, 40.97645578), (32.34439046, 40.9589221), (32.3444687, 40.94977751), (32.3451797, 40.92315043), (32.3450548, 40.88565401), (32.34535038, 40.848862), (32.34510754, 40.82973773), (32.34505769, 40.79225957), (32.42167038, 40.79392981), (32.44578344, 40.79473692), (32.46996006, 40.7952966), (32.49380276, 40.79531991), (32.50586846, 40.79559874), (32.52973883, 40.79577729), (32.54178565, 40.79618947), (32.56534136, 40.7964617), (32.5884446, 40.7963836), (32.58824422, 40.97869141), (32.57086805, 40.97875995), (32.53533761, 40.97848933), (32.46374185, 40.97893673)),)}, 'bbox': (32.34439046, 40.79225957, 32.5884446, 40.97893673)}], 'bbox': (32.34439046, 40.79225957, 32.5884446, 40.97893673)}\n",
      "Search results in DataFrame format:\n",
      "                                            geometry  \\\n",
      "0  POLYGON ((32.46374 40.97894, 32.42784 40.97887...   \n",
      "\n",
      "                                     id constellation collection providerName  \\\n",
      "0  c2986682-6872-4f9c-9e70-626ca278a933           phr        phr     oneatlas   \n",
      "\n",
      "  up42:usageType                                 providerProperties  \\\n",
      "0         [DATA]  {'qualified': False, 'acquisitionStation': 'SV...   \n",
      "\n",
      "                                sceneId producer       acquisitionDate  \\\n",
      "0  c2986682-6872-4f9c-9e70-626ca278a933   airbus  2024-02-06T08:48:40Z   \n",
      "\n",
      "  start_datetime end_datetime  cloudCoverage  resolution deliveryTime  \n",
      "0           None         None           19.6         0.5        HOURS  \n"
     ]
    },
    {
     "name": "stderr",
     "output_type": "stream",
     "text": [
      "2024-02-24 11:11:55,989 - 0 results returned.\n",
      "2024-02-24 11:11:55,990 - Searching catalog with search_parameters: {'datetime': '2024-01-01T00:00:00Z/2024-12-31T23:59:59Z', 'intersects': {'type': 'Polygon', 'coordinates': (((30.561469902723548, 40.757675868297596), (30.71620979692899, 40.792099699651004), (30.73882202462908, 40.79860495285483), (30.747173606831108, 40.80533553140583), (30.747361802150873, 40.80547180579962), (30.747563036018636, 40.805587965686186), (30.747775166699206, 40.805682774774056), (30.74799593648245, 40.80575522400863), (30.764446826467374, 40.810228324914284), (30.773799805996664, 40.814667731027676), (30.774051167792575, 40.81476899400867), (30.774312872059745, 40.81483933475298), (30.7902253982087, 40.81810436476776), (30.790534347023847, 40.818145737648386), (30.80124262088376, 40.81883059325288), (30.810598127610525, 40.82431187750774), (30.81081319812792, 40.82442281684095), (30.81103893004642, 40.82451004048498), (30.8112727173252, 40.824572541456064), (30.844267586740404, 40.83151836296965), (30.84447361641258, 40.83155185026991), (30.844681861465222, 40.83156611992804), (30.844890533252094, 40.831561049379914), (30.864393554231814, 40.830180868030666), (30.9092131331501, 40.83534921848561), (30.95187596378321, 40.85483030575654), (30.952096363655937, 40.854917247040184), (30.95232467725239, 40.854980554167554), (30.968202639555507, 40.85849557593419), (30.968421789180173, 40.858532854690985), (30.968643546293805, 40.85854834811714), (30.96886575059968, 40.858541905279964), (31.045040814839332, 40.85256080026621), (31.156698255319224, 40.8499213716301), (31.156915535957662, 40.84990569711323), (31.157130285905634, 40.84986910440678), (31.16760394811196, 40.84755824341302), (31.167834587940494, 40.847494334304656), (31.168057144036904, 40.84740631221317), (31.16826910334814, 40.84729517106409), (31.168468072477655, 40.84716216583811), (31.168651804711093, 40.84700879840012), (31.16881822538567, 40.84683680054051), (31.179455156496434, 40.83460481189563), (31.266663085411, 40.788141055770396), (31.3161426\n",
      "2024-02-24 11:11:56,373 - 0 results returned.\n",
      "2024-02-24 11:11:56,383 - Searching catalog with search_parameters: {'datetime': '2024-01-01T00:00:00Z/2024-12-31T23:59:59Z', 'intersects': {'type': 'Polygon', 'coordinates': (((30.561469902723548, 40.757675868297596), (30.71620979692899, 40.792099699651004), (30.73882202462908, 40.79860495285483), (30.747173606831108, 40.80533553140583), (30.747361802150873, 40.80547180579962), (30.747563036018636, 40.805587965686186), (30.747775166699206, 40.805682774774056), (30.74799593648245, 40.80575522400863), (30.764446826467374, 40.810228324914284), (30.773799805996664, 40.814667731027676), (30.774051167792575, 40.81476899400867), (30.774312872059745, 40.81483933475298), (30.7902253982087, 40.81810436476776), (30.790534347023847, 40.818145737648386), (30.80124262088376, 40.81883059325288), (30.810598127610525, 40.82431187750774), (30.81081319812792, 40.82442281684095), (30.81103893004642, 40.82451004048498), (30.8112727173252, 40.824572541456064), (30.844267586740404, 40.83151836296965), (30.84447361641258, 40.83155185026991), (30.844681861465222, 40.83156611992804), (30.844890533252094, 40.831561049379914), (30.864393554231814, 40.830180868030666), (30.9092131331501, 40.83534921848561), (30.95187596378321, 40.85483030575654), (30.952096363655937, 40.854917247040184), (30.95232467725239, 40.854980554167554), (30.968202639555507, 40.85849557593419), (30.968421789180173, 40.858532854690985), (30.968643546293805, 40.85854834811714), (30.96886575059968, 40.858541905279964), (31.045040814839332, 40.85256080026621), (31.156698255319224, 40.8499213716301), (31.156915535957662, 40.84990569711323), (31.157130285905634, 40.84986910440678), (31.16760394811196, 40.84755824341302), (31.167834587940494, 40.847494334304656), (31.168057144036904, 40.84740631221317), (31.16826910334814, 40.84729517106409), (31.168468072477655, 40.84716216583811), (31.168651804711093, 40.84700879840012), (31.16881822538567, 40.84683680054051), (31.179455156496434, 40.83460481189563), (31.266663085411, 40.788141055770396), (31.3161426\n"
     ]
    },
    {
     "name": "stdout",
     "output_type": "stream",
     "text": [
      "Search results for collection 'hexagon-eu-30cm':\n",
      "Search results in JSON format: {'type': 'FeatureCollection', 'features': [], 'bbox': (nan, nan, nan, nan)}\n",
      "Search results in DataFrame format:\n",
      "Empty GeoDataFrame\n",
      "Columns: [geometry]\n",
      "Index: []\n"
     ]
    },
    {
     "name": "stderr",
     "output_type": "stream",
     "text": [
      "2024-02-24 11:11:56,771 - 0 results returned.\n",
      "2024-02-24 11:11:56,771 - Searching catalog with search_parameters: {'datetime': '2024-01-01T00:00:00Z/2024-12-31T23:59:59Z', 'intersects': {'type': 'Polygon', 'coordinates': (((30.561469902723548, 40.757675868297596), (30.71620979692899, 40.792099699651004), (30.73882202462908, 40.79860495285483), (30.747173606831108, 40.80533553140583), (30.747361802150873, 40.80547180579962), (30.747563036018636, 40.805587965686186), (30.747775166699206, 40.805682774774056), (30.74799593648245, 40.80575522400863), (30.764446826467374, 40.810228324914284), (30.773799805996664, 40.814667731027676), (30.774051167792575, 40.81476899400867), (30.774312872059745, 40.81483933475298), (30.7902253982087, 40.81810436476776), (30.790534347023847, 40.818145737648386), (30.80124262088376, 40.81883059325288), (30.810598127610525, 40.82431187750774), (30.81081319812792, 40.82442281684095), (30.81103893004642, 40.82451004048498), (30.8112727173252, 40.824572541456064), (30.844267586740404, 40.83151836296965), (30.84447361641258, 40.83155185026991), (30.844681861465222, 40.83156611992804), (30.844890533252094, 40.831561049379914), (30.864393554231814, 40.830180868030666), (30.9092131331501, 40.83534921848561), (30.95187596378321, 40.85483030575654), (30.952096363655937, 40.854917247040184), (30.95232467725239, 40.854980554167554), (30.968202639555507, 40.85849557593419), (30.968421789180173, 40.858532854690985), (30.968643546293805, 40.85854834811714), (30.96886575059968, 40.858541905279964), (31.045040814839332, 40.85256080026621), (31.156698255319224, 40.8499213716301), (31.156915535957662, 40.84990569711323), (31.157130285905634, 40.84986910440678), (31.16760394811196, 40.84755824341302), (31.167834587940494, 40.847494334304656), (31.168057144036904, 40.84740631221317), (31.16826910334814, 40.84729517106409), (31.168468072477655, 40.84716216583811), (31.168651804711093, 40.84700879840012), (31.16881822538567, 40.84683680054051), (31.179455156496434, 40.83460481189563), (31.266663085411, 40.788141055770396), (31.3161426\n",
      "2024-02-24 11:11:57,195 - 0 results returned.\n",
      "2024-02-24 11:11:57,206 - Searching catalog with search_parameters: {'datetime': '2024-01-01T00:00:00Z/2024-12-31T23:59:59Z', 'intersects': {'type': 'Polygon', 'coordinates': (((30.561469902723548, 40.757675868297596), (30.71620979692899, 40.792099699651004), (30.73882202462908, 40.79860495285483), (30.747173606831108, 40.80533553140583), (30.747361802150873, 40.80547180579962), (30.747563036018636, 40.805587965686186), (30.747775166699206, 40.805682774774056), (30.74799593648245, 40.80575522400863), (30.764446826467374, 40.810228324914284), (30.773799805996664, 40.814667731027676), (30.774051167792575, 40.81476899400867), (30.774312872059745, 40.81483933475298), (30.7902253982087, 40.81810436476776), (30.790534347023847, 40.818145737648386), (30.80124262088376, 40.81883059325288), (30.810598127610525, 40.82431187750774), (30.81081319812792, 40.82442281684095), (30.81103893004642, 40.82451004048498), (30.8112727173252, 40.824572541456064), (30.844267586740404, 40.83151836296965), (30.84447361641258, 40.83155185026991), (30.844681861465222, 40.83156611992804), (30.844890533252094, 40.831561049379914), (30.864393554231814, 40.830180868030666), (30.9092131331501, 40.83534921848561), (30.95187596378321, 40.85483030575654), (30.952096363655937, 40.854917247040184), (30.95232467725239, 40.854980554167554), (30.968202639555507, 40.85849557593419), (30.968421789180173, 40.858532854690985), (30.968643546293805, 40.85854834811714), (30.96886575059968, 40.858541905279964), (31.045040814839332, 40.85256080026621), (31.156698255319224, 40.8499213716301), (31.156915535957662, 40.84990569711323), (31.157130285905634, 40.84986910440678), (31.16760394811196, 40.84755824341302), (31.167834587940494, 40.847494334304656), (31.168057144036904, 40.84740631221317), (31.16826910334814, 40.84729517106409), (31.168468072477655, 40.84716216583811), (31.168651804711093, 40.84700879840012), (31.16881822538567, 40.84683680054051), (31.179455156496434, 40.83460481189563), (31.266663085411, 40.788141055770396), (31.3161426\n"
     ]
    },
    {
     "name": "stdout",
     "output_type": "stream",
     "text": [
      "Search results for collection 'vexcel-eeu-6cm-trueortho':\n",
      "Search results in JSON format: {'type': 'FeatureCollection', 'features': [], 'bbox': (nan, nan, nan, nan)}\n",
      "Search results in DataFrame format:\n",
      "Empty GeoDataFrame\n",
      "Columns: [geometry]\n",
      "Index: []\n"
     ]
    },
    {
     "name": "stderr",
     "output_type": "stream",
     "text": [
      "2024-02-24 11:11:57,607 - 0 results returned.\n",
      "2024-02-24 11:11:57,607 - Searching catalog with search_parameters: {'datetime': '2024-01-01T00:00:00Z/2024-12-31T23:59:59Z', 'intersects': {'type': 'Polygon', 'coordinates': (((30.561469902723548, 40.757675868297596), (30.71620979692899, 40.792099699651004), (30.73882202462908, 40.79860495285483), (30.747173606831108, 40.80533553140583), (30.747361802150873, 40.80547180579962), (30.747563036018636, 40.805587965686186), (30.747775166699206, 40.805682774774056), (30.74799593648245, 40.80575522400863), (30.764446826467374, 40.810228324914284), (30.773799805996664, 40.814667731027676), (30.774051167792575, 40.81476899400867), (30.774312872059745, 40.81483933475298), (30.7902253982087, 40.81810436476776), (30.790534347023847, 40.818145737648386), (30.80124262088376, 40.81883059325288), (30.810598127610525, 40.82431187750774), (30.81081319812792, 40.82442281684095), (30.81103893004642, 40.82451004048498), (30.8112727173252, 40.824572541456064), (30.844267586740404, 40.83151836296965), (30.84447361641258, 40.83155185026991), (30.844681861465222, 40.83156611992804), (30.844890533252094, 40.831561049379914), (30.864393554231814, 40.830180868030666), (30.9092131331501, 40.83534921848561), (30.95187596378321, 40.85483030575654), (30.952096363655937, 40.854917247040184), (30.95232467725239, 40.854980554167554), (30.968202639555507, 40.85849557593419), (30.968421789180173, 40.858532854690985), (30.968643546293805, 40.85854834811714), (30.96886575059968, 40.858541905279964), (31.045040814839332, 40.85256080026621), (31.156698255319224, 40.8499213716301), (31.156915535957662, 40.84990569711323), (31.157130285905634, 40.84986910440678), (31.16760394811196, 40.84755824341302), (31.167834587940494, 40.847494334304656), (31.168057144036904, 40.84740631221317), (31.16826910334814, 40.84729517106409), (31.168468072477655, 40.84716216583811), (31.168651804711093, 40.84700879840012), (31.16881822538567, 40.84683680054051), (31.179455156496434, 40.83460481189563), (31.266663085411, 40.788141055770396), (31.3161426\n",
      "2024-02-24 11:11:58,007 - 0 results returned.\n",
      "2024-02-24 11:11:58,017 - Searching catalog with search_parameters: {'datetime': '2024-01-01T00:00:00Z/2024-12-31T23:59:59Z', 'intersects': {'type': 'Polygon', 'coordinates': (((30.561469902723548, 40.757675868297596), (30.71620979692899, 40.792099699651004), (30.73882202462908, 40.79860495285483), (30.747173606831108, 40.80533553140583), (30.747361802150873, 40.80547180579962), (30.747563036018636, 40.805587965686186), (30.747775166699206, 40.805682774774056), (30.74799593648245, 40.80575522400863), (30.764446826467374, 40.810228324914284), (30.773799805996664, 40.814667731027676), (30.774051167792575, 40.81476899400867), (30.774312872059745, 40.81483933475298), (30.7902253982087, 40.81810436476776), (30.790534347023847, 40.818145737648386), (30.80124262088376, 40.81883059325288), (30.810598127610525, 40.82431187750774), (30.81081319812792, 40.82442281684095), (30.81103893004642, 40.82451004048498), (30.8112727173252, 40.824572541456064), (30.844267586740404, 40.83151836296965), (30.84447361641258, 40.83155185026991), (30.844681861465222, 40.83156611992804), (30.844890533252094, 40.831561049379914), (30.864393554231814, 40.830180868030666), (30.9092131331501, 40.83534921848561), (30.95187596378321, 40.85483030575654), (30.952096363655937, 40.854917247040184), (30.95232467725239, 40.854980554167554), (30.968202639555507, 40.85849557593419), (30.968421789180173, 40.858532854690985), (30.968643546293805, 40.85854834811714), (30.96886575059968, 40.858541905279964), (31.045040814839332, 40.85256080026621), (31.156698255319224, 40.8499213716301), (31.156915535957662, 40.84990569711323), (31.157130285905634, 40.84986910440678), (31.16760394811196, 40.84755824341302), (31.167834587940494, 40.847494334304656), (31.168057144036904, 40.84740631221317), (31.16826910334814, 40.84729517106409), (31.168468072477655, 40.84716216583811), (31.168651804711093, 40.84700879840012), (31.16881822538567, 40.84683680054051), (31.179455156496434, 40.83460481189563), (31.266663085411, 40.788141055770396), (31.3161426\n"
     ]
    },
    {
     "name": "stdout",
     "output_type": "stream",
     "text": [
      "Search results for collection 'nsl-30cm':\n",
      "Search results in JSON format: {'type': 'FeatureCollection', 'features': [], 'bbox': (nan, nan, nan, nan)}\n",
      "Search results in DataFrame format:\n",
      "Empty GeoDataFrame\n",
      "Columns: [geometry]\n",
      "Index: []\n"
     ]
    },
    {
     "name": "stderr",
     "output_type": "stream",
     "text": [
      "2024-02-24 11:11:58,413 - 0 results returned.\n",
      "2024-02-24 11:11:58,414 - Searching catalog with search_parameters: {'datetime': '2024-01-01T00:00:00Z/2024-12-31T23:59:59Z', 'intersects': {'type': 'Polygon', 'coordinates': (((30.561469902723548, 40.757675868297596), (30.71620979692899, 40.792099699651004), (30.73882202462908, 40.79860495285483), (30.747173606831108, 40.80533553140583), (30.747361802150873, 40.80547180579962), (30.747563036018636, 40.805587965686186), (30.747775166699206, 40.805682774774056), (30.74799593648245, 40.80575522400863), (30.764446826467374, 40.810228324914284), (30.773799805996664, 40.814667731027676), (30.774051167792575, 40.81476899400867), (30.774312872059745, 40.81483933475298), (30.7902253982087, 40.81810436476776), (30.790534347023847, 40.818145737648386), (30.80124262088376, 40.81883059325288), (30.810598127610525, 40.82431187750774), (30.81081319812792, 40.82442281684095), (30.81103893004642, 40.82451004048498), (30.8112727173252, 40.824572541456064), (30.844267586740404, 40.83151836296965), (30.84447361641258, 40.83155185026991), (30.844681861465222, 40.83156611992804), (30.844890533252094, 40.831561049379914), (30.864393554231814, 40.830180868030666), (30.9092131331501, 40.83534921848561), (30.95187596378321, 40.85483030575654), (30.952096363655937, 40.854917247040184), (30.95232467725239, 40.854980554167554), (30.968202639555507, 40.85849557593419), (30.968421789180173, 40.858532854690985), (30.968643546293805, 40.85854834811714), (30.96886575059968, 40.858541905279964), (31.045040814839332, 40.85256080026621), (31.156698255319224, 40.8499213716301), (31.156915535957662, 40.84990569711323), (31.157130285905634, 40.84986910440678), (31.16760394811196, 40.84755824341302), (31.167834587940494, 40.847494334304656), (31.168057144036904, 40.84740631221317), (31.16826910334814, 40.84729517106409), (31.168468072477655, 40.84716216583811), (31.168651804711093, 40.84700879840012), (31.16881822538567, 40.84683680054051), (31.179455156496434, 40.83460481189563), (31.266663085411, 40.788141055770396), (31.3161426\n",
      "2024-02-24 11:11:58,776 - 0 results returned.\n",
      "2024-02-24 11:11:58,794 - Searching catalog with search_parameters: {'datetime': '2024-01-01T00:00:00Z/2024-12-31T23:59:59Z', 'intersects': {'type': 'Polygon', 'coordinates': (((30.561469902723548, 40.757675868297596), (30.71620979692899, 40.792099699651004), (30.73882202462908, 40.79860495285483), (30.747173606831108, 40.80533553140583), (30.747361802150873, 40.80547180579962), (30.747563036018636, 40.805587965686186), (30.747775166699206, 40.805682774774056), (30.74799593648245, 40.80575522400863), (30.764446826467374, 40.810228324914284), (30.773799805996664, 40.814667731027676), (30.774051167792575, 40.81476899400867), (30.774312872059745, 40.81483933475298), (30.7902253982087, 40.81810436476776), (30.790534347023847, 40.818145737648386), (30.80124262088376, 40.81883059325288), (30.810598127610525, 40.82431187750774), (30.81081319812792, 40.82442281684095), (30.81103893004642, 40.82451004048498), (30.8112727173252, 40.824572541456064), (30.844267586740404, 40.83151836296965), (30.84447361641258, 40.83155185026991), (30.844681861465222, 40.83156611992804), (30.844890533252094, 40.831561049379914), (30.864393554231814, 40.830180868030666), (30.9092131331501, 40.83534921848561), (30.95187596378321, 40.85483030575654), (30.952096363655937, 40.854917247040184), (30.95232467725239, 40.854980554167554), (30.968202639555507, 40.85849557593419), (30.968421789180173, 40.858532854690985), (30.968643546293805, 40.85854834811714), (30.96886575059968, 40.858541905279964), (31.045040814839332, 40.85256080026621), (31.156698255319224, 40.8499213716301), (31.156915535957662, 40.84990569711323), (31.157130285905634, 40.84986910440678), (31.16760394811196, 40.84755824341302), (31.167834587940494, 40.847494334304656), (31.168057144036904, 40.84740631221317), (31.16826910334814, 40.84729517106409), (31.168468072477655, 40.84716216583811), (31.168651804711093, 40.84700879840012), (31.16881822538567, 40.84683680054051), (31.179455156496434, 40.83460481189563), (31.266663085411, 40.788141055770396), (31.3161426\n"
     ]
    },
    {
     "name": "stdout",
     "output_type": "stream",
     "text": [
      "Search results for collection 'vexcel-ca-6cm-oblique':\n",
      "Search results in JSON format: {'type': 'FeatureCollection', 'features': [], 'bbox': (nan, nan, nan, nan)}\n",
      "Search results in DataFrame format:\n",
      "Empty GeoDataFrame\n",
      "Columns: [geometry]\n",
      "Index: []\n"
     ]
    },
    {
     "name": "stderr",
     "output_type": "stream",
     "text": [
      "2024-02-24 11:11:59,189 - 0 results returned.\n",
      "2024-02-24 11:11:59,191 - Searching catalog with search_parameters: {'datetime': '2024-01-01T00:00:00Z/2024-12-31T23:59:59Z', 'intersects': {'type': 'Polygon', 'coordinates': (((30.561469902723548, 40.757675868297596), (30.71620979692899, 40.792099699651004), (30.73882202462908, 40.79860495285483), (30.747173606831108, 40.80533553140583), (30.747361802150873, 40.80547180579962), (30.747563036018636, 40.805587965686186), (30.747775166699206, 40.805682774774056), (30.74799593648245, 40.80575522400863), (30.764446826467374, 40.810228324914284), (30.773799805996664, 40.814667731027676), (30.774051167792575, 40.81476899400867), (30.774312872059745, 40.81483933475298), (30.7902253982087, 40.81810436476776), (30.790534347023847, 40.818145737648386), (30.80124262088376, 40.81883059325288), (30.810598127610525, 40.82431187750774), (30.81081319812792, 40.82442281684095), (30.81103893004642, 40.82451004048498), (30.8112727173252, 40.824572541456064), (30.844267586740404, 40.83151836296965), (30.84447361641258, 40.83155185026991), (30.844681861465222, 40.83156611992804), (30.844890533252094, 40.831561049379914), (30.864393554231814, 40.830180868030666), (30.9092131331501, 40.83534921848561), (30.95187596378321, 40.85483030575654), (30.952096363655937, 40.854917247040184), (30.95232467725239, 40.854980554167554), (30.968202639555507, 40.85849557593419), (30.968421789180173, 40.858532854690985), (30.968643546293805, 40.85854834811714), (30.96886575059968, 40.858541905279964), (31.045040814839332, 40.85256080026621), (31.156698255319224, 40.8499213716301), (31.156915535957662, 40.84990569711323), (31.157130285905634, 40.84986910440678), (31.16760394811196, 40.84755824341302), (31.167834587940494, 40.847494334304656), (31.168057144036904, 40.84740631221317), (31.16826910334814, 40.84729517106409), (31.168468072477655, 40.84716216583811), (31.168651804711093, 40.84700879840012), (31.16881822538567, 40.84683680054051), (31.179455156496434, 40.83460481189563), (31.266663085411, 40.788141055770396), (31.3161426\n",
      "2024-02-24 11:11:59,576 - 0 results returned.\n",
      "2024-02-24 11:11:59,588 - Searching catalog with search_parameters: {'datetime': '2024-01-01T00:00:00Z/2024-12-31T23:59:59Z', 'intersects': {'type': 'Polygon', 'coordinates': (((30.561469902723548, 40.757675868297596), (30.71620979692899, 40.792099699651004), (30.73882202462908, 40.79860495285483), (30.747173606831108, 40.80533553140583), (30.747361802150873, 40.80547180579962), (30.747563036018636, 40.805587965686186), (30.747775166699206, 40.805682774774056), (30.74799593648245, 40.80575522400863), (30.764446826467374, 40.810228324914284), (30.773799805996664, 40.814667731027676), (30.774051167792575, 40.81476899400867), (30.774312872059745, 40.81483933475298), (30.7902253982087, 40.81810436476776), (30.790534347023847, 40.818145737648386), (30.80124262088376, 40.81883059325288), (30.810598127610525, 40.82431187750774), (30.81081319812792, 40.82442281684095), (30.81103893004642, 40.82451004048498), (30.8112727173252, 40.824572541456064), (30.844267586740404, 40.83151836296965), (30.84447361641258, 40.83155185026991), (30.844681861465222, 40.83156611992804), (30.844890533252094, 40.831561049379914), (30.864393554231814, 40.830180868030666), (30.9092131331501, 40.83534921848561), (30.95187596378321, 40.85483030575654), (30.952096363655937, 40.854917247040184), (30.95232467725239, 40.854980554167554), (30.968202639555507, 40.85849557593419), (30.968421789180173, 40.858532854690985), (30.968643546293805, 40.85854834811714), (30.96886575059968, 40.858541905279964), (31.045040814839332, 40.85256080026621), (31.156698255319224, 40.8499213716301), (31.156915535957662, 40.84990569711323), (31.157130285905634, 40.84986910440678), (31.16760394811196, 40.84755824341302), (31.167834587940494, 40.847494334304656), (31.168057144036904, 40.84740631221317), (31.16826910334814, 40.84729517106409), (31.168468072477655, 40.84716216583811), (31.168651804711093, 40.84700879840012), (31.16881822538567, 40.84683680054051), (31.179455156496434, 40.83460481189563), (31.266663085411, 40.788141055770396), (31.3161426\n"
     ]
    },
    {
     "name": "stdout",
     "output_type": "stream",
     "text": [
      "Search results for collection 'vexcel-jp-6cm-oblique':\n",
      "Search results in JSON format: {'type': 'FeatureCollection', 'features': [], 'bbox': (nan, nan, nan, nan)}\n",
      "Search results in DataFrame format:\n",
      "Empty GeoDataFrame\n",
      "Columns: [geometry]\n",
      "Index: []\n"
     ]
    },
    {
     "name": "stderr",
     "output_type": "stream",
     "text": [
      "2024-02-24 11:12:00,040 - 0 results returned.\n",
      "2024-02-24 11:12:00,040 - Searching catalog with search_parameters: {'datetime': '2024-01-01T00:00:00Z/2024-12-31T23:59:59Z', 'intersects': {'type': 'Polygon', 'coordinates': (((30.561469902723548, 40.757675868297596), (30.71620979692899, 40.792099699651004), (30.73882202462908, 40.79860495285483), (30.747173606831108, 40.80533553140583), (30.747361802150873, 40.80547180579962), (30.747563036018636, 40.805587965686186), (30.747775166699206, 40.805682774774056), (30.74799593648245, 40.80575522400863), (30.764446826467374, 40.810228324914284), (30.773799805996664, 40.814667731027676), (30.774051167792575, 40.81476899400867), (30.774312872059745, 40.81483933475298), (30.7902253982087, 40.81810436476776), (30.790534347023847, 40.818145737648386), (30.80124262088376, 40.81883059325288), (30.810598127610525, 40.82431187750774), (30.81081319812792, 40.82442281684095), (30.81103893004642, 40.82451004048498), (30.8112727173252, 40.824572541456064), (30.844267586740404, 40.83151836296965), (30.84447361641258, 40.83155185026991), (30.844681861465222, 40.83156611992804), (30.844890533252094, 40.831561049379914), (30.864393554231814, 40.830180868030666), (30.9092131331501, 40.83534921848561), (30.95187596378321, 40.85483030575654), (30.952096363655937, 40.854917247040184), (30.95232467725239, 40.854980554167554), (30.968202639555507, 40.85849557593419), (30.968421789180173, 40.858532854690985), (30.968643546293805, 40.85854834811714), (30.96886575059968, 40.858541905279964), (31.045040814839332, 40.85256080026621), (31.156698255319224, 40.8499213716301), (31.156915535957662, 40.84990569711323), (31.157130285905634, 40.84986910440678), (31.16760394811196, 40.84755824341302), (31.167834587940494, 40.847494334304656), (31.168057144036904, 40.84740631221317), (31.16826910334814, 40.84729517106409), (31.168468072477655, 40.84716216583811), (31.168651804711093, 40.84700879840012), (31.16881822538567, 40.84683680054051), (31.179455156496434, 40.83460481189563), (31.266663085411, 40.788141055770396), (31.3161426\n",
      "2024-02-24 11:12:00,411 - 0 results returned.\n",
      "2024-02-24 11:12:00,412 - Searching catalog with search_parameters: {'datetime': '2024-01-01T00:00:00Z/2024-12-31T23:59:59Z', 'intersects': {'type': 'Polygon', 'coordinates': (((30.561469902723548, 40.757675868297596), (30.71620979692899, 40.792099699651004), (30.73882202462908, 40.79860495285483), (30.747173606831108, 40.80533553140583), (30.747361802150873, 40.80547180579962), (30.747563036018636, 40.805587965686186), (30.747775166699206, 40.805682774774056), (30.74799593648245, 40.80575522400863), (30.764446826467374, 40.810228324914284), (30.773799805996664, 40.814667731027676), (30.774051167792575, 40.81476899400867), (30.774312872059745, 40.81483933475298), (30.7902253982087, 40.81810436476776), (30.790534347023847, 40.818145737648386), (30.80124262088376, 40.81883059325288), (30.810598127610525, 40.82431187750774), (30.81081319812792, 40.82442281684095), (30.81103893004642, 40.82451004048498), (30.8112727173252, 40.824572541456064), (30.844267586740404, 40.83151836296965), (30.84447361641258, 40.83155185026991), (30.844681861465222, 40.83156611992804), (30.844890533252094, 40.831561049379914), (30.864393554231814, 40.830180868030666), (30.9092131331501, 40.83534921848561), (30.95187596378321, 40.85483030575654), (30.952096363655937, 40.854917247040184), (30.95232467725239, 40.854980554167554), (30.968202639555507, 40.85849557593419), (30.968421789180173, 40.858532854690985), (30.968643546293805, 40.85854834811714), (30.96886575059968, 40.858541905279964), (31.045040814839332, 40.85256080026621), (31.156698255319224, 40.8499213716301), (31.156915535957662, 40.84990569711323), (31.157130285905634, 40.84986910440678), (31.16760394811196, 40.84755824341302), (31.167834587940494, 40.847494334304656), (31.168057144036904, 40.84740631221317), (31.16826910334814, 40.84729517106409), (31.168468072477655, 40.84716216583811), (31.168651804711093, 40.84700879840012), (31.16881822538567, 40.84683680054051), (31.179455156496434, 40.83460481189563), (31.266663085411, 40.788141055770396), (31.3161426\n"
     ]
    },
    {
     "name": "stdout",
     "output_type": "stream",
     "text": [
      "Search results for collection 'vexcel-oc-6cm-oblique':\n",
      "Search results in JSON format: {'type': 'FeatureCollection', 'features': [], 'bbox': (nan, nan, nan, nan)}\n",
      "Search results in DataFrame format:\n",
      "Empty GeoDataFrame\n",
      "Columns: [geometry]\n",
      "Index: []\n"
     ]
    },
    {
     "name": "stderr",
     "output_type": "stream",
     "text": [
      "2024-02-24 11:12:00,859 - 0 results returned.\n",
      "2024-02-24 11:12:00,859 - Searching catalog with search_parameters: {'datetime': '2024-01-01T00:00:00Z/2024-12-31T23:59:59Z', 'intersects': {'type': 'Polygon', 'coordinates': (((30.561469902723548, 40.757675868297596), (30.71620979692899, 40.792099699651004), (30.73882202462908, 40.79860495285483), (30.747173606831108, 40.80533553140583), (30.747361802150873, 40.80547180579962), (30.747563036018636, 40.805587965686186), (30.747775166699206, 40.805682774774056), (30.74799593648245, 40.80575522400863), (30.764446826467374, 40.810228324914284), (30.773799805996664, 40.814667731027676), (30.774051167792575, 40.81476899400867), (30.774312872059745, 40.81483933475298), (30.7902253982087, 40.81810436476776), (30.790534347023847, 40.818145737648386), (30.80124262088376, 40.81883059325288), (30.810598127610525, 40.82431187750774), (30.81081319812792, 40.82442281684095), (30.81103893004642, 40.82451004048498), (30.8112727173252, 40.824572541456064), (30.844267586740404, 40.83151836296965), (30.84447361641258, 40.83155185026991), (30.844681861465222, 40.83156611992804), (30.844890533252094, 40.831561049379914), (30.864393554231814, 40.830180868030666), (30.9092131331501, 40.83534921848561), (30.95187596378321, 40.85483030575654), (30.952096363655937, 40.854917247040184), (30.95232467725239, 40.854980554167554), (30.968202639555507, 40.85849557593419), (30.968421789180173, 40.858532854690985), (30.968643546293805, 40.85854834811714), (30.96886575059968, 40.858541905279964), (31.045040814839332, 40.85256080026621), (31.156698255319224, 40.8499213716301), (31.156915535957662, 40.84990569711323), (31.157130285905634, 40.84986910440678), (31.16760394811196, 40.84755824341302), (31.167834587940494, 40.847494334304656), (31.168057144036904, 40.84740631221317), (31.16826910334814, 40.84729517106409), (31.168468072477655, 40.84716216583811), (31.168651804711093, 40.84700879840012), (31.16881822538567, 40.84683680054051), (31.179455156496434, 40.83460481189563), (31.266663085411, 40.788141055770396), (31.3161426\n",
      "2024-02-24 11:12:01,278 - 0 results returned.\n",
      "2024-02-24 11:12:01,295 - Searching catalog with search_parameters: {'datetime': '2024-01-01T00:00:00Z/2024-12-31T23:59:59Z', 'intersects': {'type': 'Polygon', 'coordinates': (((30.561469902723548, 40.757675868297596), (30.71620979692899, 40.792099699651004), (30.73882202462908, 40.79860495285483), (30.747173606831108, 40.80533553140583), (30.747361802150873, 40.80547180579962), (30.747563036018636, 40.805587965686186), (30.747775166699206, 40.805682774774056), (30.74799593648245, 40.80575522400863), (30.764446826467374, 40.810228324914284), (30.773799805996664, 40.814667731027676), (30.774051167792575, 40.81476899400867), (30.774312872059745, 40.81483933475298), (30.7902253982087, 40.81810436476776), (30.790534347023847, 40.818145737648386), (30.80124262088376, 40.81883059325288), (30.810598127610525, 40.82431187750774), (30.81081319812792, 40.82442281684095), (30.81103893004642, 40.82451004048498), (30.8112727173252, 40.824572541456064), (30.844267586740404, 40.83151836296965), (30.84447361641258, 40.83155185026991), (30.844681861465222, 40.83156611992804), (30.844890533252094, 40.831561049379914), (30.864393554231814, 40.830180868030666), (30.9092131331501, 40.83534921848561), (30.95187596378321, 40.85483030575654), (30.952096363655937, 40.854917247040184), (30.95232467725239, 40.854980554167554), (30.968202639555507, 40.85849557593419), (30.968421789180173, 40.858532854690985), (30.968643546293805, 40.85854834811714), (30.96886575059968, 40.858541905279964), (31.045040814839332, 40.85256080026621), (31.156698255319224, 40.8499213716301), (31.156915535957662, 40.84990569711323), (31.157130285905634, 40.84986910440678), (31.16760394811196, 40.84755824341302), (31.167834587940494, 40.847494334304656), (31.168057144036904, 40.84740631221317), (31.16826910334814, 40.84729517106409), (31.168468072477655, 40.84716216583811), (31.168651804711093, 40.84700879840012), (31.16881822538567, 40.84683680054051), (31.179455156496434, 40.83460481189563), (31.266663085411, 40.788141055770396), (31.3161426\n"
     ]
    },
    {
     "name": "stdout",
     "output_type": "stream",
     "text": [
      "Search results for collection 'vexcel-eeu-6cm-oblique':\n",
      "Search results in JSON format: {'type': 'FeatureCollection', 'features': [], 'bbox': (nan, nan, nan, nan)}\n",
      "Search results in DataFrame format:\n",
      "Empty GeoDataFrame\n",
      "Columns: [geometry]\n",
      "Index: []\n"
     ]
    },
    {
     "name": "stderr",
     "output_type": "stream",
     "text": [
      "2024-02-24 11:12:01,677 - 0 results returned.\n",
      "2024-02-24 11:12:01,688 - Searching catalog with search_parameters: {'datetime': '2024-01-01T00:00:00Z/2024-12-31T23:59:59Z', 'intersects': {'type': 'Polygon', 'coordinates': (((30.561469902723548, 40.757675868297596), (30.71620979692899, 40.792099699651004), (30.73882202462908, 40.79860495285483), (30.747173606831108, 40.80533553140583), (30.747361802150873, 40.80547180579962), (30.747563036018636, 40.805587965686186), (30.747775166699206, 40.805682774774056), (30.74799593648245, 40.80575522400863), (30.764446826467374, 40.810228324914284), (30.773799805996664, 40.814667731027676), (30.774051167792575, 40.81476899400867), (30.774312872059745, 40.81483933475298), (30.7902253982087, 40.81810436476776), (30.790534347023847, 40.818145737648386), (30.80124262088376, 40.81883059325288), (30.810598127610525, 40.82431187750774), (30.81081319812792, 40.82442281684095), (30.81103893004642, 40.82451004048498), (30.8112727173252, 40.824572541456064), (30.844267586740404, 40.83151836296965), (30.84447361641258, 40.83155185026991), (30.844681861465222, 40.83156611992804), (30.844890533252094, 40.831561049379914), (30.864393554231814, 40.830180868030666), (30.9092131331501, 40.83534921848561), (30.95187596378321, 40.85483030575654), (30.952096363655937, 40.854917247040184), (30.95232467725239, 40.854980554167554), (30.968202639555507, 40.85849557593419), (30.968421789180173, 40.858532854690985), (30.968643546293805, 40.85854834811714), (30.96886575059968, 40.858541905279964), (31.045040814839332, 40.85256080026621), (31.156698255319224, 40.8499213716301), (31.156915535957662, 40.84990569711323), (31.157130285905634, 40.84986910440678), (31.16760394811196, 40.84755824341302), (31.167834587940494, 40.847494334304656), (31.168057144036904, 40.84740631221317), (31.16826910334814, 40.84729517106409), (31.168468072477655, 40.84716216583811), (31.168651804711093, 40.84700879840012), (31.16881822538567, 40.84683680054051), (31.179455156496434, 40.83460481189563), (31.266663085411, 40.788141055770396), (31.3161426\n",
      "2024-02-24 11:12:02,041 - 0 results returned.\n",
      "2024-02-24 11:12:02,041 - Searching catalog with search_parameters: {'datetime': '2024-01-01T00:00:00Z/2024-12-31T23:59:59Z', 'intersects': {'type': 'Polygon', 'coordinates': (((30.561469902723548, 40.757675868297596), (30.71620979692899, 40.792099699651004), (30.73882202462908, 40.79860495285483), (30.747173606831108, 40.80533553140583), (30.747361802150873, 40.80547180579962), (30.747563036018636, 40.805587965686186), (30.747775166699206, 40.805682774774056), (30.74799593648245, 40.80575522400863), (30.764446826467374, 40.810228324914284), (30.773799805996664, 40.814667731027676), (30.774051167792575, 40.81476899400867), (30.774312872059745, 40.81483933475298), (30.7902253982087, 40.81810436476776), (30.790534347023847, 40.818145737648386), (30.80124262088376, 40.81883059325288), (30.810598127610525, 40.82431187750774), (30.81081319812792, 40.82442281684095), (30.81103893004642, 40.82451004048498), (30.8112727173252, 40.824572541456064), (30.844267586740404, 40.83151836296965), (30.84447361641258, 40.83155185026991), (30.844681861465222, 40.83156611992804), (30.844890533252094, 40.831561049379914), (30.864393554231814, 40.830180868030666), (30.9092131331501, 40.83534921848561), (30.95187596378321, 40.85483030575654), (30.952096363655937, 40.854917247040184), (30.95232467725239, 40.854980554167554), (30.968202639555507, 40.85849557593419), (30.968421789180173, 40.858532854690985), (30.968643546293805, 40.85854834811714), (30.96886575059968, 40.858541905279964), (31.045040814839332, 40.85256080026621), (31.156698255319224, 40.8499213716301), (31.156915535957662, 40.84990569711323), (31.157130285905634, 40.84986910440678), (31.16760394811196, 40.84755824341302), (31.167834587940494, 40.847494334304656), (31.168057144036904, 40.84740631221317), (31.16826910334814, 40.84729517106409), (31.168468072477655, 40.84716216583811), (31.168651804711093, 40.84700879840012), (31.16881822538567, 40.84683680054051), (31.179455156496434, 40.83460481189563), (31.266663085411, 40.788141055770396), (31.3161426\n"
     ]
    },
    {
     "name": "stdout",
     "output_type": "stream",
     "text": [
      "Search results for collection 'vexcel-us-15cm-ortho':\n",
      "Search results in JSON format: {'type': 'FeatureCollection', 'features': [], 'bbox': (nan, nan, nan, nan)}\n",
      "Search results in DataFrame format:\n",
      "Empty GeoDataFrame\n",
      "Columns: [geometry]\n",
      "Index: []\n"
     ]
    },
    {
     "name": "stderr",
     "output_type": "stream",
     "text": [
      "2024-02-24 11:12:02,444 - 0 results returned.\n",
      "2024-02-24 11:12:02,444 - Searching catalog with search_parameters: {'datetime': '2024-01-01T00:00:00Z/2024-12-31T23:59:59Z', 'intersects': {'type': 'Polygon', 'coordinates': (((30.561469902723548, 40.757675868297596), (30.71620979692899, 40.792099699651004), (30.73882202462908, 40.79860495285483), (30.747173606831108, 40.80533553140583), (30.747361802150873, 40.80547180579962), (30.747563036018636, 40.805587965686186), (30.747775166699206, 40.805682774774056), (30.74799593648245, 40.80575522400863), (30.764446826467374, 40.810228324914284), (30.773799805996664, 40.814667731027676), (30.774051167792575, 40.81476899400867), (30.774312872059745, 40.81483933475298), (30.7902253982087, 40.81810436476776), (30.790534347023847, 40.818145737648386), (30.80124262088376, 40.81883059325288), (30.810598127610525, 40.82431187750774), (30.81081319812792, 40.82442281684095), (30.81103893004642, 40.82451004048498), (30.8112727173252, 40.824572541456064), (30.844267586740404, 40.83151836296965), (30.84447361641258, 40.83155185026991), (30.844681861465222, 40.83156611992804), (30.844890533252094, 40.831561049379914), (30.864393554231814, 40.830180868030666), (30.9092131331501, 40.83534921848561), (30.95187596378321, 40.85483030575654), (30.952096363655937, 40.854917247040184), (30.95232467725239, 40.854980554167554), (30.968202639555507, 40.85849557593419), (30.968421789180173, 40.858532854690985), (30.968643546293805, 40.85854834811714), (30.96886575059968, 40.858541905279964), (31.045040814839332, 40.85256080026621), (31.156698255319224, 40.8499213716301), (31.156915535957662, 40.84990569711323), (31.157130285905634, 40.84986910440678), (31.16760394811196, 40.84755824341302), (31.167834587940494, 40.847494334304656), (31.168057144036904, 40.84740631221317), (31.16826910334814, 40.84729517106409), (31.168468072477655, 40.84716216583811), (31.168651804711093, 40.84700879840012), (31.16881822538567, 40.84683680054051), (31.179455156496434, 40.83460481189563), (31.266663085411, 40.788141055770396), (31.3161426\n",
      "2024-02-24 11:12:02,872 - 0 results returned.\n",
      "2024-02-24 11:12:02,873 - Searching catalog with search_parameters: {'datetime': '2024-01-01T00:00:00Z/2024-12-31T23:59:59Z', 'intersects': {'type': 'Polygon', 'coordinates': (((30.561469902723548, 40.757675868297596), (30.71620979692899, 40.792099699651004), (30.73882202462908, 40.79860495285483), (30.747173606831108, 40.80533553140583), (30.747361802150873, 40.80547180579962), (30.747563036018636, 40.805587965686186), (30.747775166699206, 40.805682774774056), (30.74799593648245, 40.80575522400863), (30.764446826467374, 40.810228324914284), (30.773799805996664, 40.814667731027676), (30.774051167792575, 40.81476899400867), (30.774312872059745, 40.81483933475298), (30.7902253982087, 40.81810436476776), (30.790534347023847, 40.818145737648386), (30.80124262088376, 40.81883059325288), (30.810598127610525, 40.82431187750774), (30.81081319812792, 40.82442281684095), (30.81103893004642, 40.82451004048498), (30.8112727173252, 40.824572541456064), (30.844267586740404, 40.83151836296965), (30.84447361641258, 40.83155185026991), (30.844681861465222, 40.83156611992804), (30.844890533252094, 40.831561049379914), (30.864393554231814, 40.830180868030666), (30.9092131331501, 40.83534921848561), (30.95187596378321, 40.85483030575654), (30.952096363655937, 40.854917247040184), (30.95232467725239, 40.854980554167554), (30.968202639555507, 40.85849557593419), (30.968421789180173, 40.858532854690985), (30.968643546293805, 40.85854834811714), (30.96886575059968, 40.858541905279964), (31.045040814839332, 40.85256080026621), (31.156698255319224, 40.8499213716301), (31.156915535957662, 40.84990569711323), (31.157130285905634, 40.84986910440678), (31.16760394811196, 40.84755824341302), (31.167834587940494, 40.847494334304656), (31.168057144036904, 40.84740631221317), (31.16826910334814, 40.84729517106409), (31.168468072477655, 40.84716216583811), (31.168651804711093, 40.84700879840012), (31.16881822538567, 40.84683680054051), (31.179455156496434, 40.83460481189563), (31.266663085411, 40.788141055770396), (31.3161426\n"
     ]
    },
    {
     "name": "stdout",
     "output_type": "stream",
     "text": [
      "Search results for collection 'vexcel-jp-6cm-trueortho':\n",
      "Search results in JSON format: {'type': 'FeatureCollection', 'features': [], 'bbox': (nan, nan, nan, nan)}\n",
      "Search results in DataFrame format:\n",
      "Empty GeoDataFrame\n",
      "Columns: [geometry]\n",
      "Index: []\n"
     ]
    },
    {
     "name": "stderr",
     "output_type": "stream",
     "text": [
      "2024-02-24 11:12:03,328 - 0 results returned.\n",
      "2024-02-24 11:12:03,328 - Searching catalog with search_parameters: {'datetime': '2024-01-01T00:00:00Z/2024-12-31T23:59:59Z', 'intersects': {'type': 'Polygon', 'coordinates': (((30.561469902723548, 40.757675868297596), (30.71620979692899, 40.792099699651004), (30.73882202462908, 40.79860495285483), (30.747173606831108, 40.80533553140583), (30.747361802150873, 40.80547180579962), (30.747563036018636, 40.805587965686186), (30.747775166699206, 40.805682774774056), (30.74799593648245, 40.80575522400863), (30.764446826467374, 40.810228324914284), (30.773799805996664, 40.814667731027676), (30.774051167792575, 40.81476899400867), (30.774312872059745, 40.81483933475298), (30.7902253982087, 40.81810436476776), (30.790534347023847, 40.818145737648386), (30.80124262088376, 40.81883059325288), (30.810598127610525, 40.82431187750774), (30.81081319812792, 40.82442281684095), (30.81103893004642, 40.82451004048498), (30.8112727173252, 40.824572541456064), (30.844267586740404, 40.83151836296965), (30.84447361641258, 40.83155185026991), (30.844681861465222, 40.83156611992804), (30.844890533252094, 40.831561049379914), (30.864393554231814, 40.830180868030666), (30.9092131331501, 40.83534921848561), (30.95187596378321, 40.85483030575654), (30.952096363655937, 40.854917247040184), (30.95232467725239, 40.854980554167554), (30.968202639555507, 40.85849557593419), (30.968421789180173, 40.858532854690985), (30.968643546293805, 40.85854834811714), (30.96886575059968, 40.858541905279964), (31.045040814839332, 40.85256080026621), (31.156698255319224, 40.8499213716301), (31.156915535957662, 40.84990569711323), (31.157130285905634, 40.84986910440678), (31.16760394811196, 40.84755824341302), (31.167834587940494, 40.847494334304656), (31.168057144036904, 40.84740631221317), (31.16826910334814, 40.84729517106409), (31.168468072477655, 40.84716216583811), (31.168651804711093, 40.84700879840012), (31.16881822538567, 40.84683680054051), (31.179455156496434, 40.83460481189563), (31.266663085411, 40.788141055770396), (31.3161426\n",
      "2024-02-24 11:12:03,729 - 0 results returned.\n",
      "2024-02-24 11:12:03,743 - Searching catalog with search_parameters: {'datetime': '2024-01-01T00:00:00Z/2024-12-31T23:59:59Z', 'intersects': {'type': 'Polygon', 'coordinates': (((30.561469902723548, 40.757675868297596), (30.71620979692899, 40.792099699651004), (30.73882202462908, 40.79860495285483), (30.747173606831108, 40.80533553140583), (30.747361802150873, 40.80547180579962), (30.747563036018636, 40.805587965686186), (30.747775166699206, 40.805682774774056), (30.74799593648245, 40.80575522400863), (30.764446826467374, 40.810228324914284), (30.773799805996664, 40.814667731027676), (30.774051167792575, 40.81476899400867), (30.774312872059745, 40.81483933475298), (30.7902253982087, 40.81810436476776), (30.790534347023847, 40.818145737648386), (30.80124262088376, 40.81883059325288), (30.810598127610525, 40.82431187750774), (30.81081319812792, 40.82442281684095), (30.81103893004642, 40.82451004048498), (30.8112727173252, 40.824572541456064), (30.844267586740404, 40.83151836296965), (30.84447361641258, 40.83155185026991), (30.844681861465222, 40.83156611992804), (30.844890533252094, 40.831561049379914), (30.864393554231814, 40.830180868030666), (30.9092131331501, 40.83534921848561), (30.95187596378321, 40.85483030575654), (30.952096363655937, 40.854917247040184), (30.95232467725239, 40.854980554167554), (30.968202639555507, 40.85849557593419), (30.968421789180173, 40.858532854690985), (30.968643546293805, 40.85854834811714), (30.96886575059968, 40.858541905279964), (31.045040814839332, 40.85256080026621), (31.156698255319224, 40.8499213716301), (31.156915535957662, 40.84990569711323), (31.157130285905634, 40.84986910440678), (31.16760394811196, 40.84755824341302), (31.167834587940494, 40.847494334304656), (31.168057144036904, 40.84740631221317), (31.16826910334814, 40.84729517106409), (31.168468072477655, 40.84716216583811), (31.168651804711093, 40.84700879840012), (31.16881822538567, 40.84683680054051), (31.179455156496434, 40.83460481189563), (31.266663085411, 40.788141055770396), (31.3161426\n"
     ]
    },
    {
     "name": "stdout",
     "output_type": "stream",
     "text": [
      "Search results for collection 'vexcel-weu-6cm-trueortho':\n",
      "Search results in JSON format: {'type': 'FeatureCollection', 'features': [], 'bbox': (nan, nan, nan, nan)}\n",
      "Search results in DataFrame format:\n",
      "Empty GeoDataFrame\n",
      "Columns: [geometry]\n",
      "Index: []\n"
     ]
    },
    {
     "name": "stderr",
     "output_type": "stream",
     "text": [
      "2024-02-24 11:12:04,079 - 0 results returned.\n",
      "2024-02-24 11:12:04,079 - Searching catalog with search_parameters: {'datetime': '2024-01-01T00:00:00Z/2024-12-31T23:59:59Z', 'intersects': {'type': 'Polygon', 'coordinates': (((30.561469902723548, 40.757675868297596), (30.71620979692899, 40.792099699651004), (30.73882202462908, 40.79860495285483), (30.747173606831108, 40.80533553140583), (30.747361802150873, 40.80547180579962), (30.747563036018636, 40.805587965686186), (30.747775166699206, 40.805682774774056), (30.74799593648245, 40.80575522400863), (30.764446826467374, 40.810228324914284), (30.773799805996664, 40.814667731027676), (30.774051167792575, 40.81476899400867), (30.774312872059745, 40.81483933475298), (30.7902253982087, 40.81810436476776), (30.790534347023847, 40.818145737648386), (30.80124262088376, 40.81883059325288), (30.810598127610525, 40.82431187750774), (30.81081319812792, 40.82442281684095), (30.81103893004642, 40.82451004048498), (30.8112727173252, 40.824572541456064), (30.844267586740404, 40.83151836296965), (30.84447361641258, 40.83155185026991), (30.844681861465222, 40.83156611992804), (30.844890533252094, 40.831561049379914), (30.864393554231814, 40.830180868030666), (30.9092131331501, 40.83534921848561), (30.95187596378321, 40.85483030575654), (30.952096363655937, 40.854917247040184), (30.95232467725239, 40.854980554167554), (30.968202639555507, 40.85849557593419), (30.968421789180173, 40.858532854690985), (30.968643546293805, 40.85854834811714), (30.96886575059968, 40.858541905279964), (31.045040814839332, 40.85256080026621), (31.156698255319224, 40.8499213716301), (31.156915535957662, 40.84990569711323), (31.157130285905634, 40.84986910440678), (31.16760394811196, 40.84755824341302), (31.167834587940494, 40.847494334304656), (31.168057144036904, 40.84740631221317), (31.16826910334814, 40.84729517106409), (31.168468072477655, 40.84716216583811), (31.168651804711093, 40.84700879840012), (31.16881822538567, 40.84683680054051), (31.179455156496434, 40.83460481189563), (31.266663085411, 40.788141055770396), (31.3161426\n",
      "2024-02-24 11:12:04,462 - 0 results returned.\n",
      "2024-02-24 11:12:04,462 - Searching catalog with search_parameters: {'datetime': '2024-01-01T00:00:00Z/2024-12-31T23:59:59Z', 'intersects': {'type': 'Polygon', 'coordinates': (((30.561469902723548, 40.757675868297596), (30.71620979692899, 40.792099699651004), (30.73882202462908, 40.79860495285483), (30.747173606831108, 40.80533553140583), (30.747361802150873, 40.80547180579962), (30.747563036018636, 40.805587965686186), (30.747775166699206, 40.805682774774056), (30.74799593648245, 40.80575522400863), (30.764446826467374, 40.810228324914284), (30.773799805996664, 40.814667731027676), (30.774051167792575, 40.81476899400867), (30.774312872059745, 40.81483933475298), (30.7902253982087, 40.81810436476776), (30.790534347023847, 40.818145737648386), (30.80124262088376, 40.81883059325288), (30.810598127610525, 40.82431187750774), (30.81081319812792, 40.82442281684095), (30.81103893004642, 40.82451004048498), (30.8112727173252, 40.824572541456064), (30.844267586740404, 40.83151836296965), (30.84447361641258, 40.83155185026991), (30.844681861465222, 40.83156611992804), (30.844890533252094, 40.831561049379914), (30.864393554231814, 40.830180868030666), (30.9092131331501, 40.83534921848561), (30.95187596378321, 40.85483030575654), (30.952096363655937, 40.854917247040184), (30.95232467725239, 40.854980554167554), (30.968202639555507, 40.85849557593419), (30.968421789180173, 40.858532854690985), (30.968643546293805, 40.85854834811714), (30.96886575059968, 40.858541905279964), (31.045040814839332, 40.85256080026621), (31.156698255319224, 40.8499213716301), (31.156915535957662, 40.84990569711323), (31.157130285905634, 40.84986910440678), (31.16760394811196, 40.84755824341302), (31.167834587940494, 40.847494334304656), (31.168057144036904, 40.84740631221317), (31.16826910334814, 40.84729517106409), (31.168468072477655, 40.84716216583811), (31.168651804711093, 40.84700879840012), (31.16881822538567, 40.84683680054051), (31.179455156496434, 40.83460481189563), (31.266663085411, 40.788141055770396), (31.3161426\n"
     ]
    },
    {
     "name": "stdout",
     "output_type": "stream",
     "text": [
      "Search results for collection 'vexcel-us-6cm-trueortho':\n",
      "Search results in JSON format: {'type': 'FeatureCollection', 'features': [], 'bbox': (nan, nan, nan, nan)}\n",
      "Search results in DataFrame format:\n",
      "Empty GeoDataFrame\n",
      "Columns: [geometry]\n",
      "Index: []\n"
     ]
    },
    {
     "name": "stderr",
     "output_type": "stream",
     "text": [
      "2024-02-24 11:12:04,854 - 0 results returned.\n",
      "2024-02-24 11:12:04,854 - Searching catalog with search_parameters: {'datetime': '2024-01-01T00:00:00Z/2024-12-31T23:59:59Z', 'intersects': {'type': 'Polygon', 'coordinates': (((30.561469902723548, 40.757675868297596), (30.71620979692899, 40.792099699651004), (30.73882202462908, 40.79860495285483), (30.747173606831108, 40.80533553140583), (30.747361802150873, 40.80547180579962), (30.747563036018636, 40.805587965686186), (30.747775166699206, 40.805682774774056), (30.74799593648245, 40.80575522400863), (30.764446826467374, 40.810228324914284), (30.773799805996664, 40.814667731027676), (30.774051167792575, 40.81476899400867), (30.774312872059745, 40.81483933475298), (30.7902253982087, 40.81810436476776), (30.790534347023847, 40.818145737648386), (30.80124262088376, 40.81883059325288), (30.810598127610525, 40.82431187750774), (30.81081319812792, 40.82442281684095), (30.81103893004642, 40.82451004048498), (30.8112727173252, 40.824572541456064), (30.844267586740404, 40.83151836296965), (30.84447361641258, 40.83155185026991), (30.844681861465222, 40.83156611992804), (30.844890533252094, 40.831561049379914), (30.864393554231814, 40.830180868030666), (30.9092131331501, 40.83534921848561), (30.95187596378321, 40.85483030575654), (30.952096363655937, 40.854917247040184), (30.95232467725239, 40.854980554167554), (30.968202639555507, 40.85849557593419), (30.968421789180173, 40.858532854690985), (30.968643546293805, 40.85854834811714), (30.96886575059968, 40.858541905279964), (31.045040814839332, 40.85256080026621), (31.156698255319224, 40.8499213716301), (31.156915535957662, 40.84990569711323), (31.157130285905634, 40.84986910440678), (31.16760394811196, 40.84755824341302), (31.167834587940494, 40.847494334304656), (31.168057144036904, 40.84740631221317), (31.16826910334814, 40.84729517106409), (31.168468072477655, 40.84716216583811), (31.168651804711093, 40.84700879840012), (31.16881822538567, 40.84683680054051), (31.179455156496434, 40.83460481189563), (31.266663085411, 40.788141055770396), (31.3161426\n",
      "2024-02-24 11:12:05,227 - 0 results returned.\n",
      "2024-02-24 11:12:05,240 - Searching catalog with search_parameters: {'datetime': '2024-01-01T00:00:00Z/2024-12-31T23:59:59Z', 'intersects': {'type': 'Polygon', 'coordinates': (((30.561469902723548, 40.757675868297596), (30.71620979692899, 40.792099699651004), (30.73882202462908, 40.79860495285483), (30.747173606831108, 40.80533553140583), (30.747361802150873, 40.80547180579962), (30.747563036018636, 40.805587965686186), (30.747775166699206, 40.805682774774056), (30.74799593648245, 40.80575522400863), (30.764446826467374, 40.810228324914284), (30.773799805996664, 40.814667731027676), (30.774051167792575, 40.81476899400867), (30.774312872059745, 40.81483933475298), (30.7902253982087, 40.81810436476776), (30.790534347023847, 40.818145737648386), (30.80124262088376, 40.81883059325288), (30.810598127610525, 40.82431187750774), (30.81081319812792, 40.82442281684095), (30.81103893004642, 40.82451004048498), (30.8112727173252, 40.824572541456064), (30.844267586740404, 40.83151836296965), (30.84447361641258, 40.83155185026991), (30.844681861465222, 40.83156611992804), (30.844890533252094, 40.831561049379914), (30.864393554231814, 40.830180868030666), (30.9092131331501, 40.83534921848561), (30.95187596378321, 40.85483030575654), (30.952096363655937, 40.854917247040184), (30.95232467725239, 40.854980554167554), (30.968202639555507, 40.85849557593419), (30.968421789180173, 40.858532854690985), (30.968643546293805, 40.85854834811714), (30.96886575059968, 40.858541905279964), (31.045040814839332, 40.85256080026621), (31.156698255319224, 40.8499213716301), (31.156915535957662, 40.84990569711323), (31.157130285905634, 40.84986910440678), (31.16760394811196, 40.84755824341302), (31.167834587940494, 40.847494334304656), (31.168057144036904, 40.84740631221317), (31.16826910334814, 40.84729517106409), (31.168468072477655, 40.84716216583811), (31.168651804711093, 40.84700879840012), (31.16881822538567, 40.84683680054051), (31.179455156496434, 40.83460481189563), (31.266663085411, 40.788141055770396), (31.3161426\n"
     ]
    },
    {
     "name": "stdout",
     "output_type": "stream",
     "text": [
      "Search results for collection 'vexcel-weu-6cm-oblique':\n",
      "Search results in JSON format: {'type': 'FeatureCollection', 'features': [], 'bbox': (nan, nan, nan, nan)}\n",
      "Search results in DataFrame format:\n",
      "Empty GeoDataFrame\n",
      "Columns: [geometry]\n",
      "Index: []\n"
     ]
    },
    {
     "name": "stderr",
     "output_type": "stream",
     "text": [
      "2024-02-24 11:12:06,941 - 0 results returned.\n",
      "2024-02-24 11:12:06,941 - Searching catalog with search_parameters: {'datetime': '2024-01-01T00:00:00Z/2024-12-31T23:59:59Z', 'intersects': {'type': 'Polygon', 'coordinates': (((30.561469902723548, 40.757675868297596), (30.71620979692899, 40.792099699651004), (30.73882202462908, 40.79860495285483), (30.747173606831108, 40.80533553140583), (30.747361802150873, 40.80547180579962), (30.747563036018636, 40.805587965686186), (30.747775166699206, 40.805682774774056), (30.74799593648245, 40.80575522400863), (30.764446826467374, 40.810228324914284), (30.773799805996664, 40.814667731027676), (30.774051167792575, 40.81476899400867), (30.774312872059745, 40.81483933475298), (30.7902253982087, 40.81810436476776), (30.790534347023847, 40.818145737648386), (30.80124262088376, 40.81883059325288), (30.810598127610525, 40.82431187750774), (30.81081319812792, 40.82442281684095), (30.81103893004642, 40.82451004048498), (30.8112727173252, 40.824572541456064), (30.844267586740404, 40.83151836296965), (30.84447361641258, 40.83155185026991), (30.844681861465222, 40.83156611992804), (30.844890533252094, 40.831561049379914), (30.864393554231814, 40.830180868030666), (30.9092131331501, 40.83534921848561), (30.95187596378321, 40.85483030575654), (30.952096363655937, 40.854917247040184), (30.95232467725239, 40.854980554167554), (30.968202639555507, 40.85849557593419), (30.968421789180173, 40.858532854690985), (30.968643546293805, 40.85854834811714), (30.96886575059968, 40.858541905279964), (31.045040814839332, 40.85256080026621), (31.156698255319224, 40.8499213716301), (31.156915535957662, 40.84990569711323), (31.157130285905634, 40.84986910440678), (31.16760394811196, 40.84755824341302), (31.167834587940494, 40.847494334304656), (31.168057144036904, 40.84740631221317), (31.16826910334814, 40.84729517106409), (31.168468072477655, 40.84716216583811), (31.168651804711093, 40.84700879840012), (31.16881822538567, 40.84683680054051), (31.179455156496434, 40.83460481189563), (31.266663085411, 40.788141055770396), (31.3161426\n",
      "2024-02-24 11:12:07,830 - 0 results returned.\n",
      "2024-02-24 11:12:07,839 - Searching catalog with search_parameters: {'datetime': '2024-01-01T00:00:00Z/2024-12-31T23:59:59Z', 'intersects': {'type': 'Polygon', 'coordinates': (((30.561469902723548, 40.757675868297596), (30.71620979692899, 40.792099699651004), (30.73882202462908, 40.79860495285483), (30.747173606831108, 40.80533553140583), (30.747361802150873, 40.80547180579962), (30.747563036018636, 40.805587965686186), (30.747775166699206, 40.805682774774056), (30.74799593648245, 40.80575522400863), (30.764446826467374, 40.810228324914284), (30.773799805996664, 40.814667731027676), (30.774051167792575, 40.81476899400867), (30.774312872059745, 40.81483933475298), (30.7902253982087, 40.81810436476776), (30.790534347023847, 40.818145737648386), (30.80124262088376, 40.81883059325288), (30.810598127610525, 40.82431187750774), (30.81081319812792, 40.82442281684095), (30.81103893004642, 40.82451004048498), (30.8112727173252, 40.824572541456064), (30.844267586740404, 40.83151836296965), (30.84447361641258, 40.83155185026991), (30.844681861465222, 40.83156611992804), (30.844890533252094, 40.831561049379914), (30.864393554231814, 40.830180868030666), (30.9092131331501, 40.83534921848561), (30.95187596378321, 40.85483030575654), (30.952096363655937, 40.854917247040184), (30.95232467725239, 40.854980554167554), (30.968202639555507, 40.85849557593419), (30.968421789180173, 40.858532854690985), (30.968643546293805, 40.85854834811714), (30.96886575059968, 40.858541905279964), (31.045040814839332, 40.85256080026621), (31.156698255319224, 40.8499213716301), (31.156915535957662, 40.84990569711323), (31.157130285905634, 40.84986910440678), (31.16760394811196, 40.84755824341302), (31.167834587940494, 40.847494334304656), (31.168057144036904, 40.84740631221317), (31.16826910334814, 40.84729517106409), (31.168468072477655, 40.84716216583811), (31.168651804711093, 40.84700879840012), (31.16881822538567, 40.84683680054051), (31.179455156496434, 40.83460481189563), (31.266663085411, 40.788141055770396), (31.3161426\n"
     ]
    },
    {
     "name": "stdout",
     "output_type": "stream",
     "text": [
      "Search results for collection 'eros-b':\n",
      "Search results in JSON format: {'type': 'FeatureCollection', 'features': [], 'bbox': (nan, nan, nan, nan)}\n",
      "Search results in DataFrame format:\n",
      "Empty GeoDataFrame\n",
      "Columns: [geometry]\n",
      "Index: []\n"
     ]
    },
    {
     "name": "stderr",
     "output_type": "stream",
     "text": [
      "2024-02-24 11:12:08,242 - 0 results returned.\n",
      "2024-02-24 11:12:08,244 - Searching catalog with search_parameters: {'datetime': '2024-01-01T00:00:00Z/2024-12-31T23:59:59Z', 'intersects': {'type': 'Polygon', 'coordinates': (((30.561469902723548, 40.757675868297596), (30.71620979692899, 40.792099699651004), (30.73882202462908, 40.79860495285483), (30.747173606831108, 40.80533553140583), (30.747361802150873, 40.80547180579962), (30.747563036018636, 40.805587965686186), (30.747775166699206, 40.805682774774056), (30.74799593648245, 40.80575522400863), (30.764446826467374, 40.810228324914284), (30.773799805996664, 40.814667731027676), (30.774051167792575, 40.81476899400867), (30.774312872059745, 40.81483933475298), (30.7902253982087, 40.81810436476776), (30.790534347023847, 40.818145737648386), (30.80124262088376, 40.81883059325288), (30.810598127610525, 40.82431187750774), (30.81081319812792, 40.82442281684095), (30.81103893004642, 40.82451004048498), (30.8112727173252, 40.824572541456064), (30.844267586740404, 40.83151836296965), (30.84447361641258, 40.83155185026991), (30.844681861465222, 40.83156611992804), (30.844890533252094, 40.831561049379914), (30.864393554231814, 40.830180868030666), (30.9092131331501, 40.83534921848561), (30.95187596378321, 40.85483030575654), (30.952096363655937, 40.854917247040184), (30.95232467725239, 40.854980554167554), (30.968202639555507, 40.85849557593419), (30.968421789180173, 40.858532854690985), (30.968643546293805, 40.85854834811714), (30.96886575059968, 40.858541905279964), (31.045040814839332, 40.85256080026621), (31.156698255319224, 40.8499213716301), (31.156915535957662, 40.84990569711323), (31.157130285905634, 40.84986910440678), (31.16760394811196, 40.84755824341302), (31.167834587940494, 40.847494334304656), (31.168057144036904, 40.84740631221317), (31.16826910334814, 40.84729517106409), (31.168468072477655, 40.84716216583811), (31.168651804711093, 40.84700879840012), (31.16881822538567, 40.84683680054051), (31.179455156496434, 40.83460481189563), (31.266663085411, 40.788141055770396), (31.3161426\n",
      "2024-02-24 11:12:08,581 - 0 results returned.\n",
      "2024-02-24 11:12:08,590 - Searching catalog with search_parameters: {'datetime': '2024-01-01T00:00:00Z/2024-12-31T23:59:59Z', 'intersects': {'type': 'Polygon', 'coordinates': (((30.561469902723548, 40.757675868297596), (30.71620979692899, 40.792099699651004), (30.73882202462908, 40.79860495285483), (30.747173606831108, 40.80533553140583), (30.747361802150873, 40.80547180579962), (30.747563036018636, 40.805587965686186), (30.747775166699206, 40.805682774774056), (30.74799593648245, 40.80575522400863), (30.764446826467374, 40.810228324914284), (30.773799805996664, 40.814667731027676), (30.774051167792575, 40.81476899400867), (30.774312872059745, 40.81483933475298), (30.7902253982087, 40.81810436476776), (30.790534347023847, 40.818145737648386), (30.80124262088376, 40.81883059325288), (30.810598127610525, 40.82431187750774), (30.81081319812792, 40.82442281684095), (30.81103893004642, 40.82451004048498), (30.8112727173252, 40.824572541456064), (30.844267586740404, 40.83151836296965), (30.84447361641258, 40.83155185026991), (30.844681861465222, 40.83156611992804), (30.844890533252094, 40.831561049379914), (30.864393554231814, 40.830180868030666), (30.9092131331501, 40.83534921848561), (30.95187596378321, 40.85483030575654), (30.952096363655937, 40.854917247040184), (30.95232467725239, 40.854980554167554), (30.968202639555507, 40.85849557593419), (30.968421789180173, 40.858532854690985), (30.968643546293805, 40.85854834811714), (30.96886575059968, 40.858541905279964), (31.045040814839332, 40.85256080026621), (31.156698255319224, 40.8499213716301), (31.156915535957662, 40.84990569711323), (31.157130285905634, 40.84986910440678), (31.16760394811196, 40.84755824341302), (31.167834587940494, 40.847494334304656), (31.168057144036904, 40.84740631221317), (31.16826910334814, 40.84729517106409), (31.168468072477655, 40.84716216583811), (31.168651804711093, 40.84700879840012), (31.16881822538567, 40.84683680054051), (31.179455156496434, 40.83460481189563), (31.266663085411, 40.788141055770396), (31.3161426\n"
     ]
    },
    {
     "name": "stdout",
     "output_type": "stream",
     "text": [
      "Search results for collection 'vexcel-weu-15cm-ortho':\n",
      "Search results in JSON format: {'type': 'FeatureCollection', 'features': [], 'bbox': (nan, nan, nan, nan)}\n",
      "Search results in DataFrame format:\n",
      "Empty GeoDataFrame\n",
      "Columns: [geometry]\n",
      "Index: []\n"
     ]
    },
    {
     "name": "stderr",
     "output_type": "stream",
     "text": [
      "2024-02-24 11:12:09,582 - 0 results returned.\n",
      "2024-02-24 11:12:09,583 - Searching catalog with search_parameters: {'datetime': '2024-01-01T00:00:00Z/2024-12-31T23:59:59Z', 'intersects': {'type': 'Polygon', 'coordinates': (((30.561469902723548, 40.757675868297596), (30.71620979692899, 40.792099699651004), (30.73882202462908, 40.79860495285483), (30.747173606831108, 40.80533553140583), (30.747361802150873, 40.80547180579962), (30.747563036018636, 40.805587965686186), (30.747775166699206, 40.805682774774056), (30.74799593648245, 40.80575522400863), (30.764446826467374, 40.810228324914284), (30.773799805996664, 40.814667731027676), (30.774051167792575, 40.81476899400867), (30.774312872059745, 40.81483933475298), (30.7902253982087, 40.81810436476776), (30.790534347023847, 40.818145737648386), (30.80124262088376, 40.81883059325288), (30.810598127610525, 40.82431187750774), (30.81081319812792, 40.82442281684095), (30.81103893004642, 40.82451004048498), (30.8112727173252, 40.824572541456064), (30.844267586740404, 40.83151836296965), (30.84447361641258, 40.83155185026991), (30.844681861465222, 40.83156611992804), (30.844890533252094, 40.831561049379914), (30.864393554231814, 40.830180868030666), (30.9092131331501, 40.83534921848561), (30.95187596378321, 40.85483030575654), (30.952096363655937, 40.854917247040184), (30.95232467725239, 40.854980554167554), (30.968202639555507, 40.85849557593419), (30.968421789180173, 40.858532854690985), (30.968643546293805, 40.85854834811714), (30.96886575059968, 40.858541905279964), (31.045040814839332, 40.85256080026621), (31.156698255319224, 40.8499213716301), (31.156915535957662, 40.84990569711323), (31.157130285905634, 40.84986910440678), (31.16760394811196, 40.84755824341302), (31.167834587940494, 40.847494334304656), (31.168057144036904, 40.84740631221317), (31.16826910334814, 40.84729517106409), (31.168468072477655, 40.84716216583811), (31.168651804711093, 40.84700879840012), (31.16881822538567, 40.84683680054051), (31.179455156496434, 40.83460481189563), (31.266663085411, 40.788141055770396), (31.3161426\n",
      "2024-02-24 11:12:10,495 - 0 results returned.\n"
     ]
    },
    {
     "name": "stdout",
     "output_type": "stream",
     "text": [
      "Search results for collection 'eros-c':\n",
      "Search results in JSON format: {'type': 'FeatureCollection', 'features': [], 'bbox': (nan, nan, nan, nan)}\n",
      "Search results in DataFrame format:\n",
      "Empty GeoDataFrame\n",
      "Columns: [geometry]\n",
      "Index: []\n"
     ]
    }
   ],
   "source": [
    "def search_catalog(collections, geometry, start_date, end_date, max_cloudcover=20, limit=10):\n",
    "    \"\"\"\n",
    "    Search the catalog based on the specified parameters.\n",
    "    \n",
    "    Parameters:\n",
    "    - collections (list of str): Names of the collections to search.\n",
    "    - geometry (dict): Geometry of the area of interest.\n",
    "    - start_date (str): Start date of the search (YYYY-MM-DD).\n",
    "    - end_date (str): End date of the search (YYYY-MM-DD).\n",
    "    - max_cloudcover (int): Maximum cloud cover percentage allowed.\n",
    "    - limit (int): Maximum number of search results to return.\n",
    "    \n",
    "    Returns:\n",
    "    - search_results_json (list): Search results in JSON format.\n",
    "    - search_results_df (DataFrame): Search results in DataFrame format.\n",
    "    \"\"\"\n",
    "    # Construct search parameters\n",
    "    search_parameters = catalog.construct_search_parameters(\n",
    "        collections=collections,\n",
    "        geometry=aoi,\n",
    "        start_date=start_date,\n",
    "        end_date=end_date,\n",
    "        max_cloudcover=max_cloudcover,\n",
    "        limit=limit\n",
    "    )\n",
    "    \n",
    "    # Search the catalog and retrieve results\n",
    "    search_results_json = catalog.search(search_parameters, as_dataframe=False)\n",
    "    search_results_df = catalog.search(search_parameters, as_dataframe=True)\n",
    "    \n",
    "    return search_results_json, search_results_df\n",
    "\n",
    "for collection in catalog_names_array:\n",
    "    search_results_json, search_results_df = search_catalog([collection], aoi, start_date, end_date, max_cloudcover, limit)\n",
    "    \n",
    "    # Process search results as needed\n",
    "    print(f\"Search results for collection '{collection}':\")\n",
    "    print(\"Search results in JSON format:\", search_results_json)\n",
    "    print(\"Search results in DataFrame format:\")\n",
    "    print(search_results_df)\n"
   ]
  },
  {
   "cell_type": "code",
   "execution_count": 127,
   "metadata": {},
   "outputs": [
    {
     "name": "stderr",
     "output_type": "stream",
     "text": [
      "2024-02-24 11:13:30,795 - Searching catalog with search_parameters: {'datetime': '2024-01-01T00:00:00Z/2024-12-31T23:59:59Z', 'intersects': {'type': 'Polygon', 'coordinates': (((30.561469902723548, 40.757675868297596), (30.71620979692899, 40.792099699651004), (30.73882202462908, 40.79860495285483), (30.747173606831108, 40.80533553140583), (30.747361802150873, 40.80547180579962), (30.747563036018636, 40.805587965686186), (30.747775166699206, 40.805682774774056), (30.74799593648245, 40.80575522400863), (30.764446826467374, 40.810228324914284), (30.773799805996664, 40.814667731027676), (30.774051167792575, 40.81476899400867), (30.774312872059745, 40.81483933475298), (30.7902253982087, 40.81810436476776), (30.790534347023847, 40.818145737648386), (30.80124262088376, 40.81883059325288), (30.810598127610525, 40.82431187750774), (30.81081319812792, 40.82442281684095), (30.81103893004642, 40.82451004048498), (30.8112727173252, 40.824572541456064), (30.844267586740404, 40.83151836296965), (30.84447361641258, 40.83155185026991), (30.844681861465222, 40.83156611992804), (30.844890533252094, 40.831561049379914), (30.864393554231814, 40.830180868030666), (30.9092131331501, 40.83534921848561), (30.95187596378321, 40.85483030575654), (30.952096363655937, 40.854917247040184), (30.95232467725239, 40.854980554167554), (30.968202639555507, 40.85849557593419), (30.968421789180173, 40.858532854690985), (30.968643546293805, 40.85854834811714), (30.96886575059968, 40.858541905279964), (31.045040814839332, 40.85256080026621), (31.156698255319224, 40.8499213716301), (31.156915535957662, 40.84990569711323), (31.157130285905634, 40.84986910440678), (31.16760394811196, 40.84755824341302), (31.167834587940494, 40.847494334304656), (31.168057144036904, 40.84740631221317), (31.16826910334814, 40.84729517106409), (31.168468072477655, 40.84716216583811), (31.168651804711093, 40.84700879840012), (31.16881822538567, 40.84683680054051), (31.179455156496434, 40.83460481189563), (31.266663085411, 40.788141055770396), (31.3161426\n",
      "2024-02-24 11:13:31,323 - 0 results returned.\n",
      "2024-02-24 11:13:31,324 - Searching catalog with search_parameters: {'datetime': '2024-01-01T00:00:00Z/2024-12-31T23:59:59Z', 'intersects': {'type': 'Polygon', 'coordinates': (((30.561469902723548, 40.757675868297596), (30.71620979692899, 40.792099699651004), (30.73882202462908, 40.79860495285483), (30.747173606831108, 40.80533553140583), (30.747361802150873, 40.80547180579962), (30.747563036018636, 40.805587965686186), (30.747775166699206, 40.805682774774056), (30.74799593648245, 40.80575522400863), (30.764446826467374, 40.810228324914284), (30.773799805996664, 40.814667731027676), (30.774051167792575, 40.81476899400867), (30.774312872059745, 40.81483933475298), (30.7902253982087, 40.81810436476776), (30.790534347023847, 40.818145737648386), (30.80124262088376, 40.81883059325288), (30.810598127610525, 40.82431187750774), (30.81081319812792, 40.82442281684095), (30.81103893004642, 40.82451004048498), (30.8112727173252, 40.824572541456064), (30.844267586740404, 40.83151836296965), (30.84447361641258, 40.83155185026991), (30.844681861465222, 40.83156611992804), (30.844890533252094, 40.831561049379914), (30.864393554231814, 40.830180868030666), (30.9092131331501, 40.83534921848561), (30.95187596378321, 40.85483030575654), (30.952096363655937, 40.854917247040184), (30.95232467725239, 40.854980554167554), (30.968202639555507, 40.85849557593419), (30.968421789180173, 40.858532854690985), (30.968643546293805, 40.85854834811714), (30.96886575059968, 40.858541905279964), (31.045040814839332, 40.85256080026621), (31.156698255319224, 40.8499213716301), (31.156915535957662, 40.84990569711323), (31.157130285905634, 40.84986910440678), (31.16760394811196, 40.84755824341302), (31.167834587940494, 40.847494334304656), (31.168057144036904, 40.84740631221317), (31.16826910334814, 40.84729517106409), (31.168468072477655, 40.84716216583811), (31.168651804711093, 40.84700879840012), (31.16881822538567, 40.84683680054051), (31.179455156496434, 40.83460481189563), (31.266663085411, 40.788141055770396), (31.3161426\n",
      "2024-02-24 11:13:31,761 - 0 results returned.\n",
      "2024-02-24 11:13:31,772 - Searching catalog with search_parameters: {'datetime': '2024-01-01T00:00:00Z/2024-12-31T23:59:59Z', 'intersects': {'type': 'Polygon', 'coordinates': (((30.561469902723548, 40.757675868297596), (30.71620979692899, 40.792099699651004), (30.73882202462908, 40.79860495285483), (30.747173606831108, 40.80533553140583), (30.747361802150873, 40.80547180579962), (30.747563036018636, 40.805587965686186), (30.747775166699206, 40.805682774774056), (30.74799593648245, 40.80575522400863), (30.764446826467374, 40.810228324914284), (30.773799805996664, 40.814667731027676), (30.774051167792575, 40.81476899400867), (30.774312872059745, 40.81483933475298), (30.7902253982087, 40.81810436476776), (30.790534347023847, 40.818145737648386), (30.80124262088376, 40.81883059325288), (30.810598127610525, 40.82431187750774), (30.81081319812792, 40.82442281684095), (30.81103893004642, 40.82451004048498), (30.8112727173252, 40.824572541456064), (30.844267586740404, 40.83151836296965), (30.84447361641258, 40.83155185026991), (30.844681861465222, 40.83156611992804), (30.844890533252094, 40.831561049379914), (30.864393554231814, 40.830180868030666), (30.9092131331501, 40.83534921848561), (30.95187596378321, 40.85483030575654), (30.952096363655937, 40.854917247040184), (30.95232467725239, 40.854980554167554), (30.968202639555507, 40.85849557593419), (30.968421789180173, 40.858532854690985), (30.968643546293805, 40.85854834811714), (30.96886575059968, 40.858541905279964), (31.045040814839332, 40.85256080026621), (31.156698255319224, 40.8499213716301), (31.156915535957662, 40.84990569711323), (31.157130285905634, 40.84986910440678), (31.16760394811196, 40.84755824341302), (31.167834587940494, 40.847494334304656), (31.168057144036904, 40.84740631221317), (31.16826910334814, 40.84729517106409), (31.168468072477655, 40.84716216583811), (31.168651804711093, 40.84700879840012), (31.16881822538567, 40.84683680054051), (31.179455156496434, 40.83460481189563), (31.266663085411, 40.788141055770396), (31.3161426\n",
      "2024-02-24 11:13:32,223 - 0 results returned.\n",
      "2024-02-24 11:13:32,223 - Searching catalog with search_parameters: {'datetime': '2024-01-01T00:00:00Z/2024-12-31T23:59:59Z', 'intersects': {'type': 'Polygon', 'coordinates': (((30.561469902723548, 40.757675868297596), (30.71620979692899, 40.792099699651004), (30.73882202462908, 40.79860495285483), (30.747173606831108, 40.80533553140583), (30.747361802150873, 40.80547180579962), (30.747563036018636, 40.805587965686186), (30.747775166699206, 40.805682774774056), (30.74799593648245, 40.80575522400863), (30.764446826467374, 40.810228324914284), (30.773799805996664, 40.814667731027676), (30.774051167792575, 40.81476899400867), (30.774312872059745, 40.81483933475298), (30.7902253982087, 40.81810436476776), (30.790534347023847, 40.818145737648386), (30.80124262088376, 40.81883059325288), (30.810598127610525, 40.82431187750774), (30.81081319812792, 40.82442281684095), (30.81103893004642, 40.82451004048498), (30.8112727173252, 40.824572541456064), (30.844267586740404, 40.83151836296965), (30.84447361641258, 40.83155185026991), (30.844681861465222, 40.83156611992804), (30.844890533252094, 40.831561049379914), (30.864393554231814, 40.830180868030666), (30.9092131331501, 40.83534921848561), (30.95187596378321, 40.85483030575654), (30.952096363655937, 40.854917247040184), (30.95232467725239, 40.854980554167554), (30.968202639555507, 40.85849557593419), (30.968421789180173, 40.858532854690985), (30.968643546293805, 40.85854834811714), (30.96886575059968, 40.858541905279964), (31.045040814839332, 40.85256080026621), (31.156698255319224, 40.8499213716301), (31.156915535957662, 40.84990569711323), (31.157130285905634, 40.84986910440678), (31.16760394811196, 40.84755824341302), (31.167834587940494, 40.847494334304656), (31.168057144036904, 40.84740631221317), (31.16826910334814, 40.84729517106409), (31.168468072477655, 40.84716216583811), (31.168651804711093, 40.84700879840012), (31.16881822538567, 40.84683680054051), (31.179455156496434, 40.83460481189563), (31.266663085411, 40.788141055770396), (31.3161426\n",
      "2024-02-24 11:13:32,657 - 0 results returned.\n",
      "2024-02-24 11:13:32,657 - Searching catalog with search_parameters: {'datetime': '2024-01-01T00:00:00Z/2024-12-31T23:59:59Z', 'intersects': {'type': 'Polygon', 'coordinates': (((30.561469902723548, 40.757675868297596), (30.71620979692899, 40.792099699651004), (30.73882202462908, 40.79860495285483), (30.747173606831108, 40.80533553140583), (30.747361802150873, 40.80547180579962), (30.747563036018636, 40.805587965686186), (30.747775166699206, 40.805682774774056), (30.74799593648245, 40.80575522400863), (30.764446826467374, 40.810228324914284), (30.773799805996664, 40.814667731027676), (30.774051167792575, 40.81476899400867), (30.774312872059745, 40.81483933475298), (30.7902253982087, 40.81810436476776), (30.790534347023847, 40.818145737648386), (30.80124262088376, 40.81883059325288), (30.810598127610525, 40.82431187750774), (30.81081319812792, 40.82442281684095), (30.81103893004642, 40.82451004048498), (30.8112727173252, 40.824572541456064), (30.844267586740404, 40.83151836296965), (30.84447361641258, 40.83155185026991), (30.844681861465222, 40.83156611992804), (30.844890533252094, 40.831561049379914), (30.864393554231814, 40.830180868030666), (30.9092131331501, 40.83534921848561), (30.95187596378321, 40.85483030575654), (30.952096363655937, 40.854917247040184), (30.95232467725239, 40.854980554167554), (30.968202639555507, 40.85849557593419), (30.968421789180173, 40.858532854690985), (30.968643546293805, 40.85854834811714), (30.96886575059968, 40.858541905279964), (31.045040814839332, 40.85256080026621), (31.156698255319224, 40.8499213716301), (31.156915535957662, 40.84990569711323), (31.157130285905634, 40.84986910440678), (31.16760394811196, 40.84755824341302), (31.167834587940494, 40.847494334304656), (31.168057144036904, 40.84740631221317), (31.16826910334814, 40.84729517106409), (31.168468072477655, 40.84716216583811), (31.168651804711093, 40.84700879840012), (31.16881822538567, 40.84683680054051), (31.179455156496434, 40.83460481189563), (31.266663085411, 40.788141055770396), (31.3161426\n",
      "2024-02-24 11:13:33,040 - 0 results returned.\n",
      "2024-02-24 11:13:33,040 - Searching catalog with search_parameters: {'datetime': '2024-01-01T00:00:00Z/2024-12-31T23:59:59Z', 'intersects': {'type': 'Polygon', 'coordinates': (((30.561469902723548, 40.757675868297596), (30.71620979692899, 40.792099699651004), (30.73882202462908, 40.79860495285483), (30.747173606831108, 40.80533553140583), (30.747361802150873, 40.80547180579962), (30.747563036018636, 40.805587965686186), (30.747775166699206, 40.805682774774056), (30.74799593648245, 40.80575522400863), (30.764446826467374, 40.810228324914284), (30.773799805996664, 40.814667731027676), (30.774051167792575, 40.81476899400867), (30.774312872059745, 40.81483933475298), (30.7902253982087, 40.81810436476776), (30.790534347023847, 40.818145737648386), (30.80124262088376, 40.81883059325288), (30.810598127610525, 40.82431187750774), (30.81081319812792, 40.82442281684095), (30.81103893004642, 40.82451004048498), (30.8112727173252, 40.824572541456064), (30.844267586740404, 40.83151836296965), (30.84447361641258, 40.83155185026991), (30.844681861465222, 40.83156611992804), (30.844890533252094, 40.831561049379914), (30.864393554231814, 40.830180868030666), (30.9092131331501, 40.83534921848561), (30.95187596378321, 40.85483030575654), (30.952096363655937, 40.854917247040184), (30.95232467725239, 40.854980554167554), (30.968202639555507, 40.85849557593419), (30.968421789180173, 40.858532854690985), (30.968643546293805, 40.85854834811714), (30.96886575059968, 40.858541905279964), (31.045040814839332, 40.85256080026621), (31.156698255319224, 40.8499213716301), (31.156915535957662, 40.84990569711323), (31.157130285905634, 40.84986910440678), (31.16760394811196, 40.84755824341302), (31.167834587940494, 40.847494334304656), (31.168057144036904, 40.84740631221317), (31.16826910334814, 40.84729517106409), (31.168468072477655, 40.84716216583811), (31.168651804711093, 40.84700879840012), (31.16881822538567, 40.84683680054051), (31.179455156496434, 40.83460481189563), (31.266663085411, 40.788141055770396), (31.3161426\n",
      "2024-02-24 11:13:33,456 - 0 results returned.\n",
      "2024-02-24 11:13:33,456 - Searching catalog with search_parameters: {'datetime': '2024-01-01T00:00:00Z/2024-12-31T23:59:59Z', 'intersects': {'type': 'Polygon', 'coordinates': (((30.561469902723548, 40.757675868297596), (30.71620979692899, 40.792099699651004), (30.73882202462908, 40.79860495285483), (30.747173606831108, 40.80533553140583), (30.747361802150873, 40.80547180579962), (30.747563036018636, 40.805587965686186), (30.747775166699206, 40.805682774774056), (30.74799593648245, 40.80575522400863), (30.764446826467374, 40.810228324914284), (30.773799805996664, 40.814667731027676), (30.774051167792575, 40.81476899400867), (30.774312872059745, 40.81483933475298), (30.7902253982087, 40.81810436476776), (30.790534347023847, 40.818145737648386), (30.80124262088376, 40.81883059325288), (30.810598127610525, 40.82431187750774), (30.81081319812792, 40.82442281684095), (30.81103893004642, 40.82451004048498), (30.8112727173252, 40.824572541456064), (30.844267586740404, 40.83151836296965), (30.84447361641258, 40.83155185026991), (30.844681861465222, 40.83156611992804), (30.844890533252094, 40.831561049379914), (30.864393554231814, 40.830180868030666), (30.9092131331501, 40.83534921848561), (30.95187596378321, 40.85483030575654), (30.952096363655937, 40.854917247040184), (30.95232467725239, 40.854980554167554), (30.968202639555507, 40.85849557593419), (30.968421789180173, 40.858532854690985), (30.968643546293805, 40.85854834811714), (30.96886575059968, 40.858541905279964), (31.045040814839332, 40.85256080026621), (31.156698255319224, 40.8499213716301), (31.156915535957662, 40.84990569711323), (31.157130285905634, 40.84986910440678), (31.16760394811196, 40.84755824341302), (31.167834587940494, 40.847494334304656), (31.168057144036904, 40.84740631221317), (31.16826910334814, 40.84729517106409), (31.168468072477655, 40.84716216583811), (31.168651804711093, 40.84700879840012), (31.16881822538567, 40.84683680054051), (31.179455156496434, 40.83460481189563), (31.266663085411, 40.788141055770396), (31.3161426\n",
      "2024-02-24 11:13:33,953 - 1 results returned.\n",
      "2024-02-24 11:13:33,957 - Searching catalog with search_parameters: {'datetime': '2024-01-01T00:00:00Z/2024-12-31T23:59:59Z', 'intersects': {'type': 'Polygon', 'coordinates': (((30.561469902723548, 40.757675868297596), (30.71620979692899, 40.792099699651004), (30.73882202462908, 40.79860495285483), (30.747173606831108, 40.80533553140583), (30.747361802150873, 40.80547180579962), (30.747563036018636, 40.805587965686186), (30.747775166699206, 40.805682774774056), (30.74799593648245, 40.80575522400863), (30.764446826467374, 40.810228324914284), (30.773799805996664, 40.814667731027676), (30.774051167792575, 40.81476899400867), (30.774312872059745, 40.81483933475298), (30.7902253982087, 40.81810436476776), (30.790534347023847, 40.818145737648386), (30.80124262088376, 40.81883059325288), (30.810598127610525, 40.82431187750774), (30.81081319812792, 40.82442281684095), (30.81103893004642, 40.82451004048498), (30.8112727173252, 40.824572541456064), (30.844267586740404, 40.83151836296965), (30.84447361641258, 40.83155185026991), (30.844681861465222, 40.83156611992804), (30.844890533252094, 40.831561049379914), (30.864393554231814, 40.830180868030666), (30.9092131331501, 40.83534921848561), (30.95187596378321, 40.85483030575654), (30.952096363655937, 40.854917247040184), (30.95232467725239, 40.854980554167554), (30.968202639555507, 40.85849557593419), (30.968421789180173, 40.858532854690985), (30.968643546293805, 40.85854834811714), (30.96886575059968, 40.858541905279964), (31.045040814839332, 40.85256080026621), (31.156698255319224, 40.8499213716301), (31.156915535957662, 40.84990569711323), (31.157130285905634, 40.84986910440678), (31.16760394811196, 40.84755824341302), (31.167834587940494, 40.847494334304656), (31.168057144036904, 40.84740631221317), (31.16826910334814, 40.84729517106409), (31.168468072477655, 40.84716216583811), (31.168651804711093, 40.84700879840012), (31.16881822538567, 40.84683680054051), (31.179455156496434, 40.83460481189563), (31.266663085411, 40.788141055770396), (31.3161426\n",
      "2024-02-24 11:13:34,393 - 0 results returned.\n",
      "2024-02-24 11:13:34,409 - Searching catalog with search_parameters: {'datetime': '2024-01-01T00:00:00Z/2024-12-31T23:59:59Z', 'intersects': {'type': 'Polygon', 'coordinates': (((30.561469902723548, 40.757675868297596), (30.71620979692899, 40.792099699651004), (30.73882202462908, 40.79860495285483), (30.747173606831108, 40.80533553140583), (30.747361802150873, 40.80547180579962), (30.747563036018636, 40.805587965686186), (30.747775166699206, 40.805682774774056), (30.74799593648245, 40.80575522400863), (30.764446826467374, 40.810228324914284), (30.773799805996664, 40.814667731027676), (30.774051167792575, 40.81476899400867), (30.774312872059745, 40.81483933475298), (30.7902253982087, 40.81810436476776), (30.790534347023847, 40.818145737648386), (30.80124262088376, 40.81883059325288), (30.810598127610525, 40.82431187750774), (30.81081319812792, 40.82442281684095), (30.81103893004642, 40.82451004048498), (30.8112727173252, 40.824572541456064), (30.844267586740404, 40.83151836296965), (30.84447361641258, 40.83155185026991), (30.844681861465222, 40.83156611992804), (30.844890533252094, 40.831561049379914), (30.864393554231814, 40.830180868030666), (30.9092131331501, 40.83534921848561), (30.95187596378321, 40.85483030575654), (30.952096363655937, 40.854917247040184), (30.95232467725239, 40.854980554167554), (30.968202639555507, 40.85849557593419), (30.968421789180173, 40.858532854690985), (30.968643546293805, 40.85854834811714), (30.96886575059968, 40.858541905279964), (31.045040814839332, 40.85256080026621), (31.156698255319224, 40.8499213716301), (31.156915535957662, 40.84990569711323), (31.157130285905634, 40.84986910440678), (31.16760394811196, 40.84755824341302), (31.167834587940494, 40.847494334304656), (31.168057144036904, 40.84740631221317), (31.16826910334814, 40.84729517106409), (31.168468072477655, 40.84716216583811), (31.168651804711093, 40.84700879840012), (31.16881822538567, 40.84683680054051), (31.179455156496434, 40.83460481189563), (31.266663085411, 40.788141055770396), (31.3161426\n",
      "2024-02-24 11:13:34,874 - 0 results returned.\n",
      "2024-02-24 11:13:34,875 - Searching catalog with search_parameters: {'datetime': '2024-01-01T00:00:00Z/2024-12-31T23:59:59Z', 'intersects': {'type': 'Polygon', 'coordinates': (((30.561469902723548, 40.757675868297596), (30.71620979692899, 40.792099699651004), (30.73882202462908, 40.79860495285483), (30.747173606831108, 40.80533553140583), (30.747361802150873, 40.80547180579962), (30.747563036018636, 40.805587965686186), (30.747775166699206, 40.805682774774056), (30.74799593648245, 40.80575522400863), (30.764446826467374, 40.810228324914284), (30.773799805996664, 40.814667731027676), (30.774051167792575, 40.81476899400867), (30.774312872059745, 40.81483933475298), (30.7902253982087, 40.81810436476776), (30.790534347023847, 40.818145737648386), (30.80124262088376, 40.81883059325288), (30.810598127610525, 40.82431187750774), (30.81081319812792, 40.82442281684095), (30.81103893004642, 40.82451004048498), (30.8112727173252, 40.824572541456064), (30.844267586740404, 40.83151836296965), (30.84447361641258, 40.83155185026991), (30.844681861465222, 40.83156611992804), (30.844890533252094, 40.831561049379914), (30.864393554231814, 40.830180868030666), (30.9092131331501, 40.83534921848561), (30.95187596378321, 40.85483030575654), (30.952096363655937, 40.854917247040184), (30.95232467725239, 40.854980554167554), (30.968202639555507, 40.85849557593419), (30.968421789180173, 40.858532854690985), (30.968643546293805, 40.85854834811714), (30.96886575059968, 40.858541905279964), (31.045040814839332, 40.85256080026621), (31.156698255319224, 40.8499213716301), (31.156915535957662, 40.84990569711323), (31.157130285905634, 40.84986910440678), (31.16760394811196, 40.84755824341302), (31.167834587940494, 40.847494334304656), (31.168057144036904, 40.84740631221317), (31.16826910334814, 40.84729517106409), (31.168468072477655, 40.84716216583811), (31.168651804711093, 40.84700879840012), (31.16881822538567, 40.84683680054051), (31.179455156496434, 40.83460481189563), (31.266663085411, 40.788141055770396), (31.3161426\n",
      "2024-02-24 11:13:35,337 - 0 results returned.\n",
      "2024-02-24 11:13:35,337 - Searching catalog with search_parameters: {'datetime': '2024-01-01T00:00:00Z/2024-12-31T23:59:59Z', 'intersects': {'type': 'Polygon', 'coordinates': (((30.561469902723548, 40.757675868297596), (30.71620979692899, 40.792099699651004), (30.73882202462908, 40.79860495285483), (30.747173606831108, 40.80533553140583), (30.747361802150873, 40.80547180579962), (30.747563036018636, 40.805587965686186), (30.747775166699206, 40.805682774774056), (30.74799593648245, 40.80575522400863), (30.764446826467374, 40.810228324914284), (30.773799805996664, 40.814667731027676), (30.774051167792575, 40.81476899400867), (30.774312872059745, 40.81483933475298), (30.7902253982087, 40.81810436476776), (30.790534347023847, 40.818145737648386), (30.80124262088376, 40.81883059325288), (30.810598127610525, 40.82431187750774), (30.81081319812792, 40.82442281684095), (30.81103893004642, 40.82451004048498), (30.8112727173252, 40.824572541456064), (30.844267586740404, 40.83151836296965), (30.84447361641258, 40.83155185026991), (30.844681861465222, 40.83156611992804), (30.844890533252094, 40.831561049379914), (30.864393554231814, 40.830180868030666), (30.9092131331501, 40.83534921848561), (30.95187596378321, 40.85483030575654), (30.952096363655937, 40.854917247040184), (30.95232467725239, 40.854980554167554), (30.968202639555507, 40.85849557593419), (30.968421789180173, 40.858532854690985), (30.968643546293805, 40.85854834811714), (30.96886575059968, 40.858541905279964), (31.045040814839332, 40.85256080026621), (31.156698255319224, 40.8499213716301), (31.156915535957662, 40.84990569711323), (31.157130285905634, 40.84986910440678), (31.16760394811196, 40.84755824341302), (31.167834587940494, 40.847494334304656), (31.168057144036904, 40.84740631221317), (31.16826910334814, 40.84729517106409), (31.168468072477655, 40.84716216583811), (31.168651804711093, 40.84700879840012), (31.16881822538567, 40.84683680054051), (31.179455156496434, 40.83460481189563), (31.266663085411, 40.788141055770396), (31.3161426\n",
      "2024-02-24 11:13:35,730 - 0 results returned.\n",
      "2024-02-24 11:13:35,730 - Searching catalog with search_parameters: {'datetime': '2024-01-01T00:00:00Z/2024-12-31T23:59:59Z', 'intersects': {'type': 'Polygon', 'coordinates': (((30.561469902723548, 40.757675868297596), (30.71620979692899, 40.792099699651004), (30.73882202462908, 40.79860495285483), (30.747173606831108, 40.80533553140583), (30.747361802150873, 40.80547180579962), (30.747563036018636, 40.805587965686186), (30.747775166699206, 40.805682774774056), (30.74799593648245, 40.80575522400863), (30.764446826467374, 40.810228324914284), (30.773799805996664, 40.814667731027676), (30.774051167792575, 40.81476899400867), (30.774312872059745, 40.81483933475298), (30.7902253982087, 40.81810436476776), (30.790534347023847, 40.818145737648386), (30.80124262088376, 40.81883059325288), (30.810598127610525, 40.82431187750774), (30.81081319812792, 40.82442281684095), (30.81103893004642, 40.82451004048498), (30.8112727173252, 40.824572541456064), (30.844267586740404, 40.83151836296965), (30.84447361641258, 40.83155185026991), (30.844681861465222, 40.83156611992804), (30.844890533252094, 40.831561049379914), (30.864393554231814, 40.830180868030666), (30.9092131331501, 40.83534921848561), (30.95187596378321, 40.85483030575654), (30.952096363655937, 40.854917247040184), (30.95232467725239, 40.854980554167554), (30.968202639555507, 40.85849557593419), (30.968421789180173, 40.858532854690985), (30.968643546293805, 40.85854834811714), (30.96886575059968, 40.858541905279964), (31.045040814839332, 40.85256080026621), (31.156698255319224, 40.8499213716301), (31.156915535957662, 40.84990569711323), (31.157130285905634, 40.84986910440678), (31.16760394811196, 40.84755824341302), (31.167834587940494, 40.847494334304656), (31.168057144036904, 40.84740631221317), (31.16826910334814, 40.84729517106409), (31.168468072477655, 40.84716216583811), (31.168651804711093, 40.84700879840012), (31.16881822538567, 40.84683680054051), (31.179455156496434, 40.83460481189563), (31.266663085411, 40.788141055770396), (31.3161426\n",
      "2024-02-24 11:13:36,156 - 0 results returned.\n",
      "2024-02-24 11:13:36,156 - Searching catalog with search_parameters: {'datetime': '2024-01-01T00:00:00Z/2024-12-31T23:59:59Z', 'intersects': {'type': 'Polygon', 'coordinates': (((30.561469902723548, 40.757675868297596), (30.71620979692899, 40.792099699651004), (30.73882202462908, 40.79860495285483), (30.747173606831108, 40.80533553140583), (30.747361802150873, 40.80547180579962), (30.747563036018636, 40.805587965686186), (30.747775166699206, 40.805682774774056), (30.74799593648245, 40.80575522400863), (30.764446826467374, 40.810228324914284), (30.773799805996664, 40.814667731027676), (30.774051167792575, 40.81476899400867), (30.774312872059745, 40.81483933475298), (30.7902253982087, 40.81810436476776), (30.790534347023847, 40.818145737648386), (30.80124262088376, 40.81883059325288), (30.810598127610525, 40.82431187750774), (30.81081319812792, 40.82442281684095), (30.81103893004642, 40.82451004048498), (30.8112727173252, 40.824572541456064), (30.844267586740404, 40.83151836296965), (30.84447361641258, 40.83155185026991), (30.844681861465222, 40.83156611992804), (30.844890533252094, 40.831561049379914), (30.864393554231814, 40.830180868030666), (30.9092131331501, 40.83534921848561), (30.95187596378321, 40.85483030575654), (30.952096363655937, 40.854917247040184), (30.95232467725239, 40.854980554167554), (30.968202639555507, 40.85849557593419), (30.968421789180173, 40.858532854690985), (30.968643546293805, 40.85854834811714), (30.96886575059968, 40.858541905279964), (31.045040814839332, 40.85256080026621), (31.156698255319224, 40.8499213716301), (31.156915535957662, 40.84990569711323), (31.157130285905634, 40.84986910440678), (31.16760394811196, 40.84755824341302), (31.167834587940494, 40.847494334304656), (31.168057144036904, 40.84740631221317), (31.16826910334814, 40.84729517106409), (31.168468072477655, 40.84716216583811), (31.168651804711093, 40.84700879840012), (31.16881822538567, 40.84683680054051), (31.179455156496434, 40.83460481189563), (31.266663085411, 40.788141055770396), (31.3161426\n",
      "2024-02-24 11:13:36,556 - 0 results returned.\n",
      "2024-02-24 11:13:36,569 - Searching catalog with search_parameters: {'datetime': '2024-01-01T00:00:00Z/2024-12-31T23:59:59Z', 'intersects': {'type': 'Polygon', 'coordinates': (((30.561469902723548, 40.757675868297596), (30.71620979692899, 40.792099699651004), (30.73882202462908, 40.79860495285483), (30.747173606831108, 40.80533553140583), (30.747361802150873, 40.80547180579962), (30.747563036018636, 40.805587965686186), (30.747775166699206, 40.805682774774056), (30.74799593648245, 40.80575522400863), (30.764446826467374, 40.810228324914284), (30.773799805996664, 40.814667731027676), (30.774051167792575, 40.81476899400867), (30.774312872059745, 40.81483933475298), (30.7902253982087, 40.81810436476776), (30.790534347023847, 40.818145737648386), (30.80124262088376, 40.81883059325288), (30.810598127610525, 40.82431187750774), (30.81081319812792, 40.82442281684095), (30.81103893004642, 40.82451004048498), (30.8112727173252, 40.824572541456064), (30.844267586740404, 40.83151836296965), (30.84447361641258, 40.83155185026991), (30.844681861465222, 40.83156611992804), (30.844890533252094, 40.831561049379914), (30.864393554231814, 40.830180868030666), (30.9092131331501, 40.83534921848561), (30.95187596378321, 40.85483030575654), (30.952096363655937, 40.854917247040184), (30.95232467725239, 40.854980554167554), (30.968202639555507, 40.85849557593419), (30.968421789180173, 40.858532854690985), (30.968643546293805, 40.85854834811714), (30.96886575059968, 40.858541905279964), (31.045040814839332, 40.85256080026621), (31.156698255319224, 40.8499213716301), (31.156915535957662, 40.84990569711323), (31.157130285905634, 40.84986910440678), (31.16760394811196, 40.84755824341302), (31.167834587940494, 40.847494334304656), (31.168057144036904, 40.84740631221317), (31.16826910334814, 40.84729517106409), (31.168468072477655, 40.84716216583811), (31.168651804711093, 40.84700879840012), (31.16881822538567, 40.84683680054051), (31.179455156496434, 40.83460481189563), (31.266663085411, 40.788141055770396), (31.3161426\n",
      "2024-02-24 11:13:36,986 - 0 results returned.\n",
      "2024-02-24 11:13:36,990 - Searching catalog with search_parameters: {'datetime': '2024-01-01T00:00:00Z/2024-12-31T23:59:59Z', 'intersects': {'type': 'Polygon', 'coordinates': (((30.561469902723548, 40.757675868297596), (30.71620979692899, 40.792099699651004), (30.73882202462908, 40.79860495285483), (30.747173606831108, 40.80533553140583), (30.747361802150873, 40.80547180579962), (30.747563036018636, 40.805587965686186), (30.747775166699206, 40.805682774774056), (30.74799593648245, 40.80575522400863), (30.764446826467374, 40.810228324914284), (30.773799805996664, 40.814667731027676), (30.774051167792575, 40.81476899400867), (30.774312872059745, 40.81483933475298), (30.7902253982087, 40.81810436476776), (30.790534347023847, 40.818145737648386), (30.80124262088376, 40.81883059325288), (30.810598127610525, 40.82431187750774), (30.81081319812792, 40.82442281684095), (30.81103893004642, 40.82451004048498), (30.8112727173252, 40.824572541456064), (30.844267586740404, 40.83151836296965), (30.84447361641258, 40.83155185026991), (30.844681861465222, 40.83156611992804), (30.844890533252094, 40.831561049379914), (30.864393554231814, 40.830180868030666), (30.9092131331501, 40.83534921848561), (30.95187596378321, 40.85483030575654), (30.952096363655937, 40.854917247040184), (30.95232467725239, 40.854980554167554), (30.968202639555507, 40.85849557593419), (30.968421789180173, 40.858532854690985), (30.968643546293805, 40.85854834811714), (30.96886575059968, 40.858541905279964), (31.045040814839332, 40.85256080026621), (31.156698255319224, 40.8499213716301), (31.156915535957662, 40.84990569711323), (31.157130285905634, 40.84986910440678), (31.16760394811196, 40.84755824341302), (31.167834587940494, 40.847494334304656), (31.168057144036904, 40.84740631221317), (31.16826910334814, 40.84729517106409), (31.168468072477655, 40.84716216583811), (31.168651804711093, 40.84700879840012), (31.16881822538567, 40.84683680054051), (31.179455156496434, 40.83460481189563), (31.266663085411, 40.788141055770396), (31.3161426\n",
      "2024-02-24 11:13:37,426 - 0 results returned.\n",
      "2024-02-24 11:13:37,426 - Searching catalog with search_parameters: {'datetime': '2024-01-01T00:00:00Z/2024-12-31T23:59:59Z', 'intersects': {'type': 'Polygon', 'coordinates': (((30.561469902723548, 40.757675868297596), (30.71620979692899, 40.792099699651004), (30.73882202462908, 40.79860495285483), (30.747173606831108, 40.80533553140583), (30.747361802150873, 40.80547180579962), (30.747563036018636, 40.805587965686186), (30.747775166699206, 40.805682774774056), (30.74799593648245, 40.80575522400863), (30.764446826467374, 40.810228324914284), (30.773799805996664, 40.814667731027676), (30.774051167792575, 40.81476899400867), (30.774312872059745, 40.81483933475298), (30.7902253982087, 40.81810436476776), (30.790534347023847, 40.818145737648386), (30.80124262088376, 40.81883059325288), (30.810598127610525, 40.82431187750774), (30.81081319812792, 40.82442281684095), (30.81103893004642, 40.82451004048498), (30.8112727173252, 40.824572541456064), (30.844267586740404, 40.83151836296965), (30.84447361641258, 40.83155185026991), (30.844681861465222, 40.83156611992804), (30.844890533252094, 40.831561049379914), (30.864393554231814, 40.830180868030666), (30.9092131331501, 40.83534921848561), (30.95187596378321, 40.85483030575654), (30.952096363655937, 40.854917247040184), (30.95232467725239, 40.854980554167554), (30.968202639555507, 40.85849557593419), (30.968421789180173, 40.858532854690985), (30.968643546293805, 40.85854834811714), (30.96886575059968, 40.858541905279964), (31.045040814839332, 40.85256080026621), (31.156698255319224, 40.8499213716301), (31.156915535957662, 40.84990569711323), (31.157130285905634, 40.84986910440678), (31.16760394811196, 40.84755824341302), (31.167834587940494, 40.847494334304656), (31.168057144036904, 40.84740631221317), (31.16826910334814, 40.84729517106409), (31.168468072477655, 40.84716216583811), (31.168651804711093, 40.84700879840012), (31.16881822538567, 40.84683680054051), (31.179455156496434, 40.83460481189563), (31.266663085411, 40.788141055770396), (31.3161426\n",
      "2024-02-24 11:13:37,844 - 0 results returned.\n",
      "2024-02-24 11:13:37,844 - Searching catalog with search_parameters: {'datetime': '2024-01-01T00:00:00Z/2024-12-31T23:59:59Z', 'intersects': {'type': 'Polygon', 'coordinates': (((30.561469902723548, 40.757675868297596), (30.71620979692899, 40.792099699651004), (30.73882202462908, 40.79860495285483), (30.747173606831108, 40.80533553140583), (30.747361802150873, 40.80547180579962), (30.747563036018636, 40.805587965686186), (30.747775166699206, 40.805682774774056), (30.74799593648245, 40.80575522400863), (30.764446826467374, 40.810228324914284), (30.773799805996664, 40.814667731027676), (30.774051167792575, 40.81476899400867), (30.774312872059745, 40.81483933475298), (30.7902253982087, 40.81810436476776), (30.790534347023847, 40.818145737648386), (30.80124262088376, 40.81883059325288), (30.810598127610525, 40.82431187750774), (30.81081319812792, 40.82442281684095), (30.81103893004642, 40.82451004048498), (30.8112727173252, 40.824572541456064), (30.844267586740404, 40.83151836296965), (30.84447361641258, 40.83155185026991), (30.844681861465222, 40.83156611992804), (30.844890533252094, 40.831561049379914), (30.864393554231814, 40.830180868030666), (30.9092131331501, 40.83534921848561), (30.95187596378321, 40.85483030575654), (30.952096363655937, 40.854917247040184), (30.95232467725239, 40.854980554167554), (30.968202639555507, 40.85849557593419), (30.968421789180173, 40.858532854690985), (30.968643546293805, 40.85854834811714), (30.96886575059968, 40.858541905279964), (31.045040814839332, 40.85256080026621), (31.156698255319224, 40.8499213716301), (31.156915535957662, 40.84990569711323), (31.157130285905634, 40.84986910440678), (31.16760394811196, 40.84755824341302), (31.167834587940494, 40.847494334304656), (31.168057144036904, 40.84740631221317), (31.16826910334814, 40.84729517106409), (31.168468072477655, 40.84716216583811), (31.168651804711093, 40.84700879840012), (31.16881822538567, 40.84683680054051), (31.179455156496434, 40.83460481189563), (31.266663085411, 40.788141055770396), (31.3161426\n",
      "2024-02-24 11:13:38,294 - 0 results returned.\n",
      "2024-02-24 11:13:38,310 - Searching catalog with search_parameters: {'datetime': '2024-01-01T00:00:00Z/2024-12-31T23:59:59Z', 'intersects': {'type': 'Polygon', 'coordinates': (((30.561469902723548, 40.757675868297596), (30.71620979692899, 40.792099699651004), (30.73882202462908, 40.79860495285483), (30.747173606831108, 40.80533553140583), (30.747361802150873, 40.80547180579962), (30.747563036018636, 40.805587965686186), (30.747775166699206, 40.805682774774056), (30.74799593648245, 40.80575522400863), (30.764446826467374, 40.810228324914284), (30.773799805996664, 40.814667731027676), (30.774051167792575, 40.81476899400867), (30.774312872059745, 40.81483933475298), (30.7902253982087, 40.81810436476776), (30.790534347023847, 40.818145737648386), (30.80124262088376, 40.81883059325288), (30.810598127610525, 40.82431187750774), (30.81081319812792, 40.82442281684095), (30.81103893004642, 40.82451004048498), (30.8112727173252, 40.824572541456064), (30.844267586740404, 40.83151836296965), (30.84447361641258, 40.83155185026991), (30.844681861465222, 40.83156611992804), (30.844890533252094, 40.831561049379914), (30.864393554231814, 40.830180868030666), (30.9092131331501, 40.83534921848561), (30.95187596378321, 40.85483030575654), (30.952096363655937, 40.854917247040184), (30.95232467725239, 40.854980554167554), (30.968202639555507, 40.85849557593419), (30.968421789180173, 40.858532854690985), (30.968643546293805, 40.85854834811714), (30.96886575059968, 40.858541905279964), (31.045040814839332, 40.85256080026621), (31.156698255319224, 40.8499213716301), (31.156915535957662, 40.84990569711323), (31.157130285905634, 40.84986910440678), (31.16760394811196, 40.84755824341302), (31.167834587940494, 40.847494334304656), (31.168057144036904, 40.84740631221317), (31.16826910334814, 40.84729517106409), (31.168468072477655, 40.84716216583811), (31.168651804711093, 40.84700879840012), (31.16881822538567, 40.84683680054051), (31.179455156496434, 40.83460481189563), (31.266663085411, 40.788141055770396), (31.3161426\n",
      "2024-02-24 11:13:38,674 - 0 results returned.\n",
      "2024-02-24 11:13:38,674 - Searching catalog with search_parameters: {'datetime': '2024-01-01T00:00:00Z/2024-12-31T23:59:59Z', 'intersects': {'type': 'Polygon', 'coordinates': (((30.561469902723548, 40.757675868297596), (30.71620979692899, 40.792099699651004), (30.73882202462908, 40.79860495285483), (30.747173606831108, 40.80533553140583), (30.747361802150873, 40.80547180579962), (30.747563036018636, 40.805587965686186), (30.747775166699206, 40.805682774774056), (30.74799593648245, 40.80575522400863), (30.764446826467374, 40.810228324914284), (30.773799805996664, 40.814667731027676), (30.774051167792575, 40.81476899400867), (30.774312872059745, 40.81483933475298), (30.7902253982087, 40.81810436476776), (30.790534347023847, 40.818145737648386), (30.80124262088376, 40.81883059325288), (30.810598127610525, 40.82431187750774), (30.81081319812792, 40.82442281684095), (30.81103893004642, 40.82451004048498), (30.8112727173252, 40.824572541456064), (30.844267586740404, 40.83151836296965), (30.84447361641258, 40.83155185026991), (30.844681861465222, 40.83156611992804), (30.844890533252094, 40.831561049379914), (30.864393554231814, 40.830180868030666), (30.9092131331501, 40.83534921848561), (30.95187596378321, 40.85483030575654), (30.952096363655937, 40.854917247040184), (30.95232467725239, 40.854980554167554), (30.968202639555507, 40.85849557593419), (30.968421789180173, 40.858532854690985), (30.968643546293805, 40.85854834811714), (30.96886575059968, 40.858541905279964), (31.045040814839332, 40.85256080026621), (31.156698255319224, 40.8499213716301), (31.156915535957662, 40.84990569711323), (31.157130285905634, 40.84986910440678), (31.16760394811196, 40.84755824341302), (31.167834587940494, 40.847494334304656), (31.168057144036904, 40.84740631221317), (31.16826910334814, 40.84729517106409), (31.168468072477655, 40.84716216583811), (31.168651804711093, 40.84700879840012), (31.16881822538567, 40.84683680054051), (31.179455156496434, 40.83460481189563), (31.266663085411, 40.788141055770396), (31.3161426\n",
      "2024-02-24 11:13:39,070 - 0 results returned.\n",
      "2024-02-24 11:13:39,077 - Searching catalog with search_parameters: {'datetime': '2024-01-01T00:00:00Z/2024-12-31T23:59:59Z', 'intersects': {'type': 'Polygon', 'coordinates': (((30.561469902723548, 40.757675868297596), (30.71620979692899, 40.792099699651004), (30.73882202462908, 40.79860495285483), (30.747173606831108, 40.80533553140583), (30.747361802150873, 40.80547180579962), (30.747563036018636, 40.805587965686186), (30.747775166699206, 40.805682774774056), (30.74799593648245, 40.80575522400863), (30.764446826467374, 40.810228324914284), (30.773799805996664, 40.814667731027676), (30.774051167792575, 40.81476899400867), (30.774312872059745, 40.81483933475298), (30.7902253982087, 40.81810436476776), (30.790534347023847, 40.818145737648386), (30.80124262088376, 40.81883059325288), (30.810598127610525, 40.82431187750774), (30.81081319812792, 40.82442281684095), (30.81103893004642, 40.82451004048498), (30.8112727173252, 40.824572541456064), (30.844267586740404, 40.83151836296965), (30.84447361641258, 40.83155185026991), (30.844681861465222, 40.83156611992804), (30.844890533252094, 40.831561049379914), (30.864393554231814, 40.830180868030666), (30.9092131331501, 40.83534921848561), (30.95187596378321, 40.85483030575654), (30.952096363655937, 40.854917247040184), (30.95232467725239, 40.854980554167554), (30.968202639555507, 40.85849557593419), (30.968421789180173, 40.858532854690985), (30.968643546293805, 40.85854834811714), (30.96886575059968, 40.858541905279964), (31.045040814839332, 40.85256080026621), (31.156698255319224, 40.8499213716301), (31.156915535957662, 40.84990569711323), (31.157130285905634, 40.84986910440678), (31.16760394811196, 40.84755824341302), (31.167834587940494, 40.847494334304656), (31.168057144036904, 40.84740631221317), (31.16826910334814, 40.84729517106409), (31.168468072477655, 40.84716216583811), (31.168651804711093, 40.84700879840012), (31.16881822538567, 40.84683680054051), (31.179455156496434, 40.83460481189563), (31.266663085411, 40.788141055770396), (31.3161426\n",
      "2024-02-24 11:13:40,099 - 0 results returned.\n",
      "2024-02-24 11:13:40,115 - Searching catalog with search_parameters: {'datetime': '2024-01-01T00:00:00Z/2024-12-31T23:59:59Z', 'intersects': {'type': 'Polygon', 'coordinates': (((30.561469902723548, 40.757675868297596), (30.71620979692899, 40.792099699651004), (30.73882202462908, 40.79860495285483), (30.747173606831108, 40.80533553140583), (30.747361802150873, 40.80547180579962), (30.747563036018636, 40.805587965686186), (30.747775166699206, 40.805682774774056), (30.74799593648245, 40.80575522400863), (30.764446826467374, 40.810228324914284), (30.773799805996664, 40.814667731027676), (30.774051167792575, 40.81476899400867), (30.774312872059745, 40.81483933475298), (30.7902253982087, 40.81810436476776), (30.790534347023847, 40.818145737648386), (30.80124262088376, 40.81883059325288), (30.810598127610525, 40.82431187750774), (30.81081319812792, 40.82442281684095), (30.81103893004642, 40.82451004048498), (30.8112727173252, 40.824572541456064), (30.844267586740404, 40.83151836296965), (30.84447361641258, 40.83155185026991), (30.844681861465222, 40.83156611992804), (30.844890533252094, 40.831561049379914), (30.864393554231814, 40.830180868030666), (30.9092131331501, 40.83534921848561), (30.95187596378321, 40.85483030575654), (30.952096363655937, 40.854917247040184), (30.95232467725239, 40.854980554167554), (30.968202639555507, 40.85849557593419), (30.968421789180173, 40.858532854690985), (30.968643546293805, 40.85854834811714), (30.96886575059968, 40.858541905279964), (31.045040814839332, 40.85256080026621), (31.156698255319224, 40.8499213716301), (31.156915535957662, 40.84990569711323), (31.157130285905634, 40.84986910440678), (31.16760394811196, 40.84755824341302), (31.167834587940494, 40.847494334304656), (31.168057144036904, 40.84740631221317), (31.16826910334814, 40.84729517106409), (31.168468072477655, 40.84716216583811), (31.168651804711093, 40.84700879840012), (31.16881822538567, 40.84683680054051), (31.179455156496434, 40.83460481189563), (31.266663085411, 40.788141055770396), (31.3161426\n",
      "2024-02-24 11:13:40,470 - 0 results returned.\n",
      "2024-02-24 11:13:40,475 - Searching catalog with search_parameters: {'datetime': '2024-01-01T00:00:00Z/2024-12-31T23:59:59Z', 'intersects': {'type': 'Polygon', 'coordinates': (((30.561469902723548, 40.757675868297596), (30.71620979692899, 40.792099699651004), (30.73882202462908, 40.79860495285483), (30.747173606831108, 40.80533553140583), (30.747361802150873, 40.80547180579962), (30.747563036018636, 40.805587965686186), (30.747775166699206, 40.805682774774056), (30.74799593648245, 40.80575522400863), (30.764446826467374, 40.810228324914284), (30.773799805996664, 40.814667731027676), (30.774051167792575, 40.81476899400867), (30.774312872059745, 40.81483933475298), (30.7902253982087, 40.81810436476776), (30.790534347023847, 40.818145737648386), (30.80124262088376, 40.81883059325288), (30.810598127610525, 40.82431187750774), (30.81081319812792, 40.82442281684095), (30.81103893004642, 40.82451004048498), (30.8112727173252, 40.824572541456064), (30.844267586740404, 40.83151836296965), (30.84447361641258, 40.83155185026991), (30.844681861465222, 40.83156611992804), (30.844890533252094, 40.831561049379914), (30.864393554231814, 40.830180868030666), (30.9092131331501, 40.83534921848561), (30.95187596378321, 40.85483030575654), (30.952096363655937, 40.854917247040184), (30.95232467725239, 40.854980554167554), (30.968202639555507, 40.85849557593419), (30.968421789180173, 40.858532854690985), (30.968643546293805, 40.85854834811714), (30.96886575059968, 40.858541905279964), (31.045040814839332, 40.85256080026621), (31.156698255319224, 40.8499213716301), (31.156915535957662, 40.84990569711323), (31.157130285905634, 40.84986910440678), (31.16760394811196, 40.84755824341302), (31.167834587940494, 40.847494334304656), (31.168057144036904, 40.84740631221317), (31.16826910334814, 40.84729517106409), (31.168468072477655, 40.84716216583811), (31.168651804711093, 40.84700879840012), (31.16881822538567, 40.84683680054051), (31.179455156496434, 40.83460481189563), (31.266663085411, 40.788141055770396), (31.3161426\n",
      "2024-02-24 11:13:41,332 - 0 results returned.\n"
     ]
    }
   ],
   "source": [
    "def search_catalog(collections, geometry, start_date, end_date, max_cloudcover=20, limit=10):\n",
    "    \"\"\"\n",
    "    Search the catalog based on the specified parameters.\n",
    "    \n",
    "    Parameters:\n",
    "    - collections (list of str): Names of the collections to search.\n",
    "    - geometry (dict): Geometry of the area of interest.\n",
    "    - start_date (str): Start date of the search (YYYY-MM-DD).\n",
    "    - end_date (str): End date of the search (YYYY-MM-DD).\n",
    "    - max_cloudcover (int): Maximum cloud cover percentage allowed.\n",
    "    - limit (int): Maximum number of search results to return.\n",
    "    \n",
    "    Returns:\n",
    "    - search_results_df (DataFrame): Search results in DataFrame format.\n",
    "    \"\"\"\n",
    "    # Construct search parameters\n",
    "    search_parameters = catalog.construct_search_parameters(\n",
    "        collections=collections,\n",
    "        geometry=aoi,\n",
    "        start_date=start_date,\n",
    "        end_date=end_date,\n",
    "        max_cloudcover=max_cloudcover,\n",
    "        limit=limit\n",
    "    )\n",
    "    \n",
    "    # Search the catalog and retrieve results\n",
    "    search_results_df = catalog.search(search_parameters, as_dataframe=True)\n",
    "    \n",
    "    return search_results_df\n",
    "\n",
    "# Example usage:\n",
    "search_results_df_list = []\n",
    "for collection in catalog_names_array:\n",
    "    search_results_df = search_catalog([collection], aoi, start_date, end_date, max_cloudcover, limit)\n",
    "    search_results_df_list.append(search_results_df)\n",
    "\n",
    "# Concatenate all DataFrames into a single DataFrame\n",
    "combined_search_results_df = pd.concat(search_results_df_list, ignore_index=True)\n"
   ]
  },
  {
   "cell_type": "code",
   "execution_count": 128,
   "metadata": {},
   "outputs": [
    {
     "data": {
      "text/html": [
       "<div>\n",
       "<style scoped>\n",
       "    .dataframe tbody tr th:only-of-type {\n",
       "        vertical-align: middle;\n",
       "    }\n",
       "\n",
       "    .dataframe tbody tr th {\n",
       "        vertical-align: top;\n",
       "    }\n",
       "\n",
       "    .dataframe thead th {\n",
       "        text-align: right;\n",
       "    }\n",
       "</style>\n",
       "<table border=\"1\" class=\"dataframe\">\n",
       "  <thead>\n",
       "    <tr style=\"text-align: right;\">\n",
       "      <th></th>\n",
       "      <th>geometry</th>\n",
       "      <th>id</th>\n",
       "      <th>constellation</th>\n",
       "      <th>collection</th>\n",
       "      <th>providerName</th>\n",
       "      <th>up42:usageType</th>\n",
       "      <th>providerProperties</th>\n",
       "      <th>sceneId</th>\n",
       "      <th>producer</th>\n",
       "      <th>acquisitionDate</th>\n",
       "      <th>start_datetime</th>\n",
       "      <th>end_datetime</th>\n",
       "      <th>cloudCoverage</th>\n",
       "      <th>resolution</th>\n",
       "      <th>deliveryTime</th>\n",
       "    </tr>\n",
       "  </thead>\n",
       "  <tbody>\n",
       "    <tr>\n",
       "      <th>0</th>\n",
       "      <td>POLYGON ((32.46374 40.97894, 32.42784 40.97887...</td>\n",
       "      <td>c2986682-6872-4f9c-9e70-626ca278a933</td>\n",
       "      <td>phr</td>\n",
       "      <td>phr</td>\n",
       "      <td>oneatlas</td>\n",
       "      <td>[DATA]</td>\n",
       "      <td>{'qualified': False, 'acquisitionStation': 'SV...</td>\n",
       "      <td>c2986682-6872-4f9c-9e70-626ca278a933</td>\n",
       "      <td>airbus</td>\n",
       "      <td>2024-02-06T08:48:40Z</td>\n",
       "      <td>None</td>\n",
       "      <td>None</td>\n",
       "      <td>19.6</td>\n",
       "      <td>0.5</td>\n",
       "      <td>HOURS</td>\n",
       "    </tr>\n",
       "  </tbody>\n",
       "</table>\n",
       "</div>"
      ],
      "text/plain": [
       "                                            geometry  \\\n",
       "0  POLYGON ((32.46374 40.97894, 32.42784 40.97887...   \n",
       "\n",
       "                                     id constellation collection providerName  \\\n",
       "0  c2986682-6872-4f9c-9e70-626ca278a933           phr        phr     oneatlas   \n",
       "\n",
       "  up42:usageType                                 providerProperties  \\\n",
       "0         [DATA]  {'qualified': False, 'acquisitionStation': 'SV...   \n",
       "\n",
       "                                sceneId producer       acquisitionDate  \\\n",
       "0  c2986682-6872-4f9c-9e70-626ca278a933   airbus  2024-02-06T08:48:40Z   \n",
       "\n",
       "  start_datetime end_datetime  cloudCoverage  resolution deliveryTime  \n",
       "0           None         None           19.6         0.5        HOURS  "
      ]
     },
     "execution_count": 128,
     "metadata": {},
     "output_type": "execute_result"
    }
   ],
   "source": [
    "combined_search_results_df "
   ]
  },
  {
   "cell_type": "code",
   "execution_count": null,
   "metadata": {},
   "outputs": [],
   "source": [
    "search_results_df"
   ]
  },
  {
   "cell_type": "code",
   "execution_count": null,
   "metadata": {},
   "outputs": [],
   "source": [
    "search_results_df\n",
    "image_id = search_results_df['id'].values\n",
    "image_id"
   ]
  },
  {
   "cell_type": "code",
   "execution_count": null,
   "metadata": {},
   "outputs": [],
   "source": [
    "catalog.download_quicklooks(\n",
    "    image_ids=image_id,\n",
    "    collection='pneo',\n",
    "    output_directory=\"./quicklooks/\",\n",
    ")"
   ]
  },
  {
   "cell_type": "markdown",
   "metadata": {},
   "source": [
    "Export search results to a vector file that can be ingested into a GIS or plotted in jupyter\n",
    "notebook"
   ]
  },
  {
   "cell_type": "markdown",
   "metadata": {},
   "source": [
    "3. Estimate the cost"
   ]
  },
  {
   "cell_type": "code",
   "execution_count": null,
   "metadata": {},
   "outputs": [],
   "source": [
    "catalog.map_quicklooks(scenes=search_results_df, aoi=aoi)"
   ]
  },
  {
   "cell_type": "code",
   "execution_count": null,
   "metadata": {},
   "outputs": [],
   "source": [
    "# Place and track the order of your selected scene\n",
    "order_parameters = catalog.construct_order_parameters(\n",
    "    data_product_id=data_product_id, image_id=search_results.id[0])\n",
    "catalog.estimate_order(order_parameters)\n",
    "order = catalog.place_order(order_parameters, track_status=True)"
   ]
  },
  {
   "cell_type": "code",
   "execution_count": null,
   "metadata": {},
   "outputs": [],
   "source": [
    "https://github.com/up42/documentation-notebooks/blob/main/processing/requests_pansharpening.ipynb"
   ]
  },
  {
   "cell_type": "code",
   "execution_count": null,
   "metadata": {},
   "outputs": [],
   "source": [
    "# Stream cloud-native files directly for your use case\n",
    "asset = up42.initialize_order(order_id=order.order_id).get_assets()[0]\n",
    "stac_items = asset.stac_items\n",
    "asset.get_stac_asset_url(stac_asset=stac_items[0].assets.get(\"b02.tiff\"))"
   ]
  },
  {
   "cell_type": "markdown",
   "metadata": {},
   "source": [
    "coverage in square kilometers and in percentage"
   ]
  },
  {
   "cell_type": "code",
   "execution_count": null,
   "metadata": {},
   "outputs": [],
   "source": []
  },
  {
   "cell_type": "markdown",
   "metadata": {},
   "source": [
    "suggestions for the areas that are not covered by API integrated catalog data."
   ]
  }
 ],
 "metadata": {
  "kernelspec": {
   "display_name": "ox",
   "language": "python",
   "name": "python3"
  },
  "language_info": {
   "codemirror_mode": {
    "name": "ipython",
    "version": 3
   },
   "file_extension": ".py",
   "mimetype": "text/x-python",
   "name": "python",
   "nbconvert_exporter": "python",
   "pygments_lexer": "ipython3",
   "version": "3.10.6"
  }
 },
 "nbformat": 4,
 "nbformat_minor": 2
}
