{
 "cells": [
  {
   "cell_type": "markdown",
   "metadata": {},
   "source": [
    "Install"
   ]
  },
  {
   "cell_type": "code",
   "execution_count": null,
   "metadata": {},
   "outputs": [],
   "source": [
    "#!pip install geoplot\n",
    "#!pip install geojsonio\n",
    "#!pip install up42-py\n",
    "#!pip install ipyleaflet"
   ]
  },
  {
   "cell_type": "markdown",
   "metadata": {},
   "source": [
    "Import"
   ]
  },
  {
   "cell_type": "code",
   "execution_count": null,
   "metadata": {},
   "outputs": [],
   "source": [
    "import geopandas as gpd\n",
    "import folium\n",
    "import up42"
   ]
  },
  {
   "cell_type": "markdown",
   "metadata": {},
   "source": [
    "### Explore test site "
   ]
  },
  {
   "cell_type": "markdown",
   "metadata": {},
   "source": [
    "read road alignment file"
   ]
  },
  {
   "cell_type": "code",
   "execution_count": null,
   "metadata": {},
   "outputs": [],
   "source": [
    "road_alignment = gpd.read_file('./road_alignment.geojson')"
   ]
  },
  {
   "cell_type": "code",
   "execution_count": null,
   "metadata": {},
   "outputs": [],
   "source": [
    "road_alignment.crs"
   ]
  },
  {
   "cell_type": "code",
   "execution_count": null,
   "metadata": {},
   "outputs": [],
   "source": [
    "# Read the GeoJSON file\n",
    "road_alignment = gpd.read_file('./road_alignment.geojson')\n",
    "\n",
    "# Transform coordinate system\n",
    "road_alignment = road_alignment.to_crs('EPSG:4326')  # Change to WGS84 if needed\n",
    "\n",
    "# Create a buffer around the line geometry\n",
    "buffer_distance = 0.001  \n",
    "road_alignment_buffer = road_alignment.buffer(buffer_distance)\n",
    "\n",
    "# Convert GeoDataFrame to GeoJSON object\n",
    "geojson_data_buffer = road_alignment_buffer.to_json()\n",
    "geojson_data_line = road_alignment.to_json()\n",
    "\n",
    "# Create a base map\n",
    "m = folium.Map(location=[road_alignment.geometry.centroid.y.mean(), road_alignment.geometry.centroid.x.mean()], zoom_start=10)\n",
    "\n",
    "# Add the buffer layer to the map\n",
    "folium.GeoJson(geojson_data_buffer, name='Buffer').add_to(m)\n",
    "\n",
    "# Add the original line layer to the map\n",
    "folium.GeoJson(geojson_data_line, name='Road Alignment').add_to(m)\n",
    "\n",
    "# Add layer control\n",
    "folium.LayerControl().add_to(m)\n",
    "\n",
    "# Show the map\n",
    "m\n"
   ]
  },
  {
   "cell_type": "code",
   "execution_count": null,
   "metadata": {},
   "outputs": [],
   "source": [
    "# Convert the buffer to a GeoDataFrame\n",
    "road_alignment_buffer_gdf = gpd.GeoDataFrame(geometry=road_alignment_buffer, crs='EPSG:4326')\n",
    "\n",
    "# Save the buffer as a GeoJSON file\n",
    "aoi = 'road_alignment_buffer.geojson'\n",
    "road_alignment_buffer_gdf.to_file(aoi, driver='GeoJSON')"
   ]
  },
  {
   "cell_type": "markdown",
   "metadata": {},
   "source": [
    "### UP42 catalog data exploration"
   ]
  },
  {
   "cell_type": "code",
   "execution_count": null,
   "metadata": {},
   "outputs": [],
   "source": [
    "up42.authenticate(cfg_file=\"credentials.json\")"
   ]
  },
  {
   "cell_type": "code",
   "execution_count": null,
   "metadata": {},
   "outputs": [],
   "source": [
    "aoi = up42.read_vector_file(aoi, as_dataframe=False)"
   ]
  },
  {
   "cell_type": "code",
   "execution_count": null,
   "metadata": {},
   "outputs": [],
   "source": [
    "# Identify the right data product for your use-case\n",
    "catalog = up42.initialize_catalog()\n",
    "data_product_id = catalog.get_data_products(basic=True).get(\"Sentinel-2\").get(\"data_products\").get(\"Level-2A\")\n",
    "data_products = catalog.get_data_products(basic=True)"
   ]
  },
  {
   "cell_type": "code",
   "execution_count": null,
   "metadata": {},
   "outputs": [],
   "source": [
    "# Search and select the right scene for your use-case\n",
    "search_results = catalog.search(search_parameters=catalog.construct_search_parameters(\n",
    "    geometry=aoi,\n",
    "    start_date=\"2023-05-01\", end_date=\"2023-09-30\",\n",
    "    collections=[data_products.get(\"Sentinel-2\").get(\"collection\")],\n",
    "    max_cloudcover=10, limit=10))"
   ]
  },
  {
   "cell_type": "code",
   "execution_count": null,
   "metadata": {},
   "outputs": [],
   "source": [
    "# Place and track the order of your selected scene\n",
    "order_parameters = catalog.construct_order_parameters(\n",
    "    data_product_id=data_product_id, image_id=search_results.id[0])\n",
    "catalog.estimate_order(order_parameters)\n",
    "order = catalog.place_order(order_parameters, track_status=True)"
   ]
  },
  {
   "cell_type": "code",
   "execution_count": null,
   "metadata": {},
   "outputs": [],
   "source": [
    "# Stream cloud-native files directly for your use case\n",
    "asset = up42.initialize_order(order_id=order.order_id).get_assets()[0]\n",
    "stac_items = asset.stac_items\n",
    "asset.get_stac_asset_url(stac_asset=stac_items[0].assets.get(\"b02.tiff\"))"
   ]
  },
  {
   "cell_type": "code",
   "execution_count": null,
   "metadata": {},
   "outputs": [],
   "source": []
  }
 ],
 "metadata": {
  "kernelspec": {
   "display_name": "ox",
   "language": "python",
   "name": "python3"
  },
  "language_info": {
   "codemirror_mode": {
    "name": "ipython",
    "version": 3
   },
   "file_extension": ".py",
   "mimetype": "text/x-python",
   "name": "python",
   "nbconvert_exporter": "python",
   "pygments_lexer": "ipython3",
   "version": "3.10.6"
  }
 },
 "nbformat": 4,
 "nbformat_minor": 2
}
